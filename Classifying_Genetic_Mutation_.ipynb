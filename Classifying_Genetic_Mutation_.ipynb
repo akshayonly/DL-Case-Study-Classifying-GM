{
  "nbformat": 4,
  "nbformat_minor": 0,
  "metadata": {
    "colab": {
      "name": "Classifying Genetic Mutation .ipynb",
      "provenance": [],
      "collapsed_sections": [
        "mBe56vIs7lPY",
        "ydM2grwpBHCv",
        "MT5YXL3I72yM",
        "41pxRC-PO3s-",
        "iZYFl72WixF-",
        "5aiMZBGm7mEv"
      ],
      "machine_shape": "hm"
    },
    "kernelspec": {
      "display_name": "Python 3",
      "name": "python3"
    }
  },
  "cells": [
    {
      "cell_type": "markdown",
      "metadata": {
        "id": "jouhKmTG7ZBK"
      },
      "source": [
        "# Classifying Genetic Mutation \n",
        "\n",
        "\n",
        "\n",
        "1. Packages\n",
        "\n",
        "   1. Downloading Sent2Vec and Installing\n",
        "\n",
        "2. Downloading data\n",
        "\n",
        "3. Preprocessing data\n",
        "\n",
        "4. Primary data analysis\n",
        "\n",
        "5. Data featurization\n",
        "\n",
        "   1. Text Feature\n",
        "\n",
        "      - Traditional NLP: TF-IDF \n",
        "\n",
        "      - Using pre-trained model\n",
        "        - Downloading BioSent2Vec\n",
        "        - Loading BioSent2Vec\n",
        "        - Applying BioSent2Vec on TEXT\n",
        "   2. Categorical Features\n",
        "      - Response encoding\n",
        "      - One-hot encoding\n",
        "\n",
        "6. Secondary data analysis\n",
        "\n",
        "   1. Visualizing high dimensional text features by t-SNE\n",
        "   2. Visualizing Gene & Variation features by  t-SNE\n",
        "\n",
        "7. ML model building\n",
        "\n",
        "   1. Linear models\n",
        "      1. SVM \n",
        "         1. RBF Kernel\n",
        "         2. Linear kernel\n",
        "      2. Logistic Regression (SGD)\n",
        "   2. Tree-base models\n",
        "      1. Decision tree\n",
        "\n",
        "8. Conclusion\n",
        "   "
      ]
    },
    {
      "cell_type": "markdown",
      "metadata": {
        "id": "x5yE3E367k6x"
      },
      "source": [
        "<a name=\"cell-id1\"></a>\n",
        "# Packages"
      ]
    },
    {
      "cell_type": "markdown",
      "metadata": {
        "id": "wruviFgX_COA"
      },
      "source": [
        "## Downloading Sent2Vec and Installing"
      ]
    },
    {
      "cell_type": "code",
      "metadata": {
        "id": "NtHnUbla7lGA",
        "colab": {
          "base_uri": "https://localhost:8080/"
        },
        "outputId": "86ff9f05-aeb3-430b-fc69-1951017d9f98"
      },
      "source": [
        "! curl --header 'Host: codeload.github.com' --user-agent 'Mozilla/5.0 (Windows NT 10.0; Win64; x64; rv:86.0) Gecko/20100101 Firefox/86.0' --header 'Accept: text/html,application/xhtml+xml,application/xml;q=0.9,image/webp,*/*;q=0.8' --header 'Accept-Language: en-US,en;q=0.5' --referer 'https://github.com/epfml/sent2vec' --header 'DNT: 1' --cookie '_octo=GH1.1.1157954504.1616399111; logged_in=yes; tz=Asia%2FKolkata; color_mode=%7B%22color_mode%22%3A%22dark%22%2C%22light_theme%22%3A%7B%22name%22%3A%22light%22%2C%22color_mode%22%3A%22light%22%7D%2C%22dark_theme%22%3A%7B%22name%22%3A%22dark%22%2C%22color_mode%22%3A%22dark%22%7D%7D; dotcom_user=akshayonly' --header 'Upgrade-Insecure-Requests: 1' --header 'Sec-GPC: 1' 'https://codeload.github.com/epfml/sent2vec/zip/refs/heads/master' --output 'sent2vec-master.zip'\n",
        "! unzip sent2vec-master && cd sent2vec-master && make && pip install ."
      ],
      "execution_count": 1,
      "outputs": [
        {
          "output_type": "stream",
          "text": [
            "  % Total    % Received % Xferd  Average Speed   Time    Time     Time  Current\n",
            "                                 Dload  Upload   Total   Spent    Left  Speed\n",
            "100  355k    0  355k    0     0   567k      0 --:--:-- --:--:-- --:--:--  566k\n",
            "Archive:  sent2vec-master.zip\n",
            "f00a1b67f4330e5be99e7cc31ac28df94deed9ac\n",
            "   creating: sent2vec-master/\n",
            "  inflating: sent2vec-master/.gitignore  \n",
            "  inflating: sent2vec-master/Dockerfile  \n",
            "  inflating: sent2vec-master/LICENSE  \n",
            "  inflating: sent2vec-master/Makefile  \n",
            "  inflating: sent2vec-master/README.md  \n",
            "  inflating: sent2vec-master/get_sentence_embeddings_from_pre-trained_models.ipynb  \n",
            "  inflating: sent2vec-master/paper-sent2vec.pdf  \n",
            " extracting: sent2vec-master/requirements.txt  \n",
            "  inflating: sent2vec-master/setup.py  \n",
            "   creating: sent2vec-master/src/\n",
            "  inflating: sent2vec-master/src/args.cc  \n",
            "  inflating: sent2vec-master/src/args.h  \n",
            "  inflating: sent2vec-master/src/asvoid.h  \n",
            "  inflating: sent2vec-master/src/dictionary.cc  \n",
            "  inflating: sent2vec-master/src/dictionary.h  \n",
            "  inflating: sent2vec-master/src/fasttext.cc  \n",
            "  inflating: sent2vec-master/src/fasttext.h  \n",
            "  inflating: sent2vec-master/src/main.cc  \n",
            "  inflating: sent2vec-master/src/matrix.cc  \n",
            "  inflating: sent2vec-master/src/matrix.h  \n",
            "  inflating: sent2vec-master/src/model.cc  \n",
            "  inflating: sent2vec-master/src/model.h  \n",
            "  inflating: sent2vec-master/src/productquantizer.cc  \n",
            "  inflating: sent2vec-master/src/productquantizer.h  \n",
            "  inflating: sent2vec-master/src/qmatrix.cc  \n",
            "  inflating: sent2vec-master/src/qmatrix.h  \n",
            " extracting: sent2vec-master/src/real.cc  \n",
            "  inflating: sent2vec-master/src/real.h  \n",
            "  inflating: sent2vec-master/src/sent2vec.pyx  \n",
            "  inflating: sent2vec-master/src/shmem_matrix.cc  \n",
            "  inflating: sent2vec-master/src/shmem_matrix.h  \n",
            "  inflating: sent2vec-master/src/utils.cc  \n",
            "  inflating: sent2vec-master/src/utils.h  \n",
            "  inflating: sent2vec-master/src/vector.cc  \n",
            "  inflating: sent2vec-master/src/vector.h  \n",
            "  inflating: sent2vec-master/tweetTokenize.py  \n",
            "  inflating: sent2vec-master/wikiTokenize.py  \n",
            "c++ -pthread -std=c++0x -O3 -funroll-loops -c src/args.cc\n",
            "c++ -pthread -std=c++0x -O3 -funroll-loops -c src/dictionary.cc\n",
            "c++ -pthread -std=c++0x -O3 -funroll-loops -c src/productquantizer.cc\n",
            "c++ -pthread -std=c++0x -O3 -funroll-loops -c src/matrix.cc\n",
            "c++ -pthread -std=c++0x -O3 -funroll-loops -c src/shmem_matrix.cc\n",
            "c++ -pthread -std=c++0x -O3 -funroll-loops -c src/qmatrix.cc\n",
            "c++ -pthread -std=c++0x -O3 -funroll-loops -c src/vector.cc\n",
            "c++ -pthread -std=c++0x -O3 -funroll-loops -c src/model.cc\n",
            "c++ -pthread -std=c++0x -O3 -funroll-loops -c src/utils.cc\n",
            "c++ -pthread -std=c++0x -O3 -funroll-loops -c src/fasttext.cc\n",
            "c++ -pthread -std=c++0x -O3 -funroll-loops args.o dictionary.o productquantizer.o matrix.o shmem_matrix.o qmatrix.o vector.o model.o utils.o fasttext.o src/main.cc -o fasttext -lrt\n",
            "Processing /content/sent2vec-master\n",
            "Building wheels for collected packages: sent2vec\n",
            "  Building wheel for sent2vec (setup.py) ... \u001b[?25l\u001b[?25hdone\n",
            "  Created wheel for sent2vec: filename=sent2vec-0.0.0-cp37-cp37m-linux_x86_64.whl size=1130686 sha256=4e073737c723f3e3dca194b20d0748d2bf50c8801bcf7630da3b1762b7b1d495\n",
            "  Stored in directory: /root/.cache/pip/wheels/a9/dd/f2/76590466765cd40cd6f9dfec695622ba27892c20ad038a8010\n",
            "Successfully built sent2vec\n",
            "Installing collected packages: sent2vec\n",
            "Successfully installed sent2vec-0.0.0\n"
          ],
          "name": "stdout"
        }
      ]
    },
    {
      "cell_type": "markdown",
      "metadata": {
        "id": "EzSCjO3Y_Ov_"
      },
      "source": [
        "## Libraries"
      ]
    },
    {
      "cell_type": "code",
      "metadata": {
        "colab": {
          "base_uri": "https://localhost:8080/"
        },
        "id": "hrvct_1P_Rw5",
        "outputId": "7d7189e3-2689-47bf-8eab-dd1958965105"
      },
      "source": [
        "import pandas as pd\n",
        "import numpy as np\n",
        "import matplotlib.pyplot as plt  \n",
        "import seaborn as sns\n",
        "\n",
        "import re\n",
        "from tqdm import tqdm\n",
        "from datetime import datetime\n",
        "\n",
        "import sent2vec\n",
        "\n",
        "import nltk\n",
        "from nltk import word_tokenize\n",
        "from nltk.corpus import stopwords\n",
        "from string import punctuation\n",
        "\n",
        "from sklearn.manifold import TSNE\n",
        "from sklearn.preprocessing import OneHotEncoder, LabelEncoder\n",
        "from sklearn.feature_extraction.text import CountVectorizer, TfidfVectorizer\n",
        "from sklearn.preprocessing import normalize, StandardScaler\n",
        "from sklearn.model_selection import GridSearchCV, train_test_split\n",
        "from sklearn.metrics import plot_confusion_matrix, roc_auc_score\n",
        "\n",
        "from sklearn.svm import SVC\n",
        "from sklearn.linear_model import SGDClassifier\n",
        "from sklearn.naive_bayes import GaussianNB\n",
        "from sklearn.tree import DecisionTreeClassifier\n",
        "from sklearn.ensemble import RandomForestClassifier\n",
        "\n",
        "import warnings\n",
        "warnings.filterwarnings(\"ignore\")\n",
        "\n",
        "nltk.download('stopwords')\n",
        "nltk.download('punkt')"
      ],
      "execution_count": 88,
      "outputs": [
        {
          "output_type": "stream",
          "text": [
            "[nltk_data] Downloading package stopwords to /root/nltk_data...\n",
            "[nltk_data]   Package stopwords is already up-to-date!\n",
            "[nltk_data] Downloading package punkt to /root/nltk_data...\n",
            "[nltk_data]   Package punkt is already up-to-date!\n"
          ],
          "name": "stdout"
        },
        {
          "output_type": "execute_result",
          "data": {
            "text/plain": [
              "True"
            ]
          },
          "metadata": {
            "tags": []
          },
          "execution_count": 88
        }
      ]
    },
    {
      "cell_type": "code",
      "metadata": {
        "colab": {
          "base_uri": "https://localhost:8080/"
        },
        "id": "OFvOC2p3qnZ6",
        "outputId": "bd78af38-1981-4328-b8c9-90a3577708ab"
      },
      "source": [
        "from google.colab import drive\n",
        "drive.mount('/content/drive')"
      ],
      "execution_count": 3,
      "outputs": [
        {
          "output_type": "stream",
          "text": [
            "Mounted at /content/drive\n"
          ],
          "name": "stdout"
        }
      ]
    },
    {
      "cell_type": "markdown",
      "metadata": {
        "id": "mBe56vIs7lPY"
      },
      "source": [
        "# Downloading data"
      ]
    },
    {
      "cell_type": "code",
      "metadata": {
        "id": "GwN3ojXU7lWQ",
        "colab": {
          "base_uri": "https://localhost:8080/"
        },
        "outputId": "742e99e1-f60c-4af3-c2f8-f2fc4cfa18f5"
      },
      "source": [
        "# Train Texts\n",
        "! curl --header 'Host: storage.googleapis.com' --user-agent 'Mozilla/5.0 (Windows NT 10.0; Win64; x64; rv:86.0) Gecko/20100101 Firefox/86.0' --header 'Accept: text/html,application/xhtml+xml,application/xml;q=0.9,image/webp,*/*;q=0.8' --header 'Accept-Language: en-US,en;q=0.5' --referer 'https://www.kaggle.com/' --header 'DNT: 1' --header 'Upgrade-Insecure-Requests: 1' --header 'Sec-GPC: 1' 'https://storage.googleapis.com/kagglesdsdata/competitions/6841/44307/training_text.zip?GoogleAccessId=web-data@kaggle-161607.iam.gserviceaccount.com&Expires=1616748114&Signature=PCcLSRN0v8r2loPEYY0WdqNPem%2FsZHwTMCEGUtJrTLuW0LvOZ5lt6kl7nB%2FMKpqe67FN1%2BPDuZvC%2B8QWg6wIXLWEmz0f0UE0x5yYW5suq7AaRzedE8A6HZuDRj9mmhb1lYhksZL04ZAB2VYADur90n%2Fyhpsgt6aQ5VuEKWGHQuYH7k4X7NDkTPmfC0cTp4qujfz5I%2BagifBdFnZj%2FQMzMH2onbMJi4%2FAY806%2FDsEPQ5YKZZ4bNqOyjTNrEDWcdKu1TVQSlmrTnwOykSNK1s7viy%2Bhnrx2trZa8LvEMiP2GxDXsnFcK7IdhPJWevk5UX9m9d3vXi%2BVsJLoJuTiizezw%3D%3D&response-content-disposition=attachment%3B+filename%3Dtraining_text.zip' --output 'training_text.zip' && unzip training_text.zip\n",
        "\n",
        "# Train Variants\n",
        "! curl --header 'Host: storage.googleapis.com' --user-agent 'Mozilla/5.0 (Windows NT 10.0; Win64; x64; rv:86.0) Gecko/20100101 Firefox/86.0' --header 'Accept: text/html,application/xhtml+xml,application/xml;q=0.9,image/webp,*/*;q=0.8' --header 'Accept-Language: en-US,en;q=0.5' --referer 'https://www.kaggle.com/' --header 'DNT: 1' --header 'Upgrade-Insecure-Requests: 1' --header 'Sec-GPC: 1' 'https://storage.googleapis.com/kagglesdsdata/competitions/6841/44307/training_variants.zip?GoogleAccessId=web-data@kaggle-161607.iam.gserviceaccount.com&Expires=1616748147&Signature=HYq8rHWpYzz%2B2hIPZV6XWullEV0yQ3oepX6SicRqb5EU6MFOwznQLKprpTK2M2yiS3yvzVz%2Bzft0tlkQBFgF33JTwgSv3aZubyUvowDUrWHqYho%2FYnzWl8sJXl0x9nIFon4hU8rdg9JMbve9nyVvz%2F28fYUaapk73c7ZWC5SYOmPzSwgEKnxDsW8Vn2G4U6fe34i4JW1FveXebIA9wtYBG6%2F%2FC8Soh46d5qTI%2B6LHIo%2BmaIXmnL7jmpNpuL3wFmbN6tMTUG1f7yPOhRKreglmXUVFjDqqnkWRmvfwAHdzr%2FdpgKw4Ahu2EivDehaewTy%2B%2BTyOKDLutNgxj2nfbWfVA%3D%3D&response-content-disposition=attachment%3B+filename%3Dtraining_variants.zip' --output 'training_variants.zip' && unzip training_variants.zip"
      ],
      "execution_count": 4,
      "outputs": [
        {
          "output_type": "stream",
          "text": [
            "  % Total    % Received % Xferd  Average Speed   Time    Time     Time  Current\n",
            "                                 Dload  Upload   Total   Spent    Left  Speed\n",
            "100 60.9M  100 60.9M    0     0  35.1M      0  0:00:01  0:00:01 --:--:-- 35.1M\n",
            "Archive:  training_text.zip\n",
            "  inflating: training_text           \n",
            "  % Total    % Received % Xferd  Average Speed   Time    Time     Time  Current\n",
            "                                 Dload  Upload   Total   Spent    Left  Speed\n",
            "100 24831  100 24831    0     0  34875      0 --:--:-- --:--:-- --:--:-- 34875\n",
            "Archive:  training_variants.zip\n",
            "  inflating: training_variants       \n"
          ],
          "name": "stdout"
        }
      ]
    },
    {
      "cell_type": "code",
      "metadata": {
        "colab": {
          "base_uri": "https://localhost:8080/"
        },
        "id": "nz1dFeT2APov",
        "outputId": "f7719eb3-3fe0-4c03-a4e0-b664c387bd49"
      },
      "source": [
        "! ls -I *.zip"
      ],
      "execution_count": 5,
      "outputs": [
        {
          "output_type": "stream",
          "text": [
            "training_text.zip  training_variants.zip\n"
          ],
          "name": "stdout"
        }
      ]
    },
    {
      "cell_type": "markdown",
      "metadata": {
        "id": "nWvm9iCU7lcA"
      },
      "source": [
        "<a name=\"cell-id3\"></a>\n",
        "# Data Preprocessing"
      ]
    },
    {
      "cell_type": "code",
      "metadata": {
        "id": "1669sder7lhg",
        "colab": {
          "base_uri": "https://localhost:8080/",
          "height": 206
        },
        "outputId": "85c1f3ee-7f90-488d-974a-834c0d5b337c"
      },
      "source": [
        "variants_data = pd.read_csv('/content/training_variants', index_col=False)\n",
        "variants_data.head()"
      ],
      "execution_count": 6,
      "outputs": [
        {
          "output_type": "execute_result",
          "data": {
            "text/html": [
              "<div>\n",
              "<style scoped>\n",
              "    .dataframe tbody tr th:only-of-type {\n",
              "        vertical-align: middle;\n",
              "    }\n",
              "\n",
              "    .dataframe tbody tr th {\n",
              "        vertical-align: top;\n",
              "    }\n",
              "\n",
              "    .dataframe thead th {\n",
              "        text-align: right;\n",
              "    }\n",
              "</style>\n",
              "<table border=\"1\" class=\"dataframe\">\n",
              "  <thead>\n",
              "    <tr style=\"text-align: right;\">\n",
              "      <th></th>\n",
              "      <th>ID</th>\n",
              "      <th>Gene</th>\n",
              "      <th>Variation</th>\n",
              "      <th>Class</th>\n",
              "    </tr>\n",
              "  </thead>\n",
              "  <tbody>\n",
              "    <tr>\n",
              "      <th>0</th>\n",
              "      <td>0</td>\n",
              "      <td>FAM58A</td>\n",
              "      <td>Truncating Mutations</td>\n",
              "      <td>1</td>\n",
              "    </tr>\n",
              "    <tr>\n",
              "      <th>1</th>\n",
              "      <td>1</td>\n",
              "      <td>CBL</td>\n",
              "      <td>W802*</td>\n",
              "      <td>2</td>\n",
              "    </tr>\n",
              "    <tr>\n",
              "      <th>2</th>\n",
              "      <td>2</td>\n",
              "      <td>CBL</td>\n",
              "      <td>Q249E</td>\n",
              "      <td>2</td>\n",
              "    </tr>\n",
              "    <tr>\n",
              "      <th>3</th>\n",
              "      <td>3</td>\n",
              "      <td>CBL</td>\n",
              "      <td>N454D</td>\n",
              "      <td>3</td>\n",
              "    </tr>\n",
              "    <tr>\n",
              "      <th>4</th>\n",
              "      <td>4</td>\n",
              "      <td>CBL</td>\n",
              "      <td>L399V</td>\n",
              "      <td>4</td>\n",
              "    </tr>\n",
              "  </tbody>\n",
              "</table>\n",
              "</div>"
            ],
            "text/plain": [
              "   ID    Gene             Variation  Class\n",
              "0   0  FAM58A  Truncating Mutations      1\n",
              "1   1     CBL                 W802*      2\n",
              "2   2     CBL                 Q249E      2\n",
              "3   3     CBL                 N454D      3\n",
              "4   4     CBL                 L399V      4"
            ]
          },
          "metadata": {
            "tags": []
          },
          "execution_count": 6
        }
      ]
    },
    {
      "cell_type": "code",
      "metadata": {
        "colab": {
          "base_uri": "https://localhost:8080/",
          "height": 206
        },
        "id": "BN0eVok5Ar5W",
        "outputId": "efdfd807-aa46-43ca-aebe-461dc9995a17"
      },
      "source": [
        "texts_data = pd.read_csv('/content/training_text', \n",
        "                         sep=\"\\|\\|\", \n",
        "                         engine=\"python\", \n",
        "                         names=[\"ID\",\"TEXT\"], \n",
        "                         skiprows=1)\n",
        "\n",
        "texts_data.head()"
      ],
      "execution_count": 7,
      "outputs": [
        {
          "output_type": "execute_result",
          "data": {
            "text/html": [
              "<div>\n",
              "<style scoped>\n",
              "    .dataframe tbody tr th:only-of-type {\n",
              "        vertical-align: middle;\n",
              "    }\n",
              "\n",
              "    .dataframe tbody tr th {\n",
              "        vertical-align: top;\n",
              "    }\n",
              "\n",
              "    .dataframe thead th {\n",
              "        text-align: right;\n",
              "    }\n",
              "</style>\n",
              "<table border=\"1\" class=\"dataframe\">\n",
              "  <thead>\n",
              "    <tr style=\"text-align: right;\">\n",
              "      <th></th>\n",
              "      <th>ID</th>\n",
              "      <th>TEXT</th>\n",
              "    </tr>\n",
              "  </thead>\n",
              "  <tbody>\n",
              "    <tr>\n",
              "      <th>0</th>\n",
              "      <td>0</td>\n",
              "      <td>Cyclin-dependent kinases (CDKs) regulate a var...</td>\n",
              "    </tr>\n",
              "    <tr>\n",
              "      <th>1</th>\n",
              "      <td>1</td>\n",
              "      <td>Abstract Background  Non-small cell lung canc...</td>\n",
              "    </tr>\n",
              "    <tr>\n",
              "      <th>2</th>\n",
              "      <td>2</td>\n",
              "      <td>Abstract Background  Non-small cell lung canc...</td>\n",
              "    </tr>\n",
              "    <tr>\n",
              "      <th>3</th>\n",
              "      <td>3</td>\n",
              "      <td>Recent evidence has demonstrated that acquired...</td>\n",
              "    </tr>\n",
              "    <tr>\n",
              "      <th>4</th>\n",
              "      <td>4</td>\n",
              "      <td>Oncogenic mutations in the monomeric Casitas B...</td>\n",
              "    </tr>\n",
              "  </tbody>\n",
              "</table>\n",
              "</div>"
            ],
            "text/plain": [
              "   ID                                               TEXT\n",
              "0   0  Cyclin-dependent kinases (CDKs) regulate a var...\n",
              "1   1   Abstract Background  Non-small cell lung canc...\n",
              "2   2   Abstract Background  Non-small cell lung canc...\n",
              "3   3  Recent evidence has demonstrated that acquired...\n",
              "4   4  Oncogenic mutations in the monomeric Casitas B..."
            ]
          },
          "metadata": {
            "tags": []
          },
          "execution_count": 7
        }
      ]
    },
    {
      "cell_type": "markdown",
      "metadata": {
        "id": "ydM2grwpBHCv"
      },
      "source": [
        "## Merging variants and texts dataframes"
      ]
    },
    {
      "cell_type": "code",
      "metadata": {
        "colab": {
          "base_uri": "https://localhost:8080/",
          "height": 0
        },
        "id": "65BIIpmKA_BI",
        "outputId": "7c3fff98-4287-4274-940e-81ae311a8527"
      },
      "source": [
        "data = pd.merge(texts_data, variants_data, on='ID', how='left')\n",
        "\n",
        "data.head()"
      ],
      "execution_count": 8,
      "outputs": [
        {
          "output_type": "execute_result",
          "data": {
            "text/html": [
              "<div>\n",
              "<style scoped>\n",
              "    .dataframe tbody tr th:only-of-type {\n",
              "        vertical-align: middle;\n",
              "    }\n",
              "\n",
              "    .dataframe tbody tr th {\n",
              "        vertical-align: top;\n",
              "    }\n",
              "\n",
              "    .dataframe thead th {\n",
              "        text-align: right;\n",
              "    }\n",
              "</style>\n",
              "<table border=\"1\" class=\"dataframe\">\n",
              "  <thead>\n",
              "    <tr style=\"text-align: right;\">\n",
              "      <th></th>\n",
              "      <th>ID</th>\n",
              "      <th>TEXT</th>\n",
              "      <th>Gene</th>\n",
              "      <th>Variation</th>\n",
              "      <th>Class</th>\n",
              "    </tr>\n",
              "  </thead>\n",
              "  <tbody>\n",
              "    <tr>\n",
              "      <th>0</th>\n",
              "      <td>0</td>\n",
              "      <td>Cyclin-dependent kinases (CDKs) regulate a var...</td>\n",
              "      <td>FAM58A</td>\n",
              "      <td>Truncating Mutations</td>\n",
              "      <td>1</td>\n",
              "    </tr>\n",
              "    <tr>\n",
              "      <th>1</th>\n",
              "      <td>1</td>\n",
              "      <td>Abstract Background  Non-small cell lung canc...</td>\n",
              "      <td>CBL</td>\n",
              "      <td>W802*</td>\n",
              "      <td>2</td>\n",
              "    </tr>\n",
              "    <tr>\n",
              "      <th>2</th>\n",
              "      <td>2</td>\n",
              "      <td>Abstract Background  Non-small cell lung canc...</td>\n",
              "      <td>CBL</td>\n",
              "      <td>Q249E</td>\n",
              "      <td>2</td>\n",
              "    </tr>\n",
              "    <tr>\n",
              "      <th>3</th>\n",
              "      <td>3</td>\n",
              "      <td>Recent evidence has demonstrated that acquired...</td>\n",
              "      <td>CBL</td>\n",
              "      <td>N454D</td>\n",
              "      <td>3</td>\n",
              "    </tr>\n",
              "    <tr>\n",
              "      <th>4</th>\n",
              "      <td>4</td>\n",
              "      <td>Oncogenic mutations in the monomeric Casitas B...</td>\n",
              "      <td>CBL</td>\n",
              "      <td>L399V</td>\n",
              "      <td>4</td>\n",
              "    </tr>\n",
              "  </tbody>\n",
              "</table>\n",
              "</div>"
            ],
            "text/plain": [
              "   ID  ... Class\n",
              "0   0  ...     1\n",
              "1   1  ...     2\n",
              "2   2  ...     2\n",
              "3   3  ...     3\n",
              "4   4  ...     4\n",
              "\n",
              "[5 rows x 5 columns]"
            ]
          },
          "metadata": {
            "tags": []
          },
          "execution_count": 8
        }
      ]
    },
    {
      "cell_type": "markdown",
      "metadata": {
        "id": "aqv3ivpiBBw2"
      },
      "source": [
        "## Highlevel overview"
      ]
    },
    {
      "cell_type": "code",
      "metadata": {
        "colab": {
          "base_uri": "https://localhost:8080/"
        },
        "id": "kyOmk1BJA--N",
        "outputId": "92ee7839-f398-4c0f-e73d-47816febb5e7"
      },
      "source": [
        "data.info()"
      ],
      "execution_count": 9,
      "outputs": [
        {
          "output_type": "stream",
          "text": [
            "<class 'pandas.core.frame.DataFrame'>\n",
            "Int64Index: 3321 entries, 0 to 3320\n",
            "Data columns (total 5 columns):\n",
            " #   Column     Non-Null Count  Dtype \n",
            "---  ------     --------------  ----- \n",
            " 0   ID         3321 non-null   int64 \n",
            " 1   TEXT       3316 non-null   object\n",
            " 2   Gene       3321 non-null   object\n",
            " 3   Variation  3321 non-null   object\n",
            " 4   Class      3321 non-null   int64 \n",
            "dtypes: int64(2), object(3)\n",
            "memory usage: 155.7+ KB\n"
          ],
          "name": "stdout"
        }
      ]
    },
    {
      "cell_type": "markdown",
      "metadata": {
        "id": "kgBDpnCuBaJ3"
      },
      "source": [
        "1. There are 3321 entries in the dataframe.\n",
        "2. Leaving ``Class`` column which is numerical representation of genetic mutation classes, rest are object datatype i.e. categorical and text.\n",
        "3. The ``TEXT`` column have 05 entries lesser than the total 3321, we'd look at them later."
      ]
    },
    {
      "cell_type": "code",
      "metadata": {
        "colab": {
          "base_uri": "https://localhost:8080/"
        },
        "id": "mgFJytm6A_EN",
        "outputId": "bc3cf085-b79f-48da-e2a6-d0d456e0bbda"
      },
      "source": [
        "data['Class'].describe()"
      ],
      "execution_count": 10,
      "outputs": [
        {
          "output_type": "execute_result",
          "data": {
            "text/plain": [
              "count    3321.000000\n",
              "mean        4.365854\n",
              "std         2.309781\n",
              "min         1.000000\n",
              "25%         2.000000\n",
              "50%         4.000000\n",
              "75%         7.000000\n",
              "max         9.000000\n",
              "Name: Class, dtype: float64"
            ]
          },
          "metadata": {
            "tags": []
          },
          "execution_count": 10
        }
      ]
    },
    {
      "cell_type": "code",
      "metadata": {
        "id": "akxa9G7TCutQ"
      },
      "source": [
        "# Removing from memory (RAM) as we're gonna load an 22GB pretrained model later\n",
        "# we need to do some memory hacks. \n",
        "\n",
        "%xdel variants_data\n",
        "%xdel texts_data"
      ],
      "execution_count": 11,
      "outputs": []
    },
    {
      "cell_type": "markdown",
      "metadata": {
        "id": "2MYd74DIDWGc"
      },
      "source": [
        "## Preprocessing"
      ]
    },
    {
      "cell_type": "markdown",
      "metadata": {
        "id": "u0QN8Qz6DjME"
      },
      "source": [
        "### NaN values"
      ]
    },
    {
      "cell_type": "code",
      "metadata": {
        "colab": {
          "base_uri": "https://localhost:8080/",
          "height": 206
        },
        "id": "m_isjD0JDazv",
        "outputId": "9f13bee8-2e4c-43ae-ce4b-58c557b8c7da"
      },
      "source": [
        "data[data.isnull().any(axis=1)]"
      ],
      "execution_count": 12,
      "outputs": [
        {
          "output_type": "execute_result",
          "data": {
            "text/html": [
              "<div>\n",
              "<style scoped>\n",
              "    .dataframe tbody tr th:only-of-type {\n",
              "        vertical-align: middle;\n",
              "    }\n",
              "\n",
              "    .dataframe tbody tr th {\n",
              "        vertical-align: top;\n",
              "    }\n",
              "\n",
              "    .dataframe thead th {\n",
              "        text-align: right;\n",
              "    }\n",
              "</style>\n",
              "<table border=\"1\" class=\"dataframe\">\n",
              "  <thead>\n",
              "    <tr style=\"text-align: right;\">\n",
              "      <th></th>\n",
              "      <th>ID</th>\n",
              "      <th>TEXT</th>\n",
              "      <th>Gene</th>\n",
              "      <th>Variation</th>\n",
              "      <th>Class</th>\n",
              "    </tr>\n",
              "  </thead>\n",
              "  <tbody>\n",
              "    <tr>\n",
              "      <th>1109</th>\n",
              "      <td>1109</td>\n",
              "      <td>NaN</td>\n",
              "      <td>FANCA</td>\n",
              "      <td>S1088F</td>\n",
              "      <td>1</td>\n",
              "    </tr>\n",
              "    <tr>\n",
              "      <th>1277</th>\n",
              "      <td>1277</td>\n",
              "      <td>NaN</td>\n",
              "      <td>ARID5B</td>\n",
              "      <td>Truncating Mutations</td>\n",
              "      <td>1</td>\n",
              "    </tr>\n",
              "    <tr>\n",
              "      <th>1407</th>\n",
              "      <td>1407</td>\n",
              "      <td>NaN</td>\n",
              "      <td>FGFR3</td>\n",
              "      <td>K508M</td>\n",
              "      <td>6</td>\n",
              "    </tr>\n",
              "    <tr>\n",
              "      <th>1639</th>\n",
              "      <td>1639</td>\n",
              "      <td>NaN</td>\n",
              "      <td>FLT1</td>\n",
              "      <td>Amplification</td>\n",
              "      <td>6</td>\n",
              "    </tr>\n",
              "    <tr>\n",
              "      <th>2755</th>\n",
              "      <td>2755</td>\n",
              "      <td>NaN</td>\n",
              "      <td>BRAF</td>\n",
              "      <td>G596C</td>\n",
              "      <td>7</td>\n",
              "    </tr>\n",
              "  </tbody>\n",
              "</table>\n",
              "</div>"
            ],
            "text/plain": [
              "        ID TEXT    Gene             Variation  Class\n",
              "1109  1109  NaN   FANCA                S1088F      1\n",
              "1277  1277  NaN  ARID5B  Truncating Mutations      1\n",
              "1407  1407  NaN   FGFR3                 K508M      6\n",
              "1639  1639  NaN    FLT1         Amplification      6\n",
              "2755  2755  NaN    BRAF                 G596C      7"
            ]
          },
          "metadata": {
            "tags": []
          },
          "execution_count": 12
        }
      ]
    },
    {
      "cell_type": "markdown",
      "metadata": {
        "id": "AJcCVNjODvvd"
      },
      "source": [
        "- There are 05 rows in the data in the ``'TEXT'`` column which are NaN\n",
        "- We'd  remove them, as these are text base and we cannot replace them with other values."
      ]
    },
    {
      "cell_type": "code",
      "metadata": {
        "id": "RdcdQP0MDte1"
      },
      "source": [
        "data.dropna(subset = [\"TEXT\"], inplace=True)"
      ],
      "execution_count": 13,
      "outputs": []
    },
    {
      "cell_type": "markdown",
      "metadata": {
        "id": "ip49_cOAD-gW"
      },
      "source": [
        "### Standard NLP preprocessing\n",
        "- Removing stop words\n",
        "- Removing puntuations"
      ]
    },
    {
      "cell_type": "code",
      "metadata": {
        "id": "86lVcdRhEMsc"
      },
      "source": [
        "stop_words = set(stopwords.words('english'))\n",
        "\n",
        "def text_processing(text):\n",
        "  \"\"\"Processing the sentence (single entry).\"\"\"\n",
        "\n",
        "  text = re.sub('\\s+',' ', text)\n",
        "  text = re.sub('[^a-zA-Z0-9\\n]', ' ', text)\n",
        "  text = text.lower()\n",
        "\n",
        "  tokens = [token for token in word_tokenize(text) if token not in punctuation and token not in stop_words]\n",
        "\n",
        "  return ' '.join(tokens)"
      ],
      "execution_count": 14,
      "outputs": []
    },
    {
      "cell_type": "code",
      "metadata": {
        "colab": {
          "base_uri": "https://localhost:8080/"
        },
        "id": "yy63nX5KFB8f",
        "outputId": "7731125b-a5d4-4487-a323-49ba531e6862"
      },
      "source": [
        "for index, text in tqdm(data.TEXT.iteritems()):\n",
        "  data[\"TEXT\"][index] = text_processing(text)"
      ],
      "execution_count": 15,
      "outputs": [
        {
          "output_type": "stream",
          "text": [
            "3316it [02:36, 21.12it/s]\n"
          ],
          "name": "stderr"
        }
      ]
    },
    {
      "cell_type": "code",
      "metadata": {
        "id": "ahOIACHQqRT3"
      },
      "source": [
        "data.Gene = data.Gene.str.replace(' ', '_')\n",
        "data.Variation = data.Variation.str.replace(' ', '_')"
      ],
      "execution_count": 16,
      "outputs": []
    },
    {
      "cell_type": "code",
      "metadata": {
        "colab": {
          "base_uri": "https://localhost:8080/",
          "height": 112
        },
        "id": "dF_Vhlp4GAVs",
        "outputId": "1ae2b7de-50c6-4b60-9e37-296dc27ceb70"
      },
      "source": [
        "data.head(2)"
      ],
      "execution_count": 17,
      "outputs": [
        {
          "output_type": "execute_result",
          "data": {
            "text/html": [
              "<div>\n",
              "<style scoped>\n",
              "    .dataframe tbody tr th:only-of-type {\n",
              "        vertical-align: middle;\n",
              "    }\n",
              "\n",
              "    .dataframe tbody tr th {\n",
              "        vertical-align: top;\n",
              "    }\n",
              "\n",
              "    .dataframe thead th {\n",
              "        text-align: right;\n",
              "    }\n",
              "</style>\n",
              "<table border=\"1\" class=\"dataframe\">\n",
              "  <thead>\n",
              "    <tr style=\"text-align: right;\">\n",
              "      <th></th>\n",
              "      <th>ID</th>\n",
              "      <th>TEXT</th>\n",
              "      <th>Gene</th>\n",
              "      <th>Variation</th>\n",
              "      <th>Class</th>\n",
              "    </tr>\n",
              "  </thead>\n",
              "  <tbody>\n",
              "    <tr>\n",
              "      <th>0</th>\n",
              "      <td>0</td>\n",
              "      <td>cyclin dependent kinases cdks regulate variety...</td>\n",
              "      <td>FAM58A</td>\n",
              "      <td>Truncating_Mutations</td>\n",
              "      <td>1</td>\n",
              "    </tr>\n",
              "    <tr>\n",
              "      <th>1</th>\n",
              "      <td>1</td>\n",
              "      <td>abstract background non small cell lung cancer...</td>\n",
              "      <td>CBL</td>\n",
              "      <td>W802*</td>\n",
              "      <td>2</td>\n",
              "    </tr>\n",
              "  </tbody>\n",
              "</table>\n",
              "</div>"
            ],
            "text/plain": [
              "   ID  ... Class\n",
              "0   0  ...     1\n",
              "1   1  ...     2\n",
              "\n",
              "[2 rows x 5 columns]"
            ]
          },
          "metadata": {
            "tags": []
          },
          "execution_count": 17
        }
      ]
    },
    {
      "cell_type": "code",
      "metadata": {
        "id": "cNdy4oaDpAom"
      },
      "source": [
        "# Copying newly created dataframe into csv\n",
        "data.to_csv('CGM-processed.csv', index=False)"
      ],
      "execution_count": 18,
      "outputs": []
    },
    {
      "cell_type": "code",
      "metadata": {
        "id": "b3lqKmLyqiSm"
      },
      "source": [
        "# Copying to google drive\n",
        "!cp -r /content/CGM-processed.csv /content/drive/MyDrive/Data/CGV-Data"
      ],
      "execution_count": 19,
      "outputs": []
    },
    {
      "cell_type": "markdown",
      "metadata": {
        "id": "MT5YXL3I72yM"
      },
      "source": [
        "<a name=\"cell-id4\"></a>\n",
        "# Primary data analysis"
      ]
    },
    {
      "cell_type": "code",
      "metadata": {
        "id": "spDsXUXn73Ba"
      },
      "source": [
        ""
      ],
      "execution_count": 19,
      "outputs": []
    },
    {
      "cell_type": "markdown",
      "metadata": {
        "id": "CPHUige47lmo"
      },
      "source": [
        "<a name=\"cell-id5\"></a>\n",
        "# Data featurization"
      ]
    },
    {
      "cell_type": "code",
      "metadata": {
        "id": "xtgfxEW6kflm"
      },
      "source": [
        "y = LabelEncoder().fit_transform(np.array(data['Class']))"
      ],
      "execution_count": 66,
      "outputs": []
    },
    {
      "cell_type": "code",
      "metadata": {
        "id": "MNaAKZY4JO3y"
      },
      "source": [
        "X = data[data.columns[1:4]]"
      ],
      "execution_count": 21,
      "outputs": []
    },
    {
      "cell_type": "code",
      "metadata": {
        "id": "SsiCRJAVoEHY"
      },
      "source": [
        "# Splitting the data into train and test\n",
        "\n",
        "x_train, x_test, y_train, y_test = train_test_split(X, y, test_size=0.33, \n",
        "                                                    stratify=y,\n",
        "                                                    random_state=42)"
      ],
      "execution_count": 22,
      "outputs": []
    },
    {
      "cell_type": "code",
      "metadata": {
        "colab": {
          "base_uri": "https://localhost:8080/"
        },
        "id": "tqHQex8FJd8S",
        "outputId": "5e1a42be-fefe-4aea-dcdb-48c1fe2238cb"
      },
      "source": [
        "x_train.shape"
      ],
      "execution_count": 23,
      "outputs": [
        {
          "output_type": "execute_result",
          "data": {
            "text/plain": [
              "(2221, 3)"
            ]
          },
          "metadata": {
            "tags": []
          },
          "execution_count": 23
        }
      ]
    },
    {
      "cell_type": "code",
      "metadata": {
        "colab": {
          "base_uri": "https://localhost:8080/"
        },
        "id": "ldQzK73nJfiY",
        "outputId": "614ee621-e8c4-4e94-d364-155faf508d7c"
      },
      "source": [
        "x_test.shape"
      ],
      "execution_count": 24,
      "outputs": [
        {
          "output_type": "execute_result",
          "data": {
            "text/plain": [
              "(1095, 3)"
            ]
          },
          "metadata": {
            "tags": []
          },
          "execution_count": 24
        }
      ]
    },
    {
      "cell_type": "code",
      "metadata": {
        "colab": {
          "base_uri": "https://localhost:8080/",
          "height": 206
        },
        "id": "ViKH2TJtJhyP",
        "outputId": "2fd5cae4-bd50-4541-c0de-2b71b5392802"
      },
      "source": [
        "x_test.head()"
      ],
      "execution_count": 25,
      "outputs": [
        {
          "output_type": "execute_result",
          "data": {
            "text/html": [
              "<div>\n",
              "<style scoped>\n",
              "    .dataframe tbody tr th:only-of-type {\n",
              "        vertical-align: middle;\n",
              "    }\n",
              "\n",
              "    .dataframe tbody tr th {\n",
              "        vertical-align: top;\n",
              "    }\n",
              "\n",
              "    .dataframe thead th {\n",
              "        text-align: right;\n",
              "    }\n",
              "</style>\n",
              "<table border=\"1\" class=\"dataframe\">\n",
              "  <thead>\n",
              "    <tr style=\"text-align: right;\">\n",
              "      <th></th>\n",
              "      <th>TEXT</th>\n",
              "      <th>Gene</th>\n",
              "      <th>Variation</th>\n",
              "    </tr>\n",
              "  </thead>\n",
              "  <tbody>\n",
              "    <tr>\n",
              "      <th>2163</th>\n",
              "      <td>pten phosphatase tensin homolog phosphatase un...</td>\n",
              "      <td>PTEN</td>\n",
              "      <td>G129R</td>\n",
              "    </tr>\n",
              "    <tr>\n",
              "      <th>1966</th>\n",
              "      <td>screened 75 primary hepatocellular carcinomas ...</td>\n",
              "      <td>CTNNB1</td>\n",
              "      <td>S37C</td>\n",
              "    </tr>\n",
              "    <tr>\n",
              "      <th>240</th>\n",
              "      <td>abstract malignant pleural effusions mpes ofte...</td>\n",
              "      <td>EGFR</td>\n",
              "      <td>E746_T751delinsVA</td>\n",
              "    </tr>\n",
              "    <tr>\n",
              "      <th>2558</th>\n",
              "      <td>abstract germline mutations inactivate tumor s...</td>\n",
              "      <td>BRCA1</td>\n",
              "      <td>P1806A</td>\n",
              "    </tr>\n",
              "    <tr>\n",
              "      <th>1629</th>\n",
              "      <td>map2k4 encodes dual specificity kinase mitogen...</td>\n",
              "      <td>MAP2K4</td>\n",
              "      <td>V321M</td>\n",
              "    </tr>\n",
              "  </tbody>\n",
              "</table>\n",
              "</div>"
            ],
            "text/plain": [
              "                                                   TEXT  ...          Variation\n",
              "2163  pten phosphatase tensin homolog phosphatase un...  ...              G129R\n",
              "1966  screened 75 primary hepatocellular carcinomas ...  ...               S37C\n",
              "240   abstract malignant pleural effusions mpes ofte...  ...  E746_T751delinsVA\n",
              "2558  abstract germline mutations inactivate tumor s...  ...             P1806A\n",
              "1629  map2k4 encodes dual specificity kinase mitogen...  ...              V321M\n",
              "\n",
              "[5 rows x 3 columns]"
            ]
          },
          "metadata": {
            "tags": []
          },
          "execution_count": 25
        }
      ]
    },
    {
      "cell_type": "markdown",
      "metadata": {
        "id": "WVUJLMKsJ_X5"
      },
      "source": [
        "## Categorical"
      ]
    },
    {
      "cell_type": "markdown",
      "metadata": {
        "id": "UNfvPV_0JxYv"
      },
      "source": [
        "### One-hot encoding"
      ]
    },
    {
      "cell_type": "code",
      "metadata": {
        "id": "p4mElYKVKxDv"
      },
      "source": [
        "gene_ohe = CountVectorizer()\n",
        "ohe_tr_gene = gene_ohe.fit_transform(np.array(x_train['Gene']))\n",
        "ohe_ts_gene = gene_ohe.transform(np.array(x_test['Gene']))"
      ],
      "execution_count": 26,
      "outputs": []
    },
    {
      "cell_type": "code",
      "metadata": {
        "id": "S_nlVRMuiAYF"
      },
      "source": [
        "# Normalising the values\n",
        "ohe_tr_gene=normalize(ohe_tr_gene, axis=0)\n",
        "ohe_ts_gene=normalize(ohe_ts_gene, axis=0)"
      ],
      "execution_count": 60,
      "outputs": []
    },
    {
      "cell_type": "code",
      "metadata": {
        "colab": {
          "base_uri": "https://localhost:8080/"
        },
        "id": "Tznz2bKiK-MF",
        "outputId": "cdc1018b-d8b2-4bb3-d84d-f7ac08d65617"
      },
      "source": [
        "ohe_ts_gene.todense().shape"
      ],
      "execution_count": 61,
      "outputs": [
        {
          "output_type": "execute_result",
          "data": {
            "text/plain": [
              "(1095, 227)"
            ]
          },
          "metadata": {
            "tags": []
          },
          "execution_count": 61
        }
      ]
    },
    {
      "cell_type": "code",
      "metadata": {
        "id": "hOsS4xQqn3r8"
      },
      "source": [
        "var_ohe = CountVectorizer()\n",
        "ohe_tr_var = var_ohe.fit_transform(np.array(x_train['Variation']))\n",
        "ohe_ts_var = var_ohe.transform(np.array(x_test['Variation']))"
      ],
      "execution_count": 28,
      "outputs": []
    },
    {
      "cell_type": "code",
      "metadata": {
        "id": "bMtvC-lMiUnE"
      },
      "source": [
        "# Normalising the values\n",
        "ohe_tr_var=normalize(ohe_tr_var, axis=0)\n",
        "ohe_ts_var=normalize(ohe_ts_var, axis=0)"
      ],
      "execution_count": 62,
      "outputs": []
    },
    {
      "cell_type": "code",
      "metadata": {
        "colab": {
          "base_uri": "https://localhost:8080/"
        },
        "id": "-VB2t1ozNyyQ",
        "outputId": "1000618c-3b5e-49f0-acb0-1c753998666f"
      },
      "source": [
        "ohe_ts_var.shape"
      ],
      "execution_count": 63,
      "outputs": [
        {
          "output_type": "execute_result",
          "data": {
            "text/plain": [
              "(1095, 2051)"
            ]
          },
          "metadata": {
            "tags": []
          },
          "execution_count": 63
        }
      ]
    },
    {
      "cell_type": "markdown",
      "metadata": {
        "id": "Ooe3vztHJzzY"
      },
      "source": [
        "### Response-encoding"
      ]
    },
    {
      "cell_type": "code",
      "metadata": {
        "id": "UhW-xWGXOJ6R"
      },
      "source": [
        "def probabilities(x, y, class_label):\n",
        "    \"\"\"\n",
        "    Computes probability score required for response encoding\n",
        "    \"\"\"\n",
        "\n",
        "    total_outcome = dict(x.value_counts())\n",
        "    count_outcome = x[y==class_label].value_counts()\n",
        "\n",
        "    prob_class = dict()\n",
        "    for feature in x:\n",
        "        if feature in count_outcome.keys():\n",
        "            prob_class[feature] = np.float(count_outcome[feature]/total_outcome[feature])\n",
        "        else:\n",
        "            prob_class[feature] = np.float(0)\n",
        "    \n",
        "    return prob_class\n",
        "\n",
        "def response_fit(x, y):\n",
        "    \n",
        "    prob_1 = probabilities(x, y, class_label=1)\n",
        "    prob_2 = probabilities(x, y, class_label=2)\n",
        "    prob_3 = probabilities(x, y, class_label=3)\n",
        "    prob_4 = probabilities(x, y, class_label=4)\n",
        "    prob_5 = probabilities(x, y, class_label=5)\n",
        "    prob_6 = probabilities(x, y, class_label=6)\n",
        "    prob_7 = probabilities(x, y, class_label=7)\n",
        "    prob_8 = probabilities(x, y, class_label=8)\n",
        "    prob_0 = probabilities(x, y, class_label=0)\n",
        "    \n",
        "    score = dict()\n",
        "    for category in x.unique():\n",
        "        score[category] = (prob_1[category], prob_2[category], prob_3[category], \n",
        "                           prob_4[category], prob_5[category], prob_6[category],\n",
        "                           prob_7[category], prob_8[category], prob_0[category])\n",
        "    \n",
        "    return score\n",
        "\n",
        "def response_transform(scores, x):\n",
        "    \"\"\"\"\"\"\n",
        "    response = list()\n",
        "    for category in x:\n",
        "      if category in scores.keys():\n",
        "        response.append(scores[category])\n",
        "      else:\n",
        "        response.append((0.5, 0.5, 0.5, 0.5, 0.5, 0.5, 0.5, 0.5, 0.5))\n",
        "        \n",
        "    return np.array(response)          "
      ],
      "execution_count": 30,
      "outputs": []
    },
    {
      "cell_type": "code",
      "metadata": {
        "id": "QD_Ha1fln3vI"
      },
      "source": [
        "score_dic = response_fit(x_train['Gene'], y_train)\n",
        "\n",
        "res_tr_gene = response_transform(score_dic, x_train['Gene'])\n",
        "res_ts_gene = response_transform(score_dic, x_test['Gene'])"
      ],
      "execution_count": 31,
      "outputs": []
    },
    {
      "cell_type": "code",
      "metadata": {
        "colab": {
          "base_uri": "https://localhost:8080/"
        },
        "id": "-DgmBrvKOs9O",
        "outputId": "dc002d6c-8979-47db-a4fd-3bc0bf628fc6"
      },
      "source": [
        "res_ts_gene.shape"
      ],
      "execution_count": 32,
      "outputs": [
        {
          "output_type": "execute_result",
          "data": {
            "text/plain": [
              "(1095, 9)"
            ]
          },
          "metadata": {
            "tags": []
          },
          "execution_count": 32
        }
      ]
    },
    {
      "cell_type": "code",
      "metadata": {
        "id": "zgoFZR1vOlbx"
      },
      "source": [
        "score_dic = response_fit(x_train['Variation'], y_train)\n",
        "\n",
        "res_tr_var = response_transform(score_dic, x_train['Variation'])\n",
        "res_ts_var= response_transform(score_dic, x_test['Variation'])"
      ],
      "execution_count": 33,
      "outputs": []
    },
    {
      "cell_type": "code",
      "metadata": {
        "colab": {
          "base_uri": "https://localhost:8080/"
        },
        "id": "hL5xnTbbOuu2",
        "outputId": "18869d3c-8239-422d-dc1c-453364087964"
      },
      "source": [
        "res_ts_var.shape"
      ],
      "execution_count": 34,
      "outputs": [
        {
          "output_type": "execute_result",
          "data": {
            "text/plain": [
              "(1095, 9)"
            ]
          },
          "metadata": {
            "tags": []
          },
          "execution_count": 34
        }
      ]
    },
    {
      "cell_type": "markdown",
      "metadata": {
        "id": "WzVBIEQIJ9Bq"
      },
      "source": [
        "## Text"
      ]
    },
    {
      "cell_type": "markdown",
      "metadata": {
        "id": "41pxRC-PO3s-"
      },
      "source": [
        "### TF-IDF "
      ]
    },
    {
      "cell_type": "code",
      "metadata": {
        "id": "kk_LEhd27lr3",
        "colab": {
          "base_uri": "https://localhost:8080/"
        },
        "outputId": "bea16e73-4fe4-485e-b9db-c6735999deeb"
      },
      "source": [
        "vec_start = datetime.now()\n",
        "\n",
        "tfidf = TfidfVectorizer(ngram_range=(2, 4), max_features=700)\n",
        "\n",
        "tfidf_tr_text = tfidf.fit_transform(x_train['TEXT'])\n",
        "tfidf_ts_text = tfidf.transform(x_test['TEXT'])\n",
        "\n",
        "vec_end = datetime.now()\n",
        "print(f\"Took: {vec_end-vec_start}\")"
      ],
      "execution_count": 35,
      "outputs": [
        {
          "output_type": "stream",
          "text": [
            "Took: 0:02:34.834844\n"
          ],
          "name": "stdout"
        }
      ]
    },
    {
      "cell_type": "code",
      "metadata": {
        "colab": {
          "base_uri": "https://localhost:8080/"
        },
        "id": "wvUSu9NSP_Dd",
        "outputId": "ce441bfc-b541-4b27-af2f-1a6cd7110143"
      },
      "source": [
        "tfidf_ts_text.shape"
      ],
      "execution_count": 36,
      "outputs": [
        {
          "output_type": "execute_result",
          "data": {
            "text/plain": [
              "(1095, 700)"
            ]
          },
          "metadata": {
            "tags": []
          },
          "execution_count": 36
        }
      ]
    },
    {
      "cell_type": "code",
      "metadata": {
        "id": "XmiHGgGSRKCU"
      },
      "source": [
        "%xdel tfidf"
      ],
      "execution_count": 37,
      "outputs": []
    },
    {
      "cell_type": "markdown",
      "metadata": {
        "id": "-Xdl5IwGO7DO"
      },
      "source": [
        "### Pretrained BioSent2Vec Model"
      ]
    },
    {
      "cell_type": "markdown",
      "metadata": {
        "id": "1RMxBaFST9qj"
      },
      "source": [
        "#### Downloading the model"
      ]
    },
    {
      "cell_type": "code",
      "metadata": {
        "colab": {
          "base_uri": "https://localhost:8080/"
        },
        "id": "qwwEQ_LsO7L2",
        "outputId": "04fa4157-63f1-44ab-a488-025138a35b76"
      },
      "source": [
        "! wget --header 'Host: ftp.ncbi.nlm.nih.gov' --user-agent 'Mozilla/5.0 (Windows NT 10.0; Win64; x64; rv:86.0) Gecko/20100101 Firefox/86.0' --header 'Accept: text/html,application/xhtml+xml,application/xml;q=0.9,image/webp,*/*;q=0.8' --header 'Accept-Language: en-US,en;q=0.5' --referer 'https://github.com/ncbi-nlp/BioSentVec' --header 'DNT: 1' --header 'Upgrade-Insecure-Requests: 1' --header 'Sec-GPC: 1' 'https://ftp.ncbi.nlm.nih.gov/pub/lu/Suppl/BioSentVec/BioSentVec_PubMed_MIMICIII-bigram_d700.bin' --output-document 'BioSentVec_PubMed_MIMICIII-bigram_d700.bin'"
      ],
      "execution_count": 39,
      "outputs": [
        {
          "output_type": "stream",
          "text": [
            "--2021-03-25 16:58:14--  https://ftp.ncbi.nlm.nih.gov/pub/lu/Suppl/BioSentVec/BioSentVec_PubMed_MIMICIII-bigram_d700.bin\n",
            "Resolving ftp.ncbi.nlm.nih.gov (ftp.ncbi.nlm.nih.gov)... 130.14.250.12, 130.14.250.13, 2607:f220:41e:250::10, ...\n",
            "Connecting to ftp.ncbi.nlm.nih.gov (ftp.ncbi.nlm.nih.gov)|130.14.250.12|:443... connected.\n",
            "HTTP request sent, awaiting response... 200 OK\n",
            "Length: 22475736490 (21G) [application/octet-stream]\n",
            "Saving to: ‘BioSentVec_PubMed_MIMICIII-bigram_d700.bin’\n",
            "\n",
            "BioSentVec_PubMed_M 100%[===================>]  20.93G  16.7MB/s    in 21m 39s \n",
            "\n",
            "2021-03-25 17:19:55 (16.5 MB/s) - ‘BioSentVec_PubMed_MIMICIII-bigram_d700.bin’ saved [22475736490/22475736490]\n",
            "\n"
          ],
          "name": "stdout"
        }
      ]
    },
    {
      "cell_type": "code",
      "metadata": {
        "colab": {
          "base_uri": "https://localhost:8080/"
        },
        "id": "WREAMNRIZ_Vl",
        "outputId": "e60a125c-da11-4a76-c1f3-e79c58342fd7"
      },
      "source": [
        "! ls "
      ],
      "execution_count": 40,
      "outputs": [
        {
          "output_type": "stream",
          "text": [
            "BioSentVec_PubMed_MIMICIII-bigram_d700.bin  sent2vec-master.zip\n",
            "CGM-processed.csv\t\t\t    training_text\n",
            "drive\t\t\t\t\t    training_text.zip\n",
            "sample_data\t\t\t\t    training_variants\n",
            "sent2vec-master\t\t\t\t    training_variants.zip\n"
          ],
          "name": "stdout"
        }
      ]
    },
    {
      "cell_type": "code",
      "metadata": {
        "id": "3pifZ-h0Z_YX"
      },
      "source": [
        "# Model path\n",
        "path = '/content/BioSentVec_PubMed_MIMICIII-bigram_d700.bin'"
      ],
      "execution_count": 41,
      "outputs": []
    },
    {
      "cell_type": "code",
      "metadata": {
        "colab": {
          "base_uri": "https://localhost:8080/"
        },
        "id": "HbhytEwCaLcB",
        "outputId": "84e44372-2e72-445f-a94b-02aaf453eb4a"
      },
      "source": [
        "model = sent2vec.Sent2vecModel()\n",
        "try:\n",
        "    model.load_model(path)\n",
        "except Exception as e:\n",
        "    print(e)\n",
        "print('model successfully loaded')"
      ],
      "execution_count": 42,
      "outputs": [
        {
          "output_type": "stream",
          "text": [
            "model successfully loaded\n"
          ],
          "name": "stdout"
        }
      ]
    },
    {
      "cell_type": "code",
      "metadata": {
        "colab": {
          "base_uri": "https://localhost:8080/"
        },
        "id": "MQ9VGNHdaLez",
        "outputId": "5ab75131-2159-410c-effe-341e7ae8ba14"
      },
      "source": [
        "ptm_tr_text = list()\n",
        "for text in tqdm(x_train['TEXT']):\n",
        "  ptm_tr_text.append(model.embed_sentence(text)[0])\n",
        "\n",
        "ptm_tr_text = np.array(ptm_tr_text)"
      ],
      "execution_count": 43,
      "outputs": [
        {
          "output_type": "stream",
          "text": [
            "100%|██████████| 2221/2221 [00:28<00:00, 77.04it/s]\n"
          ],
          "name": "stderr"
        }
      ]
    },
    {
      "cell_type": "code",
      "metadata": {
        "colab": {
          "base_uri": "https://localhost:8080/"
        },
        "id": "Nv8e0bG7ca84",
        "outputId": "a755c898-752f-4a1c-ba54-422b99f2f0e3"
      },
      "source": [
        "ptm_tr_text.shape"
      ],
      "execution_count": 44,
      "outputs": [
        {
          "output_type": "execute_result",
          "data": {
            "text/plain": [
              "(2221, 700)"
            ]
          },
          "metadata": {
            "tags": []
          },
          "execution_count": 44
        }
      ]
    },
    {
      "cell_type": "code",
      "metadata": {
        "colab": {
          "base_uri": "https://localhost:8080/"
        },
        "id": "7V74Zj1FUF99",
        "outputId": "8a64887b-a71a-45ce-913e-784b5f830583"
      },
      "source": [
        "ptm_ts_text = list()\n",
        "for text in tqdm(x_test['TEXT']):\n",
        "  ptm_ts_text.append(model.embed_sentence(text)[0])\n",
        "\n",
        "ptm_ts_text = np.array(ptm_ts_text)"
      ],
      "execution_count": 45,
      "outputs": [
        {
          "output_type": "stream",
          "text": [
            "100%|██████████| 1095/1095 [00:13<00:00, 79.15it/s]\n"
          ],
          "name": "stderr"
        }
      ]
    },
    {
      "cell_type": "code",
      "metadata": {
        "colab": {
          "base_uri": "https://localhost:8080/"
        },
        "id": "mrUpQdP0cdxS",
        "outputId": "44afe01d-b91a-4b36-870e-571a2e92a5c3"
      },
      "source": [
        "ptm_ts_text.shape"
      ],
      "execution_count": 46,
      "outputs": [
        {
          "output_type": "execute_result",
          "data": {
            "text/plain": [
              "(1095, 700)"
            ]
          },
          "metadata": {
            "tags": []
          },
          "execution_count": 46
        }
      ]
    },
    {
      "cell_type": "code",
      "metadata": {
        "id": "gO7T0mJFgE-X"
      },
      "source": [
        "%xdel model"
      ],
      "execution_count": 54,
      "outputs": []
    },
    {
      "cell_type": "markdown",
      "metadata": {
        "id": "ZDfQ1sPrcrGA"
      },
      "source": [
        "## Concatenation"
      ]
    },
    {
      "cell_type": "code",
      "metadata": {
        "id": "qjKSjMmocvPo"
      },
      "source": [
        "train_set_1 = np.hstack((tfidf_tr_text.toarray(), ohe_tr_var.toarray(), ohe_tr_gene.toarray()))\n",
        "test_set_1 = np.hstack((tfidf_ts_text.toarray(), ohe_ts_var.toarray(), ohe_ts_gene.toarray()))"
      ],
      "execution_count": 64,
      "outputs": []
    },
    {
      "cell_type": "code",
      "metadata": {
        "colab": {
          "base_uri": "https://localhost:8080/"
        },
        "id": "Ya8bRPtPeUbo",
        "outputId": "adae64a7-5fd7-4e7a-a024-99769cf5755c"
      },
      "source": [
        "train_set_1.shape"
      ],
      "execution_count": 65,
      "outputs": [
        {
          "output_type": "execute_result",
          "data": {
            "text/plain": [
              "(2221, 2978)"
            ]
          },
          "metadata": {
            "tags": []
          },
          "execution_count": 65
        }
      ]
    },
    {
      "cell_type": "code",
      "metadata": {
        "id": "gSMv5fCPcvZP"
      },
      "source": [
        "test_set_2 = np.hstack((ptm_ts_text, res_ts_var, res_ts_gene))\n",
        "train_set_2 = np.hstack((ptm_tr_text, res_tr_var, res_tr_gene))"
      ],
      "execution_count": 55,
      "outputs": []
    },
    {
      "cell_type": "code",
      "metadata": {
        "colab": {
          "base_uri": "https://localhost:8080/"
        },
        "id": "6-AUx0ougTUw",
        "outputId": "b945ee0b-988d-4c43-ab93-70d6d589d309"
      },
      "source": [
        "train_set_2.shape"
      ],
      "execution_count": 56,
      "outputs": [
        {
          "output_type": "execute_result",
          "data": {
            "text/plain": [
              "(2221, 718)"
            ]
          },
          "metadata": {
            "tags": []
          },
          "execution_count": 56
        }
      ]
    },
    {
      "cell_type": "markdown",
      "metadata": {
        "id": "Cq6c0FZo7lxD"
      },
      "source": [
        "<a name=\"cell-id6\"></a>\n",
        "# Secondary data analysis"
      ]
    },
    {
      "cell_type": "code",
      "metadata": {
        "id": "KlJ-GHBZwDhf"
      },
      "source": [
        "from sklearn.manifold import TSNE\n",
        "palette = sns.color_palette(\"bright\", 9)"
      ],
      "execution_count": 134,
      "outputs": []
    },
    {
      "cell_type": "code",
      "metadata": {
        "id": "-R1sja0w7l1p",
        "colab": {
          "base_uri": "https://localhost:8080/",
          "height": 282
        },
        "outputId": "3534bdef-6fa8-44fd-b995-28119c1c3724"
      },
      "source": [
        "X_embedded = TSNE(n_components=2, perplexity=50).fit_transform(train_set_1) \n",
        "sns.scatterplot(X_embedded[:,0], X_embedded[:,1], hue=y_train, legend='full', palette=palette)"
      ],
      "execution_count": 136,
      "outputs": [
        {
          "output_type": "execute_result",
          "data": {
            "text/plain": [
              "<matplotlib.axes._subplots.AxesSubplot at 0x7f3dd5351a50>"
            ]
          },
          "metadata": {
            "tags": []
          },
          "execution_count": 136
        },
        {
          "output_type": "display_data",
          "data": {
            "image/png": "[encoded data removed]",
            "text/plain": [
              "<Figure size 432x288 with 1 Axes>"
            ]
          },
          "metadata": {
            "tags": [],
            "needs_background": "light"
          }
        }
      ]
    },
    {
      "cell_type": "code",
      "metadata": {
        "colab": {
          "base_uri": "https://localhost:8080/",
          "height": 286
        },
        "id": "cZMtzyW6vmIw",
        "outputId": "b15cc123-639d-4bbd-bf78-38312675ec48"
      },
      "source": [
        "X_embedded = TSNE(n_components=2).fit_transform(train_set_2) \n",
        "sns.scatterplot(X_embedded[:,0], X_embedded[:,1], hue=y_train, legend='full', palette=palette)"
      ],
      "execution_count": 150,
      "outputs": [
        {
          "output_type": "execute_result",
          "data": {
            "text/plain": [
              "<matplotlib.axes._subplots.AxesSubplot at 0x7f3dd517aa10>"
            ]
          },
          "metadata": {
            "tags": []
          },
          "execution_count": 150
        },
        {
          "output_type": "display_data",
          "data": {
            "image/png": "[encoded data removed]",
            "text/plain": [
              "<Figure size 432x288 with 1 Axes>"
            ]
          },
          "metadata": {
            "tags": [],
            "needs_background": "light"
          }
        }
      ]
    },
    {
      "cell_type": "markdown",
      "metadata": {
        "id": "2-Xp8fCo7l64"
      },
      "source": [
        "# ML model building"
      ]
    },
    {
      "cell_type": "markdown",
      "metadata": {
        "id": "lMfO_vStgwV2"
      },
      "source": [
        "## Linear models"
      ]
    },
    {
      "cell_type": "code",
      "metadata": {
        "id": "ItvotM8T7l_q",
        "colab": {
          "base_uri": "https://localhost:8080/"
        },
        "outputId": "748201ef-a9d7-434d-f66d-5a319d6a28ce"
      },
      "source": [
        "svm_clf = SVC()\n",
        "\n",
        "# defining parameter range\n",
        "params = {'C': [0.1, 1, 10, 100, 1000], \n",
        "          'gamma': [1, 0.1, 0.01, 0.001, 0.0001],\n",
        "          'kernel': ['rbf']} \n",
        "\n",
        "svm_cv_set2 = GridSearchCV(svm_clf, params, \n",
        "                           cv=10, n_jobs=-1,\n",
        "                           verbose=2,\n",
        "                           return_train_score=True).fit(train_set_2, y_train)    "
      ],
      "execution_count": 143,
      "outputs": [
        {
          "output_type": "stream",
          "text": [
            "Fitting 10 folds for each of 25 candidates, totalling 250 fits\n"
          ],
          "name": "stdout"
        },
        {
          "output_type": "stream",
          "text": [
            "[Parallel(n_jobs=-1)]: Using backend LokyBackend with 4 concurrent workers.\n",
            "[Parallel(n_jobs=-1)]: Done  33 tasks      | elapsed:  1.3min\n",
            "[Parallel(n_jobs=-1)]: Done 154 tasks      | elapsed:  4.6min\n",
            "[Parallel(n_jobs=-1)]: Done 250 out of 250 | elapsed:  5.6min finished\n"
          ],
          "name": "stderr"
        }
      ]
    },
    {
      "cell_type": "code",
      "metadata": {
        "colab": {
          "base_uri": "https://localhost:8080/"
        },
        "id": "-KTeMUIiyuNo",
        "outputId": "c234da80-6173-4897-a52a-bc9ba9e7239e"
      },
      "source": [
        "svm_cv_set2.best_score_"
      ],
      "execution_count": 144,
      "outputs": [
        {
          "output_type": "execute_result",
          "data": {
            "text/plain": [
              "0.9833414131620408"
            ]
          },
          "metadata": {
            "tags": []
          },
          "execution_count": 144
        }
      ]
    },
    {
      "cell_type": "code",
      "metadata": {
        "colab": {
          "base_uri": "https://localhost:8080/"
        },
        "id": "tB9oqOz0y4dm",
        "outputId": "e06e3b28-16c2-4f90-c176-19fe3467fa80"
      },
      "source": [
        "svm_cv_set2.best_estimator_"
      ],
      "execution_count": 145,
      "outputs": [
        {
          "output_type": "execute_result",
          "data": {
            "text/plain": [
              "SVC(C=10, break_ties=False, cache_size=200, class_weight=None, coef0=0.0,\n",
              "    decision_function_shape='ovr', degree=3, gamma=0.1, kernel='rbf',\n",
              "    max_iter=-1, probability=False, random_state=None, shrinking=True,\n",
              "    tol=0.001, verbose=False)"
            ]
          },
          "metadata": {
            "tags": []
          },
          "execution_count": 145
        }
      ]
    },
    {
      "cell_type": "code",
      "metadata": {
        "colab": {
          "base_uri": "https://localhost:8080/"
        },
        "id": "mwmvzy2GyxUp",
        "outputId": "c66e7166-fabe-4caa-fd59-7a590735a456"
      },
      "source": [
        "svm_cv_set2.best_params_"
      ],
      "execution_count": 146,
      "outputs": [
        {
          "output_type": "execute_result",
          "data": {
            "text/plain": [
              "{'C': 10, 'gamma': 0.1, 'kernel': 'rbf'}"
            ]
          },
          "metadata": {
            "tags": []
          },
          "execution_count": 146
        }
      ]
    },
    {
      "cell_type": "code",
      "metadata": {
        "id": "1c7wjOZF08_9"
      },
      "source": [
        "svm_clf = SVC(C=10, gamma=0.1, kernel='rbf').fit(train_set_2, y_train)"
      ],
      "execution_count": 147,
      "outputs": []
    },
    {
      "cell_type": "code",
      "metadata": {
        "colab": {
          "base_uri": "https://localhost:8080/"
        },
        "id": "Nxt241IvyuQl",
        "outputId": "b8c60c7b-2bc3-463a-99e5-083dfa05808c"
      },
      "source": [
        "grid_predictions = svm_clf.predict(test_set_2)\n",
        "\n",
        "# print classification report\n",
        "print(classification_report(y_test, grid_predictions))\n"
      ],
      "execution_count": 149,
      "outputs": [
        {
          "output_type": "stream",
          "text": [
            "              precision    recall  f1-score   support\n",
            "\n",
            "           1       0.43      0.74      0.54       198\n",
            "           2       0.38      0.60      0.47       162\n",
            "           3       0.00      0.00      0.00        25\n",
            "           4       0.73      0.39      0.51       231\n",
            "           5       0.40      0.37      0.38        81\n",
            "           6       0.33      0.34      0.34        70\n",
            "           7       0.63      0.45      0.53       313\n",
            "           8       0.00      0.00      0.00         7\n",
            "           9       0.00      0.00      0.00         8\n",
            "\n",
            "    accuracy                           0.48      1095\n",
            "   macro avg       0.32      0.32      0.31      1095\n",
            "weighted avg       0.52      0.48      0.48      1095\n",
            "\n"
          ],
          "name": "stdout"
        }
      ]
    },
    {
      "cell_type": "code",
      "metadata": {
        "id": "wRVoLomXyuVW"
      },
      "source": [
        ""
      ],
      "execution_count": null,
      "outputs": []
    },
    {
      "cell_type": "markdown",
      "metadata": {
        "id": "GoxA2C-zg0k-"
      },
      "source": [
        "## Tree-Based"
      ]
    },
    {
      "cell_type": "markdown",
      "metadata": {
        "id": "iZYFl72WixF-"
      },
      "source": [
        "### Hyper-parameter tunning set 01"
      ]
    },
    {
      "cell_type": "code",
      "metadata": {
        "id": "e1Erg7U0iwkG"
      },
      "source": [
        "# Since there is imbalance between all 09 classes\n",
        "# I have selected class weights to be depend upon\n",
        "# no of y values i.e 'balanced'\n",
        "\n",
        "dt_clf = DecisionTreeClassifier(class_weight='balanced')\n",
        "\n",
        "params = {\n",
        "    'max_depth':[1, 5, 9],\n",
        "    'min_samples_split':[5, 25, 50]}\n",
        "\n",
        "dt_cv_set1 = GridSearchCV(dt_clf, params, \n",
        "                          cv=10, n_jobs=-1, \n",
        "                          return_train_score=True, \n",
        "                          scoring='roc_auc_ovr_weighted').fit(train_set_1, y_train)    "
      ],
      "execution_count": 78,
      "outputs": []
    },
    {
      "cell_type": "code",
      "metadata": {
        "colab": {
          "base_uri": "https://localhost:8080/"
        },
        "id": "Are2kbJNg25e",
        "outputId": "717141a0-a177-4426-e4c0-4f9f4fd5f0cf"
      },
      "source": [
        "dt_cv_set1.best_score_"
      ],
      "execution_count": 79,
      "outputs": [
        {
          "output_type": "execute_result",
          "data": {
            "text/plain": [
              "0.7347865425153154"
            ]
          },
          "metadata": {
            "tags": []
          },
          "execution_count": 79
        }
      ]
    },
    {
      "cell_type": "code",
      "metadata": {
        "colab": {
          "base_uri": "https://localhost:8080/"
        },
        "id": "6LGtUDC0n0f8",
        "outputId": "b2e92afb-c14e-4f53-eb00-735c1a983812"
      },
      "source": [
        "dt_cv_set1.best_params_"
      ],
      "execution_count": 81,
      "outputs": [
        {
          "output_type": "execute_result",
          "data": {
            "text/plain": [
              "{'max_depth': 9, 'min_samples_split': 25}"
            ]
          },
          "metadata": {
            "tags": []
          },
          "execution_count": 81
        }
      ]
    },
    {
      "cell_type": "code",
      "metadata": {
        "id": "mLC77wX2n4I7"
      },
      "source": [
        "dt_clf = DecisionTreeClassifier(max_depth=9, \n",
        "                                min_samples_split=25,\n",
        "                                class_weight='balanced').fit(train_set_1, y_train)"
      ],
      "execution_count": 82,
      "outputs": []
    },
    {
      "cell_type": "code",
      "metadata": {
        "id": "dreVzhmJpaqN"
      },
      "source": [
        "y_pred_set1 = dt_clf.predict_proba(test_set_1)\n",
        "y_pred_set1=np.argmax(y_pred_set1, axis=1)"
      ],
      "execution_count": 110,
      "outputs": []
    },
    {
      "cell_type": "code",
      "metadata": {
        "id": "g5-odnhQpbwK"
      },
      "source": [
        "from sklearn.metrics import classification_report"
      ],
      "execution_count": 111,
      "outputs": []
    },
    {
      "cell_type": "code",
      "metadata": {
        "colab": {
          "base_uri": "https://localhost:8080/"
        },
        "id": "lk3aI_uvsPdz",
        "outputId": "13a6b83f-7dcd-4b32-fb19-aa7a14d6e6bf"
      },
      "source": [
        "print(classification_report(y_test, y_pred_set1, labels=list(np.arange(1, 10))))"
      ],
      "execution_count": 115,
      "outputs": [
        {
          "output_type": "stream",
          "text": [
            "              precision    recall  f1-score   support\n",
            "\n",
            "           1       0.05      0.08      0.06       198\n",
            "           2       0.03      0.01      0.01       162\n",
            "           3       0.00      0.08      0.01        25\n",
            "           4       0.15      0.06      0.09       231\n",
            "           5       0.07      0.04      0.05        81\n",
            "           6       0.00      0.00      0.00        70\n",
            "           7       0.07      0.00      0.01       313\n",
            "           8       0.00      0.00      0.00         7\n",
            "           9       0.00      0.00      0.00         8\n",
            "\n",
            "   micro avg       0.04      0.03      0.04      1095\n",
            "   macro avg       0.04      0.03      0.02      1095\n",
            "weighted avg       0.07      0.03      0.04      1095\n",
            "\n"
          ],
          "name": "stdout"
        }
      ]
    },
    {
      "cell_type": "code",
      "metadata": {
        "colab": {
          "base_uri": "https://localhost:8080/",
          "height": 1000
        },
        "id": "fi_7Uj6JuYfT",
        "outputId": "b16b773f-2dab-4ac4-f9b6-003b23dae512"
      },
      "source": [
        "plot_confusion_matrix(y_test, y_pred_set1)"
      ],
      "execution_count": 124,
      "outputs": [
        {
          "output_type": "stream",
          "text": [
            "-------------------- Confusion matrix --------------------\n"
          ],
          "name": "stdout"
        },
        {
          "output_type": "display_data",
          "data": {
            "image/png": "[encoded data removed]",
            "text/plain": [
              "<Figure size 1440x504 with 2 Axes>"
            ]
          },
          "metadata": {
            "tags": [],
            "needs_background": "light"
          }
        },
        {
          "output_type": "stream",
          "text": [
            "-------------------- Precision matrix (Columm Sum=1) --------------------\n"
          ],
          "name": "stdout"
        },
        {
          "output_type": "display_data",
          "data": {
            "image/png": "[encoded data removed]",
            "text/plain": [
              "<Figure size 1440x504 with 2 Axes>"
            ]
          },
          "metadata": {
            "tags": [],
            "needs_background": "light"
          }
        },
        {
          "output_type": "stream",
          "text": [
            "-------------------- Recall matrix (Row sum=1) --------------------\n"
          ],
          "name": "stdout"
        },
        {
          "output_type": "display_data",
          "data": {
            "image/png": "[encoded data removed]",
            "text/plain": [
              "<Figure size 1440x504 with 2 Axes>"
            ]
          },
          "metadata": {
            "tags": [],
            "needs_background": "light"
          }
        }
      ]
    },
    {
      "cell_type": "markdown",
      "metadata": {
        "id": "tNAVqXyVssIb"
      },
      "source": [
        "### Hyper-parameter tunning set 02"
      ]
    },
    {
      "cell_type": "code",
      "metadata": {
        "id": "oZDmDBT2szoQ"
      },
      "source": [
        "# Since there is imbalance between all 09 classes\n",
        "# I have selected class weights to be depend upon\n",
        "# no of y values i.e 'balanced'\n",
        "\n",
        "dt_clf = DecisionTreeClassifier()\n",
        "\n",
        "params = {\n",
        "    'max_depth':[1, 5, 9],\n",
        "    'min_samples_split':[5, 25, 50]}\n",
        "\n",
        "dt_cv_set2 = GridSearchCV(dt_clf, params, \n",
        "                          cv=10, n_jobs=-1, \n",
        "                          return_train_score=True).fit(train_set_2, y_train)    "
      ],
      "execution_count": 125,
      "outputs": []
    },
    {
      "cell_type": "code",
      "metadata": {
        "colab": {
          "base_uri": "https://localhost:8080/"
        },
        "id": "w23qj4G2s1IJ",
        "outputId": "229e251b-eb3d-4bd6-acf9-bef798364be6"
      },
      "source": [
        "dt_cv_set2.best_score_"
      ],
      "execution_count": 126,
      "outputs": [
        {
          "output_type": "execute_result",
          "data": {
            "text/plain": [
              "0.9716357613218601"
            ]
          },
          "metadata": {
            "tags": []
          },
          "execution_count": 126
        }
      ]
    },
    {
      "cell_type": "code",
      "metadata": {
        "colab": {
          "base_uri": "https://localhost:8080/"
        },
        "id": "h8l7oCzKs1Kx",
        "outputId": "2253ec89-69e3-4ab8-c75c-bece3bea1856"
      },
      "source": [
        "dt_cv_set2.best_params_"
      ],
      "execution_count": 127,
      "outputs": [
        {
          "output_type": "execute_result",
          "data": {
            "text/plain": [
              "{'max_depth': 9, 'min_samples_split': 5}"
            ]
          },
          "metadata": {
            "tags": []
          },
          "execution_count": 127
        }
      ]
    },
    {
      "cell_type": "code",
      "metadata": {
        "id": "XgojYnDss9JI"
      },
      "source": [
        "dt_clf = DecisionTreeClassifier(max_depth=dt_cv_set2.best_params_['max_depth'], \n",
        "                                min_samples_split=dt_cv_set2.best_params_['min_samples_split']).fit(train_set_2, y_train)"
      ],
      "execution_count": 128,
      "outputs": []
    },
    {
      "cell_type": "code",
      "metadata": {
        "id": "a-5T7ZsXs9O5"
      },
      "source": [
        "y_pred_set2 = dt_clf.predict_proba(test_set_2)\n",
        "y_pred_set2=np.argmax(y_pred_set2, axis=1)"
      ],
      "execution_count": 129,
      "outputs": []
    },
    {
      "cell_type": "code",
      "metadata": {
        "colab": {
          "base_uri": "https://localhost:8080/"
        },
        "id": "v21nSr9Hs9Un",
        "outputId": "19916f97-12a5-47b0-d728-3813ba36e770"
      },
      "source": [
        "print(classification_report(y_test, y_pred_set2, labels=list(np.arange(1, 10))))"
      ],
      "execution_count": 130,
      "outputs": [
        {
          "output_type": "stream",
          "text": [
            "              precision    recall  f1-score   support\n",
            "\n",
            "           1       0.17      0.38      0.24       198\n",
            "           2       0.00      0.00      0.00       162\n",
            "           3       0.00      0.00      0.00        25\n",
            "           4       0.33      0.00      0.01       231\n",
            "           5       0.23      0.62      0.34        81\n",
            "           6       0.03      0.13      0.05        70\n",
            "           7       0.00      0.00      0.00       313\n",
            "           8       0.00      0.00      0.00         7\n",
            "           9       0.00      0.00      0.00         8\n",
            "\n",
            "   micro avg       0.14      0.12      0.13      1095\n",
            "   macro avg       0.08      0.13      0.07      1095\n",
            "weighted avg       0.12      0.12      0.07      1095\n",
            "\n"
          ],
          "name": "stdout"
        }
      ]
    },
    {
      "cell_type": "code",
      "metadata": {
        "id": "sXsmTZZGtyXC"
      },
      "source": [
        "# This function plots the confusion matrices given y_i, y_i_hat.\n",
        "def plot_confusion_matrix(test_y, predict_y):\n",
        "    C = confusion_matrix(test_y, predict_y)\n",
        "    # C = 9,9 matrix, each cell (i,j) represents number of points of class i are predicted class j\n",
        "    \n",
        "    A =(((C.T)/(C.sum(axis=1))).T)\n",
        "    #divid each element of the confusion matrix with the sum of elements in that column\n",
        "    \n",
        "    # C = [[1, 2],\n",
        "    #     [3, 4]]\n",
        "    # C.T = [[1, 3],\n",
        "    #        [2, 4]]\n",
        "    # C.sum(axis = 1)  axis=0 corresonds to columns and axis=1 corresponds to rows in two diamensional array\n",
        "    # C.sum(axix =1) = [[3, 7]]\n",
        "    # ((C.T)/(C.sum(axis=1))) = [[1/3, 3/7]\n",
        "    #                           [2/3, 4/7]]\n",
        "\n",
        "    # ((C.T)/(C.sum(axis=1))).T = [[1/3, 2/3]\n",
        "    #                           [3/7, 4/7]]\n",
        "    # sum of row elements = 1\n",
        "    \n",
        "    B =(C/C.sum(axis=0))\n",
        "    #divid each element of the confusion matrix with the sum of elements in that row\n",
        "    # C = [[1, 2],\n",
        "    #     [3, 4]]\n",
        "    # C.sum(axis = 0)  axis=0 corresonds to columns and axis=1 corresponds to rows in two diamensional array\n",
        "    # C.sum(axix =0) = [[4, 6]]\n",
        "    # (C/C.sum(axis=0)) = [[1/4, 2/6],\n",
        "    #                      [3/4, 4/6]] \n",
        "    \n",
        "    labels = [1,2,3,4,5,6,7,8,9]\n",
        "    # representing A in heatmap format\n",
        "    print(\"-\"*20, \"Confusion matrix\", \"-\"*20)\n",
        "    plt.figure(figsize=(20,7))\n",
        "    sns.heatmap(C, annot=True, cmap=\"YlGnBu\", fmt=\".3f\", xticklabels=labels, yticklabels=labels)\n",
        "    plt.xlabel('Predicted Class')\n",
        "    plt.ylabel('Original Class')\n",
        "    plt.show()\n",
        "\n",
        "    print(\"-\"*20, \"Precision matrix (Columm Sum=1)\", \"-\"*20)\n",
        "    plt.figure(figsize=(20,7))\n",
        "    sns.heatmap(B, annot=True, cmap=\"YlGnBu\", fmt=\".3f\", xticklabels=labels, yticklabels=labels)\n",
        "    plt.xlabel('Predicted Class')\n",
        "    plt.ylabel('Original Class')\n",
        "    plt.show()\n",
        "    \n",
        "    # representing B in heatmap format\n",
        "    print(\"-\"*20, \"Recall matrix (Row sum=1)\", \"-\"*20)\n",
        "    plt.figure(figsize=(20,7))\n",
        "    sns.heatmap(A, annot=True, cmap=\"YlGnBu\", fmt=\".3f\", xticklabels=labels, yticklabels=labels)\n",
        "    plt.xlabel('Predicted Class')\n",
        "    plt.ylabel('Original Class')\n",
        "    plt.show()"
      ],
      "execution_count": 122,
      "outputs": []
    },
    {
      "cell_type": "code",
      "metadata": {
        "colab": {
          "base_uri": "https://localhost:8080/",
          "height": 1000
        },
        "id": "vl_Wd1Ckt4ah",
        "outputId": "b71dc93d-1cd6-4838-ce41-8cae681bf5b5"
      },
      "source": [
        "plot_confusion_matrix(y_test, y_pred_set2)"
      ],
      "execution_count": 131,
      "outputs": [
        {
          "output_type": "stream",
          "text": [
            "-------------------- Confusion matrix --------------------\n"
          ],
          "name": "stdout"
        },
        {
          "output_type": "display_data",
          "data": {
            "image/png": "[encoded data removed]",
            "text/plain": [
              "<Figure size 1440x504 with 2 Axes>"
            ]
          },
          "metadata": {
            "tags": [],
            "needs_background": "light"
          }
        },
        {
          "output_type": "stream",
          "text": [
            "-------------------- Precision matrix (Columm Sum=1) --------------------\n"
          ],
          "name": "stdout"
        },
        {
          "output_type": "display_data",
          "data": {
            "image/png": "[encoded data removed]",
            "text/plain": [
              "<Figure size 1440x504 with 2 Axes>"
            ]
          },
          "metadata": {
            "tags": [],
            "needs_background": "light"
          }
        },
        {
          "output_type": "stream",
          "text": [
            "-------------------- Recall matrix (Row sum=1) --------------------\n"
          ],
          "name": "stdout"
        },
        {
          "output_type": "display_data",
          "data": {
            "image/png": "[encoded data removed]",
            "text/plain": [
              "<Figure size 1440x504 with 2 Axes>"
            ]
          },
          "metadata": {
            "tags": [],
            "needs_background": "light"
          }
        }
      ]
    },
    {
      "cell_type": "markdown",
      "metadata": {
        "id": "5aiMZBGm7mEv"
      },
      "source": [
        "<a name=\"cell-id8\"></a>\n",
        "# Conclusion"
      ]
    },
    {
      "cell_type": "code",
      "metadata": {
        "id": "cSGMSYN97mN4"
      },
      "source": [
        ""
      ],
      "execution_count": 37,
      "outputs": []
    }
  ]
}