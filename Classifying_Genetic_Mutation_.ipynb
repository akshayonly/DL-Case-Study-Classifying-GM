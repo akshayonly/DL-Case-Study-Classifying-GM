{
  "nbformat": 4,
  "nbformat_minor": 0,
  "metadata": {
    "colab": {
      "name": "Classifying Genetic Mutation .ipynb",
      "provenance": [],
      "collapsed_sections": [
        "x5yE3E367k6x",
        "wruviFgX_COA",
        "mBe56vIs7lPY",
        "nWvm9iCU7lcA",
        "ydM2grwpBHCv",
        "MT5YXL3I72yM",
        "CPHUige47lmo",
        "Cq6c0FZo7lxD",
        "2-Xp8fCo7l64",
        "5aiMZBGm7mEv"
      ],
      "machine_shape": "hm"
    },
    "kernelspec": {
      "display_name": "Python 3",
      "name": "python3"
    }
  },
  "cells": [
    {
      "cell_type": "markdown",
      "metadata": {
        "id": "jouhKmTG7ZBK"
      },
      "source": [
        "# Classifying Genetic Mutation \n",
        "\n",
        "\n",
        "\n",
        "1. Packages\n",
        "\n",
        "   1. Downloading Sent2Vec and Installing\n",
        "\n",
        "2. Downloading data\n",
        "\n",
        "3. Preprocessing data\n",
        "\n",
        "4. Primary data analysis\n",
        "\n",
        "5. Data featurization\n",
        "\n",
        "   1. Text Feature\n",
        "\n",
        "      - Traditional NLP: TF-IDF \n",
        "\n",
        "      - Using pre-trained model\n",
        "        - Downloading BioSent2Vec\n",
        "        - Loading BioSent2Vec\n",
        "        - Applying BioSent2Vec on TEXT\n",
        "   2. Categorical Features\n",
        "      - Response encoding\n",
        "      - One-hot encoding\n",
        "\n",
        "6. Secondary data analysis\n",
        "\n",
        "   1. Visualizing high dimensional text features by t-SNE\n",
        "   2. Visualizing Gene & Variation features by  t-SNE\n",
        "\n",
        "7. ML model building\n",
        "\n",
        "   1. Linear models\n",
        "      1. SVM \n",
        "         1. RBF Kernel\n",
        "         2. Linear kernel\n",
        "      2. Logistic Regression (SGD)\n",
        "   2. Tree-base models\n",
        "      1. Decision tree\n",
        "\n",
        "8. Conclusion\n",
        "   "
      ]
    },
    {
      "cell_type": "markdown",
      "metadata": {
        "id": "x5yE3E367k6x"
      },
      "source": [
        "<a name=\"cell-id1\"></a>\n",
        "# Packages"
      ]
    },
    {
      "cell_type": "markdown",
      "metadata": {
        "id": "wruviFgX_COA"
      },
      "source": [
        "## Downloading Sent2Vec and Installing"
      ]
    },
    {
      "cell_type": "code",
      "metadata": {
        "id": "NtHnUbla7lGA",
        "colab": {
          "base_uri": "https://localhost:8080/"
        },
        "outputId": "dc3b9d3e-6191-4844-e48f-2d59b12b8a78"
      },
      "source": [
        "! curl --header 'Host: codeload.github.com' --user-agent 'Mozilla/5.0 (Windows NT 10.0; Win64; x64; rv:86.0) Gecko/20100101 Firefox/86.0' --header 'Accept: text/html,application/xhtml+xml,application/xml;q=0.9,image/webp,*/*;q=0.8' --header 'Accept-Language: en-US,en;q=0.5' --referer 'https://github.com/epfml/sent2vec' --header 'DNT: 1' --cookie '_octo=GH1.1.1157954504.1616399111; logged_in=yes; tz=Asia%2FKolkata; color_mode=%7B%22color_mode%22%3A%22dark%22%2C%22light_theme%22%3A%7B%22name%22%3A%22light%22%2C%22color_mode%22%3A%22light%22%7D%2C%22dark_theme%22%3A%7B%22name%22%3A%22dark%22%2C%22color_mode%22%3A%22dark%22%7D%7D; dotcom_user=akshayonly' --header 'Upgrade-Insecure-Requests: 1' --header 'Sec-GPC: 1' 'https://codeload.github.com/epfml/sent2vec/zip/refs/heads/master' --output 'sent2vec-master.zip'\n",
        "! unzip sent2vec-master && cd sent2vec-master && make && pip install ."
      ],
      "execution_count": 1,
      "outputs": [
        {
          "output_type": "stream",
          "text": [
            "  % Total    % Received % Xferd  Average Speed   Time    Time     Time  Current\n",
            "                                 Dload  Upload   Total   Spent    Left  Speed\n",
            "100  355k    0  355k    0     0   797k      0 --:--:-- --:--:-- --:--:--  797k\n",
            "Archive:  sent2vec-master.zip\n",
            "f00a1b67f4330e5be99e7cc31ac28df94deed9ac\n",
            "   creating: sent2vec-master/\n",
            "  inflating: sent2vec-master/.gitignore  \n",
            "  inflating: sent2vec-master/Dockerfile  \n",
            "  inflating: sent2vec-master/LICENSE  \n",
            "  inflating: sent2vec-master/Makefile  \n",
            "  inflating: sent2vec-master/README.md  \n",
            "  inflating: sent2vec-master/get_sentence_embeddings_from_pre-trained_models.ipynb  \n",
            "  inflating: sent2vec-master/paper-sent2vec.pdf  \n",
            " extracting: sent2vec-master/requirements.txt  \n",
            "  inflating: sent2vec-master/setup.py  \n",
            "   creating: sent2vec-master/src/\n",
            "  inflating: sent2vec-master/src/args.cc  \n",
            "  inflating: sent2vec-master/src/args.h  \n",
            "  inflating: sent2vec-master/src/asvoid.h  \n",
            "  inflating: sent2vec-master/src/dictionary.cc  \n",
            "  inflating: sent2vec-master/src/dictionary.h  \n",
            "  inflating: sent2vec-master/src/fasttext.cc  \n",
            "  inflating: sent2vec-master/src/fasttext.h  \n",
            "  inflating: sent2vec-master/src/main.cc  \n",
            "  inflating: sent2vec-master/src/matrix.cc  \n",
            "  inflating: sent2vec-master/src/matrix.h  \n",
            "  inflating: sent2vec-master/src/model.cc  \n",
            "  inflating: sent2vec-master/src/model.h  \n",
            "  inflating: sent2vec-master/src/productquantizer.cc  \n",
            "  inflating: sent2vec-master/src/productquantizer.h  \n",
            "  inflating: sent2vec-master/src/qmatrix.cc  \n",
            "  inflating: sent2vec-master/src/qmatrix.h  \n",
            " extracting: sent2vec-master/src/real.cc  \n",
            "  inflating: sent2vec-master/src/real.h  \n",
            "  inflating: sent2vec-master/src/sent2vec.pyx  \n",
            "  inflating: sent2vec-master/src/shmem_matrix.cc  \n",
            "  inflating: sent2vec-master/src/shmem_matrix.h  \n",
            "  inflating: sent2vec-master/src/utils.cc  \n",
            "  inflating: sent2vec-master/src/utils.h  \n",
            "  inflating: sent2vec-master/src/vector.cc  \n",
            "  inflating: sent2vec-master/src/vector.h  \n",
            "  inflating: sent2vec-master/tweetTokenize.py  \n",
            "  inflating: sent2vec-master/wikiTokenize.py  \n",
            "c++ -pthread -std=c++0x -O3 -funroll-loops -c src/args.cc\n",
            "c++ -pthread -std=c++0x -O3 -funroll-loops -c src/dictionary.cc\n",
            "c++ -pthread -std=c++0x -O3 -funroll-loops -c src/productquantizer.cc\n",
            "c++ -pthread -std=c++0x -O3 -funroll-loops -c src/matrix.cc\n",
            "c++ -pthread -std=c++0x -O3 -funroll-loops -c src/shmem_matrix.cc\n",
            "c++ -pthread -std=c++0x -O3 -funroll-loops -c src/qmatrix.cc\n",
            "c++ -pthread -std=c++0x -O3 -funroll-loops -c src/vector.cc\n",
            "c++ -pthread -std=c++0x -O3 -funroll-loops -c src/model.cc\n",
            "c++ -pthread -std=c++0x -O3 -funroll-loops -c src/utils.cc\n",
            "c++ -pthread -std=c++0x -O3 -funroll-loops -c src/fasttext.cc\n",
            "c++ -pthread -std=c++0x -O3 -funroll-loops args.o dictionary.o productquantizer.o matrix.o shmem_matrix.o qmatrix.o vector.o model.o utils.o fasttext.o src/main.cc -o fasttext -lrt\n",
            "Processing /content/sent2vec-master\n",
            "Building wheels for collected packages: sent2vec\n",
            "  Building wheel for sent2vec (setup.py) ... \u001b[?25l\u001b[?25hdone\n",
            "  Created wheel for sent2vec: filename=sent2vec-0.0.0-cp37-cp37m-linux_x86_64.whl size=1130611 sha256=843bea0cf17f9b5a7c5f47c6bd4a4e21b61fb579f0b95563bced03ccc9b16542\n",
            "  Stored in directory: /root/.cache/pip/wheels/a9/dd/f2/76590466765cd40cd6f9dfec695622ba27892c20ad038a8010\n",
            "Successfully built sent2vec\n",
            "Installing collected packages: sent2vec\n",
            "Successfully installed sent2vec-0.0.0\n"
          ],
          "name": "stdout"
        }
      ]
    },
    {
      "cell_type": "markdown",
      "metadata": {
        "id": "EzSCjO3Y_Ov_"
      },
      "source": [
        "## Libraries"
      ]
    },
    {
      "cell_type": "code",
      "metadata": {
        "colab": {
          "base_uri": "https://localhost:8080/"
        },
        "id": "hrvct_1P_Rw5",
        "outputId": "0bdbd5c8-80e8-4a5f-bc4d-c055450dba31"
      },
      "source": [
        "import pandas as pd\n",
        "import numpy as np\n",
        "\n",
        "import re\n",
        "from tqdm import tqdm\n",
        "from datetime import datetime\n",
        "\n",
        "import sent2vec\n",
        "\n",
        "import nltk\n",
        "from nltk import word_tokenize\n",
        "from nltk.corpus import stopwords\n",
        "from string import punctuation\n",
        "\n",
        "from sklearn.preprocessing import OneHotEncoder\n",
        "\n",
        "\n",
        "import warnings\n",
        "warnings.filterwarnings(\"ignore\")\n",
        "\n",
        "nltk.download('stopwords')\n",
        "nltk.download('punkt')"
      ],
      "execution_count": 2,
      "outputs": [
        {
          "output_type": "stream",
          "text": [
            "[nltk_data] Downloading package stopwords to /root/nltk_data...\n",
            "[nltk_data]   Unzipping corpora/stopwords.zip.\n",
            "[nltk_data] Downloading package punkt to /root/nltk_data...\n",
            "[nltk_data]   Unzipping tokenizers/punkt.zip.\n"
          ],
          "name": "stdout"
        },
        {
          "output_type": "execute_result",
          "data": {
            "text/plain": [
              "True"
            ]
          },
          "metadata": {
            "tags": []
          },
          "execution_count": 2
        }
      ]
    },
    {
      "cell_type": "markdown",
      "metadata": {
        "id": "mBe56vIs7lPY"
      },
      "source": [
        "# Downloading data"
      ]
    },
    {
      "cell_type": "code",
      "metadata": {
        "id": "GwN3ojXU7lWQ",
        "colab": {
          "base_uri": "https://localhost:8080/"
        },
        "outputId": "0949d5a0-8dc0-420d-dc38-ba57baa0e5c3"
      },
      "source": [
        "# Train Texts\n",
        "! curl --header 'Host: storage.googleapis.com' --user-agent 'Mozilla/5.0 (Windows NT 10.0; Win64; x64; rv:86.0) Gecko/20100101 Firefox/86.0' --header 'Accept: text/html,application/xhtml+xml,application/xml;q=0.9,image/webp,*/*;q=0.8' --header 'Accept-Language: en-US,en;q=0.5' --referer 'https://www.kaggle.com/' --header 'DNT: 1' --header 'Upgrade-Insecure-Requests: 1' --header 'Sec-GPC: 1' 'https://storage.googleapis.com/kagglesdsdata/competitions/6841/44307/training_text.zip?GoogleAccessId=web-data@kaggle-161607.iam.gserviceaccount.com&Expires=1616748114&Signature=PCcLSRN0v8r2loPEYY0WdqNPem%2FsZHwTMCEGUtJrTLuW0LvOZ5lt6kl7nB%2FMKpqe67FN1%2BPDuZvC%2B8QWg6wIXLWEmz0f0UE0x5yYW5suq7AaRzedE8A6HZuDRj9mmhb1lYhksZL04ZAB2VYADur90n%2Fyhpsgt6aQ5VuEKWGHQuYH7k4X7NDkTPmfC0cTp4qujfz5I%2BagifBdFnZj%2FQMzMH2onbMJi4%2FAY806%2FDsEPQ5YKZZ4bNqOyjTNrEDWcdKu1TVQSlmrTnwOykSNK1s7viy%2Bhnrx2trZa8LvEMiP2GxDXsnFcK7IdhPJWevk5UX9m9d3vXi%2BVsJLoJuTiizezw%3D%3D&response-content-disposition=attachment%3B+filename%3Dtraining_text.zip' --output 'training_text.zip' && unzip training_text.zip\n",
        "\n",
        "# Train Variants\n",
        "! curl --header 'Host: storage.googleapis.com' --user-agent 'Mozilla/5.0 (Windows NT 10.0; Win64; x64; rv:86.0) Gecko/20100101 Firefox/86.0' --header 'Accept: text/html,application/xhtml+xml,application/xml;q=0.9,image/webp,*/*;q=0.8' --header 'Accept-Language: en-US,en;q=0.5' --referer 'https://www.kaggle.com/' --header 'DNT: 1' --header 'Upgrade-Insecure-Requests: 1' --header 'Sec-GPC: 1' 'https://storage.googleapis.com/kagglesdsdata/competitions/6841/44307/training_variants.zip?GoogleAccessId=web-data@kaggle-161607.iam.gserviceaccount.com&Expires=1616748147&Signature=HYq8rHWpYzz%2B2hIPZV6XWullEV0yQ3oepX6SicRqb5EU6MFOwznQLKprpTK2M2yiS3yvzVz%2Bzft0tlkQBFgF33JTwgSv3aZubyUvowDUrWHqYho%2FYnzWl8sJXl0x9nIFon4hU8rdg9JMbve9nyVvz%2F28fYUaapk73c7ZWC5SYOmPzSwgEKnxDsW8Vn2G4U6fe34i4JW1FveXebIA9wtYBG6%2F%2FC8Soh46d5qTI%2B6LHIo%2BmaIXmnL7jmpNpuL3wFmbN6tMTUG1f7yPOhRKreglmXUVFjDqqnkWRmvfwAHdzr%2FdpgKw4Ahu2EivDehaewTy%2B%2BTyOKDLutNgxj2nfbWfVA%3D%3D&response-content-disposition=attachment%3B+filename%3Dtraining_variants.zip' --output 'training_variants.zip' && unzip training_variants.zip"
      ],
      "execution_count": 3,
      "outputs": [
        {
          "output_type": "stream",
          "text": [
            "  % Total    % Received % Xferd  Average Speed   Time    Time     Time  Current\n",
            "                                 Dload  Upload   Total   Spent    Left  Speed\n",
            "100 60.9M  100 60.9M    0     0  62.2M      0 --:--:-- --:--:-- --:--:-- 62.2M\n",
            "Archive:  training_text.zip\n",
            "  inflating: training_text           \n",
            "  % Total    % Received % Xferd  Average Speed   Time    Time     Time  Current\n",
            "                                 Dload  Upload   Total   Spent    Left  Speed\n",
            "100 24831  100 24831    0     0   137k      0 --:--:-- --:--:-- --:--:--  137k\n",
            "Archive:  training_variants.zip\n",
            "  inflating: training_variants       \n"
          ],
          "name": "stdout"
        }
      ]
    },
    {
      "cell_type": "code",
      "metadata": {
        "colab": {
          "base_uri": "https://localhost:8080/"
        },
        "id": "nz1dFeT2APov",
        "outputId": "bceab947-c4c6-43de-955f-3b39cbfff9a1"
      },
      "source": [
        "! ls -I *.zip"
      ],
      "execution_count": 4,
      "outputs": [
        {
          "output_type": "stream",
          "text": [
            "training_text.zip  training_variants.zip\n"
          ],
          "name": "stdout"
        }
      ]
    },
    {
      "cell_type": "markdown",
      "metadata": {
        "id": "nWvm9iCU7lcA"
      },
      "source": [
        "<a name=\"cell-id3\"></a>\n",
        "# Data Preprocessing"
      ]
    },
    {
      "cell_type": "code",
      "metadata": {
        "id": "1669sder7lhg",
        "colab": {
          "base_uri": "https://localhost:8080/",
          "height": 206
        },
        "outputId": "cd180b07-9764-4c8d-b316-b4778063c36d"
      },
      "source": [
        "variants_data = pd.read_csv('/content/training_variants', index_col=False)\n",
        "variants_data.head()"
      ],
      "execution_count": 6,
      "outputs": [
        {
          "output_type": "execute_result",
          "data": {
            "text/html": [
              "<div>\n",
              "<style scoped>\n",
              "    .dataframe tbody tr th:only-of-type {\n",
              "        vertical-align: middle;\n",
              "    }\n",
              "\n",
              "    .dataframe tbody tr th {\n",
              "        vertical-align: top;\n",
              "    }\n",
              "\n",
              "    .dataframe thead th {\n",
              "        text-align: right;\n",
              "    }\n",
              "</style>\n",
              "<table border=\"1\" class=\"dataframe\">\n",
              "  <thead>\n",
              "    <tr style=\"text-align: right;\">\n",
              "      <th></th>\n",
              "      <th>ID</th>\n",
              "      <th>Gene</th>\n",
              "      <th>Variation</th>\n",
              "      <th>Class</th>\n",
              "    </tr>\n",
              "  </thead>\n",
              "  <tbody>\n",
              "    <tr>\n",
              "      <th>0</th>\n",
              "      <td>0</td>\n",
              "      <td>FAM58A</td>\n",
              "      <td>Truncating Mutations</td>\n",
              "      <td>1</td>\n",
              "    </tr>\n",
              "    <tr>\n",
              "      <th>1</th>\n",
              "      <td>1</td>\n",
              "      <td>CBL</td>\n",
              "      <td>W802*</td>\n",
              "      <td>2</td>\n",
              "    </tr>\n",
              "    <tr>\n",
              "      <th>2</th>\n",
              "      <td>2</td>\n",
              "      <td>CBL</td>\n",
              "      <td>Q249E</td>\n",
              "      <td>2</td>\n",
              "    </tr>\n",
              "    <tr>\n",
              "      <th>3</th>\n",
              "      <td>3</td>\n",
              "      <td>CBL</td>\n",
              "      <td>N454D</td>\n",
              "      <td>3</td>\n",
              "    </tr>\n",
              "    <tr>\n",
              "      <th>4</th>\n",
              "      <td>4</td>\n",
              "      <td>CBL</td>\n",
              "      <td>L399V</td>\n",
              "      <td>4</td>\n",
              "    </tr>\n",
              "  </tbody>\n",
              "</table>\n",
              "</div>"
            ],
            "text/plain": [
              "   ID    Gene             Variation  Class\n",
              "0   0  FAM58A  Truncating Mutations      1\n",
              "1   1     CBL                 W802*      2\n",
              "2   2     CBL                 Q249E      2\n",
              "3   3     CBL                 N454D      3\n",
              "4   4     CBL                 L399V      4"
            ]
          },
          "metadata": {
            "tags": []
          },
          "execution_count": 6
        }
      ]
    },
    {
      "cell_type": "code",
      "metadata": {
        "colab": {
          "base_uri": "https://localhost:8080/",
          "height": 206
        },
        "id": "BN0eVok5Ar5W",
        "outputId": "8022f8fd-fe71-4514-bae2-567c0967aefd"
      },
      "source": [
        "texts_data = pd.read_csv('/content/training_text', \n",
        "                         sep=\"\\|\\|\", \n",
        "                         engine=\"python\", \n",
        "                         names=[\"ID\",\"TEXT\"], \n",
        "                         skiprows=1)\n",
        "\n",
        "texts_data.head()"
      ],
      "execution_count": 7,
      "outputs": [
        {
          "output_type": "execute_result",
          "data": {
            "text/html": [
              "<div>\n",
              "<style scoped>\n",
              "    .dataframe tbody tr th:only-of-type {\n",
              "        vertical-align: middle;\n",
              "    }\n",
              "\n",
              "    .dataframe tbody tr th {\n",
              "        vertical-align: top;\n",
              "    }\n",
              "\n",
              "    .dataframe thead th {\n",
              "        text-align: right;\n",
              "    }\n",
              "</style>\n",
              "<table border=\"1\" class=\"dataframe\">\n",
              "  <thead>\n",
              "    <tr style=\"text-align: right;\">\n",
              "      <th></th>\n",
              "      <th>ID</th>\n",
              "      <th>TEXT</th>\n",
              "    </tr>\n",
              "  </thead>\n",
              "  <tbody>\n",
              "    <tr>\n",
              "      <th>0</th>\n",
              "      <td>0</td>\n",
              "      <td>Cyclin-dependent kinases (CDKs) regulate a var...</td>\n",
              "    </tr>\n",
              "    <tr>\n",
              "      <th>1</th>\n",
              "      <td>1</td>\n",
              "      <td>Abstract Background  Non-small cell lung canc...</td>\n",
              "    </tr>\n",
              "    <tr>\n",
              "      <th>2</th>\n",
              "      <td>2</td>\n",
              "      <td>Abstract Background  Non-small cell lung canc...</td>\n",
              "    </tr>\n",
              "    <tr>\n",
              "      <th>3</th>\n",
              "      <td>3</td>\n",
              "      <td>Recent evidence has demonstrated that acquired...</td>\n",
              "    </tr>\n",
              "    <tr>\n",
              "      <th>4</th>\n",
              "      <td>4</td>\n",
              "      <td>Oncogenic mutations in the monomeric Casitas B...</td>\n",
              "    </tr>\n",
              "  </tbody>\n",
              "</table>\n",
              "</div>"
            ],
            "text/plain": [
              "   ID                                               TEXT\n",
              "0   0  Cyclin-dependent kinases (CDKs) regulate a var...\n",
              "1   1   Abstract Background  Non-small cell lung canc...\n",
              "2   2   Abstract Background  Non-small cell lung canc...\n",
              "3   3  Recent evidence has demonstrated that acquired...\n",
              "4   4  Oncogenic mutations in the monomeric Casitas B..."
            ]
          },
          "metadata": {
            "tags": []
          },
          "execution_count": 7
        }
      ]
    },
    {
      "cell_type": "markdown",
      "metadata": {
        "id": "ydM2grwpBHCv"
      },
      "source": [
        "## Merging variants and texts dataframes"
      ]
    },
    {
      "cell_type": "code",
      "metadata": {
        "colab": {
          "base_uri": "https://localhost:8080/",
          "height": 206
        },
        "id": "65BIIpmKA_BI",
        "outputId": "3e9e24c6-d488-4519-b221-f84e349abf83"
      },
      "source": [
        "data = pd.merge(texts_data, variants_data, on='ID', how='left')\n",
        "\n",
        "data.head()"
      ],
      "execution_count": 8,
      "outputs": [
        {
          "output_type": "execute_result",
          "data": {
            "text/html": [
              "<div>\n",
              "<style scoped>\n",
              "    .dataframe tbody tr th:only-of-type {\n",
              "        vertical-align: middle;\n",
              "    }\n",
              "\n",
              "    .dataframe tbody tr th {\n",
              "        vertical-align: top;\n",
              "    }\n",
              "\n",
              "    .dataframe thead th {\n",
              "        text-align: right;\n",
              "    }\n",
              "</style>\n",
              "<table border=\"1\" class=\"dataframe\">\n",
              "  <thead>\n",
              "    <tr style=\"text-align: right;\">\n",
              "      <th></th>\n",
              "      <th>ID</th>\n",
              "      <th>TEXT</th>\n",
              "      <th>Gene</th>\n",
              "      <th>Variation</th>\n",
              "      <th>Class</th>\n",
              "    </tr>\n",
              "  </thead>\n",
              "  <tbody>\n",
              "    <tr>\n",
              "      <th>0</th>\n",
              "      <td>0</td>\n",
              "      <td>Cyclin-dependent kinases (CDKs) regulate a var...</td>\n",
              "      <td>FAM58A</td>\n",
              "      <td>Truncating Mutations</td>\n",
              "      <td>1</td>\n",
              "    </tr>\n",
              "    <tr>\n",
              "      <th>1</th>\n",
              "      <td>1</td>\n",
              "      <td>Abstract Background  Non-small cell lung canc...</td>\n",
              "      <td>CBL</td>\n",
              "      <td>W802*</td>\n",
              "      <td>2</td>\n",
              "    </tr>\n",
              "    <tr>\n",
              "      <th>2</th>\n",
              "      <td>2</td>\n",
              "      <td>Abstract Background  Non-small cell lung canc...</td>\n",
              "      <td>CBL</td>\n",
              "      <td>Q249E</td>\n",
              "      <td>2</td>\n",
              "    </tr>\n",
              "    <tr>\n",
              "      <th>3</th>\n",
              "      <td>3</td>\n",
              "      <td>Recent evidence has demonstrated that acquired...</td>\n",
              "      <td>CBL</td>\n",
              "      <td>N454D</td>\n",
              "      <td>3</td>\n",
              "    </tr>\n",
              "    <tr>\n",
              "      <th>4</th>\n",
              "      <td>4</td>\n",
              "      <td>Oncogenic mutations in the monomeric Casitas B...</td>\n",
              "      <td>CBL</td>\n",
              "      <td>L399V</td>\n",
              "      <td>4</td>\n",
              "    </tr>\n",
              "  </tbody>\n",
              "</table>\n",
              "</div>"
            ],
            "text/plain": [
              "   ID  ... Class\n",
              "0   0  ...     1\n",
              "1   1  ...     2\n",
              "2   2  ...     2\n",
              "3   3  ...     3\n",
              "4   4  ...     4\n",
              "\n",
              "[5 rows x 5 columns]"
            ]
          },
          "metadata": {
            "tags": []
          },
          "execution_count": 8
        }
      ]
    },
    {
      "cell_type": "markdown",
      "metadata": {
        "id": "aqv3ivpiBBw2"
      },
      "source": [
        "## Highlevel overview"
      ]
    },
    {
      "cell_type": "code",
      "metadata": {
        "colab": {
          "base_uri": "https://localhost:8080/"
        },
        "id": "kyOmk1BJA--N",
        "outputId": "409d8be8-fd02-4c54-c887-f1e549a755bc"
      },
      "source": [
        "data.info()"
      ],
      "execution_count": 9,
      "outputs": [
        {
          "output_type": "stream",
          "text": [
            "<class 'pandas.core.frame.DataFrame'>\n",
            "Int64Index: 3321 entries, 0 to 3320\n",
            "Data columns (total 5 columns):\n",
            " #   Column     Non-Null Count  Dtype \n",
            "---  ------     --------------  ----- \n",
            " 0   ID         3321 non-null   int64 \n",
            " 1   TEXT       3316 non-null   object\n",
            " 2   Gene       3321 non-null   object\n",
            " 3   Variation  3321 non-null   object\n",
            " 4   Class      3321 non-null   int64 \n",
            "dtypes: int64(2), object(3)\n",
            "memory usage: 155.7+ KB\n"
          ],
          "name": "stdout"
        }
      ]
    },
    {
      "cell_type": "markdown",
      "metadata": {
        "id": "kgBDpnCuBaJ3"
      },
      "source": [
        "1. There are 3321 entries in the dataframe.\n",
        "2. Leaving ``Class`` column which is numerical representation of genetic mutation classes, rest are object datatype i.e. categorical and text.\n",
        "3. The ``TEXT`` column have 05 entries lesser than the total 3321, we'd look at them later."
      ]
    },
    {
      "cell_type": "code",
      "metadata": {
        "colab": {
          "base_uri": "https://localhost:8080/"
        },
        "id": "mgFJytm6A_EN",
        "outputId": "508849e1-b6d5-4541-95ce-883a1d8e9253"
      },
      "source": [
        "data['Class'].describe()"
      ],
      "execution_count": 11,
      "outputs": [
        {
          "output_type": "execute_result",
          "data": {
            "text/plain": [
              "count    3321.000000\n",
              "mean        4.365854\n",
              "std         2.309781\n",
              "min         1.000000\n",
              "25%         2.000000\n",
              "50%         4.000000\n",
              "75%         7.000000\n",
              "max         9.000000\n",
              "Name: Class, dtype: float64"
            ]
          },
          "metadata": {
            "tags": []
          },
          "execution_count": 11
        }
      ]
    },
    {
      "cell_type": "code",
      "metadata": {
        "id": "akxa9G7TCutQ"
      },
      "source": [
        "# Removing from memory (RAM) as we're gonna load an 22GB pretrained model later\n",
        "# we need to do some memory hacks. \n",
        "\n",
        "%xdel variants_data\n",
        "%xdel texts_data"
      ],
      "execution_count": 12,
      "outputs": []
    },
    {
      "cell_type": "markdown",
      "metadata": {
        "id": "2MYd74DIDWGc"
      },
      "source": [
        "## Preprocessing"
      ]
    },
    {
      "cell_type": "markdown",
      "metadata": {
        "id": "u0QN8Qz6DjME"
      },
      "source": [
        "### NaN values"
      ]
    },
    {
      "cell_type": "code",
      "metadata": {
        "colab": {
          "base_uri": "https://localhost:8080/",
          "height": 206
        },
        "id": "m_isjD0JDazv",
        "outputId": "d8942b97-a767-4e95-cd1f-a5755d37d283"
      },
      "source": [
        "data[data.isnull().any(axis=1)]"
      ],
      "execution_count": 13,
      "outputs": [
        {
          "output_type": "execute_result",
          "data": {
            "text/html": [
              "<div>\n",
              "<style scoped>\n",
              "    .dataframe tbody tr th:only-of-type {\n",
              "        vertical-align: middle;\n",
              "    }\n",
              "\n",
              "    .dataframe tbody tr th {\n",
              "        vertical-align: top;\n",
              "    }\n",
              "\n",
              "    .dataframe thead th {\n",
              "        text-align: right;\n",
              "    }\n",
              "</style>\n",
              "<table border=\"1\" class=\"dataframe\">\n",
              "  <thead>\n",
              "    <tr style=\"text-align: right;\">\n",
              "      <th></th>\n",
              "      <th>ID</th>\n",
              "      <th>TEXT</th>\n",
              "      <th>Gene</th>\n",
              "      <th>Variation</th>\n",
              "      <th>Class</th>\n",
              "    </tr>\n",
              "  </thead>\n",
              "  <tbody>\n",
              "    <tr>\n",
              "      <th>1109</th>\n",
              "      <td>1109</td>\n",
              "      <td>NaN</td>\n",
              "      <td>FANCA</td>\n",
              "      <td>S1088F</td>\n",
              "      <td>1</td>\n",
              "    </tr>\n",
              "    <tr>\n",
              "      <th>1277</th>\n",
              "      <td>1277</td>\n",
              "      <td>NaN</td>\n",
              "      <td>ARID5B</td>\n",
              "      <td>Truncating Mutations</td>\n",
              "      <td>1</td>\n",
              "    </tr>\n",
              "    <tr>\n",
              "      <th>1407</th>\n",
              "      <td>1407</td>\n",
              "      <td>NaN</td>\n",
              "      <td>FGFR3</td>\n",
              "      <td>K508M</td>\n",
              "      <td>6</td>\n",
              "    </tr>\n",
              "    <tr>\n",
              "      <th>1639</th>\n",
              "      <td>1639</td>\n",
              "      <td>NaN</td>\n",
              "      <td>FLT1</td>\n",
              "      <td>Amplification</td>\n",
              "      <td>6</td>\n",
              "    </tr>\n",
              "    <tr>\n",
              "      <th>2755</th>\n",
              "      <td>2755</td>\n",
              "      <td>NaN</td>\n",
              "      <td>BRAF</td>\n",
              "      <td>G596C</td>\n",
              "      <td>7</td>\n",
              "    </tr>\n",
              "  </tbody>\n",
              "</table>\n",
              "</div>"
            ],
            "text/plain": [
              "        ID TEXT    Gene             Variation  Class\n",
              "1109  1109  NaN   FANCA                S1088F      1\n",
              "1277  1277  NaN  ARID5B  Truncating Mutations      1\n",
              "1407  1407  NaN   FGFR3                 K508M      6\n",
              "1639  1639  NaN    FLT1         Amplification      6\n",
              "2755  2755  NaN    BRAF                 G596C      7"
            ]
          },
          "metadata": {
            "tags": []
          },
          "execution_count": 13
        }
      ]
    },
    {
      "cell_type": "markdown",
      "metadata": {
        "id": "AJcCVNjODvvd"
      },
      "source": [
        "- There are 05 rows in the data in the ``'TEXT'`` column which are NaN\n",
        "- We'd  remove them, as these are text base and we cannot replace them with other values."
      ]
    },
    {
      "cell_type": "code",
      "metadata": {
        "id": "RdcdQP0MDte1"
      },
      "source": [
        "data.dropna(subset = [\"TEXT\"], inplace=True)"
      ],
      "execution_count": 14,
      "outputs": []
    },
    {
      "cell_type": "markdown",
      "metadata": {
        "id": "ip49_cOAD-gW"
      },
      "source": [
        "### Standard NLP preprocessing\n",
        "- Removing stop words\n",
        "- Removing puntuations"
      ]
    },
    {
      "cell_type": "code",
      "metadata": {
        "id": "86lVcdRhEMsc"
      },
      "source": [
        "stop_words = set(stopwords.words('english'))\n",
        "\n",
        "def text_processing(text):\n",
        "  \"\"\"Processing the sentence (single entry).\"\"\"\n",
        "\n",
        "  text = re.sub('\\s+',' ', text)\n",
        "  text = re.sub('[^a-zA-Z0-9\\n]', ' ', text)\n",
        "  text = text.lower()\n",
        "\n",
        "  tokens = [token for token in word_tokenize(text) if token not in punctuation and token not in stop_words]\n",
        "\n",
        "  return ' '.join(tokens)"
      ],
      "execution_count": 15,
      "outputs": []
    },
    {
      "cell_type": "code",
      "metadata": {
        "colab": {
          "base_uri": "https://localhost:8080/"
        },
        "id": "yy63nX5KFB8f",
        "outputId": "22f31f34-e89f-4604-d314-6d8049c15e1d"
      },
      "source": [
        "for index, text in tqdm(data.TEXT.iteritems()):\n",
        "  data[\"TEXT\"][index] = text_processing(text)"
      ],
      "execution_count": 20,
      "outputs": [
        {
          "output_type": "stream",
          "text": [
            "3316it [02:31, 21.95it/s]\n"
          ],
          "name": "stderr"
        }
      ]
    },
    {
      "cell_type": "code",
      "metadata": {
        "colab": {
          "base_uri": "https://localhost:8080/",
          "height": 112
        },
        "id": "dF_Vhlp4GAVs",
        "outputId": "10cc42be-ee69-4522-e752-3482c5ee8514"
      },
      "source": [
        "data.head(2)"
      ],
      "execution_count": 21,
      "outputs": [
        {
          "output_type": "execute_result",
          "data": {
            "text/html": [
              "<div>\n",
              "<style scoped>\n",
              "    .dataframe tbody tr th:only-of-type {\n",
              "        vertical-align: middle;\n",
              "    }\n",
              "\n",
              "    .dataframe tbody tr th {\n",
              "        vertical-align: top;\n",
              "    }\n",
              "\n",
              "    .dataframe thead th {\n",
              "        text-align: right;\n",
              "    }\n",
              "</style>\n",
              "<table border=\"1\" class=\"dataframe\">\n",
              "  <thead>\n",
              "    <tr style=\"text-align: right;\">\n",
              "      <th></th>\n",
              "      <th>ID</th>\n",
              "      <th>TEXT</th>\n",
              "      <th>Gene</th>\n",
              "      <th>Variation</th>\n",
              "      <th>Class</th>\n",
              "    </tr>\n",
              "  </thead>\n",
              "  <tbody>\n",
              "    <tr>\n",
              "      <th>0</th>\n",
              "      <td>0</td>\n",
              "      <td>cyclin dependent kinases cdks regulate variety...</td>\n",
              "      <td>FAM58A</td>\n",
              "      <td>Truncating Mutations</td>\n",
              "      <td>1</td>\n",
              "    </tr>\n",
              "    <tr>\n",
              "      <th>1</th>\n",
              "      <td>1</td>\n",
              "      <td>abstract background non small cell lung cancer...</td>\n",
              "      <td>CBL</td>\n",
              "      <td>W802*</td>\n",
              "      <td>2</td>\n",
              "    </tr>\n",
              "  </tbody>\n",
              "</table>\n",
              "</div>"
            ],
            "text/plain": [
              "   ID  ... Class\n",
              "0   0  ...     1\n",
              "1   1  ...     2\n",
              "\n",
              "[2 rows x 5 columns]"
            ]
          },
          "metadata": {
            "tags": []
          },
          "execution_count": 21
        }
      ]
    },
    {
      "cell_type": "markdown",
      "metadata": {
        "id": "MT5YXL3I72yM"
      },
      "source": [
        "<a name=\"cell-id4\"></a>\n",
        "# Primary data analysis"
      ]
    },
    {
      "cell_type": "code",
      "metadata": {
        "id": "spDsXUXn73Ba"
      },
      "source": [
        ""
      ],
      "execution_count": 2,
      "outputs": []
    },
    {
      "cell_type": "markdown",
      "metadata": {
        "id": "CPHUige47lmo"
      },
      "source": [
        "<a name=\"cell-id5\"></a>\n",
        "# Data featurization"
      ]
    },
    {
      "cell_type": "markdown",
      "metadata": {
        "id": "WVUJLMKsJ_X5"
      },
      "source": [
        "## Categorical"
      ]
    },
    {
      "cell_type": "code",
      "metadata": {
        "id": "e0QUvnAaKCEk"
      },
      "source": [
        ""
      ],
      "execution_count": null,
      "outputs": []
    },
    {
      "cell_type": "markdown",
      "metadata": {
        "id": "WzVBIEQIJ9Bq"
      },
      "source": [
        "## Text"
      ]
    },
    {
      "cell_type": "code",
      "metadata": {
        "id": "kk_LEhd27lr3"
      },
      "source": [
        ""
      ],
      "execution_count": 2,
      "outputs": []
    },
    {
      "cell_type": "markdown",
      "metadata": {
        "id": "Cq6c0FZo7lxD"
      },
      "source": [
        "<a name=\"cell-id6\"></a>\n",
        "# Secondary data analysis"
      ]
    },
    {
      "cell_type": "code",
      "metadata": {
        "id": "-R1sja0w7l1p"
      },
      "source": [
        ""
      ],
      "execution_count": 2,
      "outputs": []
    },
    {
      "cell_type": "markdown",
      "metadata": {
        "id": "2-Xp8fCo7l64"
      },
      "source": [
        "<a name=\"cell-id7\"></a>\n",
        "# ML model building"
      ]
    },
    {
      "cell_type": "code",
      "metadata": {
        "id": "ItvotM8T7l_q"
      },
      "source": [
        ""
      ],
      "execution_count": 2,
      "outputs": []
    },
    {
      "cell_type": "markdown",
      "metadata": {
        "id": "5aiMZBGm7mEv"
      },
      "source": [
        "<a name=\"cell-id8\"></a>\n",
        "# Conclusion"
      ]
    },
    {
      "cell_type": "code",
      "metadata": {
        "id": "cSGMSYN97mN4"
      },
      "source": [
        ""
      ],
      "execution_count": 2,
      "outputs": []
    }
  ]
}