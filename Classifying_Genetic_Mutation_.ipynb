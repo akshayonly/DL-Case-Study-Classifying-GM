{
  "nbformat": 4,
  "nbformat_minor": 0,
  "metadata": {
    "colab": {
      "name": "Classifying Genetic Mutation .ipynb",
      "provenance": [],
      "collapsed_sections": [
        "wruviFgX_COA",
        "mBe56vIs7lPY",
        "ydM2grwpBHCv",
        "MT5YXL3I72yM",
        "41pxRC-PO3s-"
      ],
      "machine_shape": "hm"
    },
    "kernelspec": {
      "display_name": "Python 3",
      "name": "python3"
    }
  },
  "cells": [
    {
      "cell_type": "markdown",
      "metadata": {
        "id": "jouhKmTG7ZBK"
      },
      "source": [
        "# Classifying Genetic Mutation \n",
        "\n",
        "\n",
        "\n",
        "1. Packages\n",
        "\n",
        "   1. Downloading Sent2Vec and Installing\n",
        "\n",
        "2. Downloading data\n",
        "\n",
        "3. Preprocessing data\n",
        "\n",
        "4. Primary data analysis\n",
        "\n",
        "5. Data featurization\n",
        "\n",
        "   1. Text Feature\n",
        "\n",
        "      - TF-IDF \n",
        "\n",
        "      - Using pre-trained model\n",
        "        - Downloading BioSent2Vec\n",
        "        - Loading BioSent2Vec\n",
        "        - Applying BioSent2Vec on TEXT\n",
        "   2. Categorical Features\n",
        "      - Response encoding\n",
        "      - One-hot encoding\n",
        "\n",
        "6. Secondary data analysis\n",
        "\n",
        "   1. Visualizing high dimensional text features by t-SNE\n",
        "   2. Visualizing Gene & Variation features by  t-SNE\n",
        "\n",
        "7. ML model building\n",
        "\n",
        "   1. Linear models\n",
        "      1. SVM \n",
        "      2. Logistic Regression (SGD)\n",
        "   2. Tree-base models\n",
        "      1. Decision tree\n",
        "\n",
        "8. Conclusion\n",
        "   "
      ]
    },
    {
      "cell_type": "markdown",
      "metadata": {
        "id": "x5yE3E367k6x"
      },
      "source": [
        "<a name=\"cell-id1\"></a>\n",
        "# Packages"
      ]
    },
    {
      "cell_type": "markdown",
      "metadata": {
        "id": "wruviFgX_COA"
      },
      "source": [
        "## Downloading Sent2Vec and Installing"
      ]
    },
    {
      "cell_type": "code",
      "metadata": {
        "id": "NtHnUbla7lGA",
        "colab": {
          "base_uri": "https://localhost:8080/"
        },
        "outputId": "f15e55c3-8129-4e8f-d392-0aedb0617bf0"
      },
      "source": [
        "! curl --header 'Host: codeload.github.com' --user-agent 'Mozilla/5.0 (Windows NT 10.0; Win64; x64; rv:86.0) Gecko/20100101 Firefox/86.0' --header 'Accept: text/html,application/xhtml+xml,application/xml;q=0.9,image/webp,*/*;q=0.8' --header 'Accept-Language: en-US,en;q=0.5' --referer 'https://github.com/epfml/sent2vec' --header 'DNT: 1' --cookie '_octo=GH1.1.1157954504.1616399111; logged_in=yes; tz=Asia%2FKolkata; color_mode=%7B%22color_mode%22%3A%22dark%22%2C%22light_theme%22%3A%7B%22name%22%3A%22light%22%2C%22color_mode%22%3A%22light%22%7D%2C%22dark_theme%22%3A%7B%22name%22%3A%22dark%22%2C%22color_mode%22%3A%22dark%22%7D%7D; dotcom_user=akshayonly' --header 'Upgrade-Insecure-Requests: 1' --header 'Sec-GPC: 1' 'https://codeload.github.com/epfml/sent2vec/zip/refs/heads/master' --output 'sent2vec-master.zip'\n",
        "! unzip sent2vec-master && cd sent2vec-master && make && pip install ."
      ],
      "execution_count": 1,
      "outputs": [
        {
          "output_type": "stream",
          "text": [
            "  % Total    % Received % Xferd  Average Speed   Time    Time     Time  Current\n",
            "                                 Dload  Upload   Total   Spent    Left  Speed\n",
            "100  355k    0  355k    0     0  1770k      0 --:--:-- --:--:-- --:--:-- 1770k\n",
            "Archive:  sent2vec-master.zip\n",
            "f00a1b67f4330e5be99e7cc31ac28df94deed9ac\n",
            "   creating: sent2vec-master/\n",
            "  inflating: sent2vec-master/.gitignore  \n",
            "  inflating: sent2vec-master/Dockerfile  \n",
            "  inflating: sent2vec-master/LICENSE  \n",
            "  inflating: sent2vec-master/Makefile  \n",
            "  inflating: sent2vec-master/README.md  \n",
            "  inflating: sent2vec-master/get_sentence_embeddings_from_pre-trained_models.ipynb  \n",
            "  inflating: sent2vec-master/paper-sent2vec.pdf  \n",
            " extracting: sent2vec-master/requirements.txt  \n",
            "  inflating: sent2vec-master/setup.py  \n",
            "   creating: sent2vec-master/src/\n",
            "  inflating: sent2vec-master/src/args.cc  \n",
            "  inflating: sent2vec-master/src/args.h  \n",
            "  inflating: sent2vec-master/src/asvoid.h  \n",
            "  inflating: sent2vec-master/src/dictionary.cc  \n",
            "  inflating: sent2vec-master/src/dictionary.h  \n",
            "  inflating: sent2vec-master/src/fasttext.cc  \n",
            "  inflating: sent2vec-master/src/fasttext.h  \n",
            "  inflating: sent2vec-master/src/main.cc  \n",
            "  inflating: sent2vec-master/src/matrix.cc  \n",
            "  inflating: sent2vec-master/src/matrix.h  \n",
            "  inflating: sent2vec-master/src/model.cc  \n",
            "  inflating: sent2vec-master/src/model.h  \n",
            "  inflating: sent2vec-master/src/productquantizer.cc  \n",
            "  inflating: sent2vec-master/src/productquantizer.h  \n",
            "  inflating: sent2vec-master/src/qmatrix.cc  \n",
            "  inflating: sent2vec-master/src/qmatrix.h  \n",
            " extracting: sent2vec-master/src/real.cc  \n",
            "  inflating: sent2vec-master/src/real.h  \n",
            "  inflating: sent2vec-master/src/sent2vec.pyx  \n",
            "  inflating: sent2vec-master/src/shmem_matrix.cc  \n",
            "  inflating: sent2vec-master/src/shmem_matrix.h  \n",
            "  inflating: sent2vec-master/src/utils.cc  \n",
            "  inflating: sent2vec-master/src/utils.h  \n",
            "  inflating: sent2vec-master/src/vector.cc  \n",
            "  inflating: sent2vec-master/src/vector.h  \n",
            "  inflating: sent2vec-master/tweetTokenize.py  \n",
            "  inflating: sent2vec-master/wikiTokenize.py  \n",
            "c++ -pthread -std=c++0x -O3 -funroll-loops -c src/args.cc\n",
            "c++ -pthread -std=c++0x -O3 -funroll-loops -c src/dictionary.cc\n",
            "c++ -pthread -std=c++0x -O3 -funroll-loops -c src/productquantizer.cc\n",
            "c++ -pthread -std=c++0x -O3 -funroll-loops -c src/matrix.cc\n",
            "c++ -pthread -std=c++0x -O3 -funroll-loops -c src/shmem_matrix.cc\n",
            "c++ -pthread -std=c++0x -O3 -funroll-loops -c src/qmatrix.cc\n",
            "c++ -pthread -std=c++0x -O3 -funroll-loops -c src/vector.cc\n",
            "c++ -pthread -std=c++0x -O3 -funroll-loops -c src/model.cc\n",
            "c++ -pthread -std=c++0x -O3 -funroll-loops -c src/utils.cc\n",
            "c++ -pthread -std=c++0x -O3 -funroll-loops -c src/fasttext.cc\n",
            "c++ -pthread -std=c++0x -O3 -funroll-loops args.o dictionary.o productquantizer.o matrix.o shmem_matrix.o qmatrix.o vector.o model.o utils.o fasttext.o src/main.cc -o fasttext -lrt\n",
            "Processing /content/sent2vec-master\n",
            "Building wheels for collected packages: sent2vec\n",
            "  Building wheel for sent2vec (setup.py) ... \u001b[?25l\u001b[?25hdone\n",
            "  Created wheel for sent2vec: filename=sent2vec-0.0.0-cp37-cp37m-linux_x86_64.whl size=1130612 sha256=9f1672cd7175d718acea272de5765a3711e7aed86475828d7960d4e62f9ad669\n",
            "  Stored in directory: /root/.cache/pip/wheels/a9/dd/f2/76590466765cd40cd6f9dfec695622ba27892c20ad038a8010\n",
            "Successfully built sent2vec\n",
            "Installing collected packages: sent2vec\n",
            "Successfully installed sent2vec-0.0.0\n"
          ],
          "name": "stdout"
        }
      ]
    },
    {
      "cell_type": "markdown",
      "metadata": {
        "id": "EzSCjO3Y_Ov_"
      },
      "source": [
        "## Libraries"
      ]
    },
    {
      "cell_type": "code",
      "metadata": {
        "colab": {
          "base_uri": "https://localhost:8080/"
        },
        "id": "hrvct_1P_Rw5",
        "outputId": "eac87fde-28cd-4ccd-9754-3ba803f839fa"
      },
      "source": [
        "%matplotlib inline\n",
        "\n",
        "import pandas as pd\n",
        "import numpy as np\n",
        "import matplotlib.pyplot as plt  \n",
        "import seaborn as sns\n",
        "\n",
        "import re\n",
        "from tqdm import tqdm\n",
        "from datetime import datetime\n",
        "\n",
        "import sent2vec\n",
        "\n",
        "import nltk\n",
        "from nltk import word_tokenize\n",
        "from nltk.corpus import stopwords\n",
        "from string import punctuation\n",
        "\n",
        "from sklearn.manifold import TSNE\n",
        "from sklearn.preprocessing import OneHotEncoder, LabelEncoder\n",
        "from sklearn.feature_extraction.text import CountVectorizer, TfidfVectorizer\n",
        "from sklearn.preprocessing import normalize, StandardScaler\n",
        "from sklearn.model_selection import GridSearchCV, train_test_split\n",
        "from sklearn.metrics import plot_confusion_matrix, classification_report\n",
        "\n",
        "from sklearn.svm import SVC\n",
        "from sklearn.linear_model import SGDClassifier\n",
        "from sklearn.naive_bayes import GaussianNB\n",
        "from sklearn.tree import DecisionTreeClassifier\n",
        "from sklearn.ensemble import RandomForestClassifier\n",
        "\n",
        "import warnings\n",
        "warnings.filterwarnings(\"ignore\")\n",
        "\n",
        "nltk.download('stopwords')\n",
        "nltk.download('punkt')\n",
        "\n",
        "palette = sns.color_palette(\"bright\", 9)\n",
        "plt.style.use('bmh')"
      ],
      "execution_count": 2,
      "outputs": [
        {
          "output_type": "stream",
          "text": [
            "[nltk_data] Downloading package stopwords to /root/nltk_data...\n",
            "[nltk_data]   Unzipping corpora/stopwords.zip.\n",
            "[nltk_data] Downloading package punkt to /root/nltk_data...\n",
            "[nltk_data]   Unzipping tokenizers/punkt.zip.\n"
          ],
          "name": "stdout"
        }
      ]
    },
    {
      "cell_type": "code",
      "metadata": {
        "colab": {
          "base_uri": "https://localhost:8080/"
        },
        "id": "OFvOC2p3qnZ6",
        "outputId": "813181e1-47c3-4939-cae8-1af388d2013b"
      },
      "source": [
        "from google.colab import drive\n",
        "drive.mount('/content/drive')"
      ],
      "execution_count": 3,
      "outputs": [
        {
          "output_type": "stream",
          "text": [
            "Mounted at /content/drive\n"
          ],
          "name": "stdout"
        }
      ]
    },
    {
      "cell_type": "code",
      "metadata": {
        "id": "iVgN8tgN2ajk"
      },
      "source": [
        "start=datetime.now()"
      ],
      "execution_count": 4,
      "outputs": []
    },
    {
      "cell_type": "markdown",
      "metadata": {
        "id": "mBe56vIs7lPY"
      },
      "source": [
        "# Downloading data"
      ]
    },
    {
      "cell_type": "code",
      "metadata": {
        "id": "GwN3ojXU7lWQ",
        "colab": {
          "base_uri": "https://localhost:8080/"
        },
        "outputId": "58fa487c-6d4d-40c7-f887-993efd0088fc"
      },
      "source": [
        "# Train Texts\n",
        "! curl --header 'Host: storage.googleapis.com' --user-agent 'Mozilla/5.0 (Windows NT 10.0; Win64; x64; rv:86.0) Gecko/20100101 Firefox/86.0' --header 'Accept: text/html,application/xhtml+xml,application/xml;q=0.9,image/webp,*/*;q=0.8' --header 'Accept-Language: en-US,en;q=0.5' --referer 'https://www.kaggle.com/' --header 'DNT: 1' --header 'Upgrade-Insecure-Requests: 1' --header 'Sec-GPC: 1' 'https://storage.googleapis.com/kagglesdsdata/competitions/6841/44307/training_text.zip?GoogleAccessId=web-data@kaggle-161607.iam.gserviceaccount.com&Expires=1616748114&Signature=PCcLSRN0v8r2loPEYY0WdqNPem%2FsZHwTMCEGUtJrTLuW0LvOZ5lt6kl7nB%2FMKpqe67FN1%2BPDuZvC%2B8QWg6wIXLWEmz0f0UE0x5yYW5suq7AaRzedE8A6HZuDRj9mmhb1lYhksZL04ZAB2VYADur90n%2Fyhpsgt6aQ5VuEKWGHQuYH7k4X7NDkTPmfC0cTp4qujfz5I%2BagifBdFnZj%2FQMzMH2onbMJi4%2FAY806%2FDsEPQ5YKZZ4bNqOyjTNrEDWcdKu1TVQSlmrTnwOykSNK1s7viy%2Bhnrx2trZa8LvEMiP2GxDXsnFcK7IdhPJWevk5UX9m9d3vXi%2BVsJLoJuTiizezw%3D%3D&response-content-disposition=attachment%3B+filename%3Dtraining_text.zip' --output 'training_text.zip' && unzip training_text.zip\n",
        "\n",
        "# Train Variants\n",
        "! curl --header 'Host: storage.googleapis.com' --user-agent 'Mozilla/5.0 (Windows NT 10.0; Win64; x64; rv:86.0) Gecko/20100101 Firefox/86.0' --header 'Accept: text/html,application/xhtml+xml,application/xml;q=0.9,image/webp,*/*;q=0.8' --header 'Accept-Language: en-US,en;q=0.5' --referer 'https://www.kaggle.com/' --header 'DNT: 1' --header 'Upgrade-Insecure-Requests: 1' --header 'Sec-GPC: 1' 'https://storage.googleapis.com/kagglesdsdata/competitions/6841/44307/training_variants.zip?GoogleAccessId=web-data@kaggle-161607.iam.gserviceaccount.com&Expires=1616748147&Signature=HYq8rHWpYzz%2B2hIPZV6XWullEV0yQ3oepX6SicRqb5EU6MFOwznQLKprpTK2M2yiS3yvzVz%2Bzft0tlkQBFgF33JTwgSv3aZubyUvowDUrWHqYho%2FYnzWl8sJXl0x9nIFon4hU8rdg9JMbve9nyVvz%2F28fYUaapk73c7ZWC5SYOmPzSwgEKnxDsW8Vn2G4U6fe34i4JW1FveXebIA9wtYBG6%2F%2FC8Soh46d5qTI%2B6LHIo%2BmaIXmnL7jmpNpuL3wFmbN6tMTUG1f7yPOhRKreglmXUVFjDqqnkWRmvfwAHdzr%2FdpgKw4Ahu2EivDehaewTy%2B%2BTyOKDLutNgxj2nfbWfVA%3D%3D&response-content-disposition=attachment%3B+filename%3Dtraining_variants.zip' --output 'training_variants.zip' && unzip training_variants.zip"
      ],
      "execution_count": 5,
      "outputs": [
        {
          "output_type": "stream",
          "text": [
            "  % Total    % Received % Xferd  Average Speed   Time    Time     Time  Current\n",
            "                                 Dload  Upload   Total   Spent    Left  Speed\n",
            "100 60.9M  100 60.9M    0     0  78.3M      0 --:--:-- --:--:-- --:--:-- 78.2M\n",
            "Archive:  training_text.zip\n",
            "  inflating: training_text           \n",
            "  % Total    % Received % Xferd  Average Speed   Time    Time     Time  Current\n",
            "                                 Dload  Upload   Total   Spent    Left  Speed\n",
            "100 24831  100 24831    0     0  93349      0 --:--:-- --:--:-- --:--:-- 93349\n",
            "Archive:  training_variants.zip\n",
            "  inflating: training_variants       \n"
          ],
          "name": "stdout"
        }
      ]
    },
    {
      "cell_type": "code",
      "metadata": {
        "colab": {
          "base_uri": "https://localhost:8080/"
        },
        "id": "nz1dFeT2APov",
        "outputId": "c1ced54c-f2ed-423f-9118-ffc80799a78e"
      },
      "source": [
        "! ls -I *.zip"
      ],
      "execution_count": 6,
      "outputs": [
        {
          "output_type": "stream",
          "text": [
            "training_text.zip  training_variants.zip\n"
          ],
          "name": "stdout"
        }
      ]
    },
    {
      "cell_type": "markdown",
      "metadata": {
        "id": "nWvm9iCU7lcA"
      },
      "source": [
        "<a name=\"cell-id3\"></a>\n",
        "# Data Preprocessing"
      ]
    },
    {
      "cell_type": "code",
      "metadata": {
        "id": "1669sder7lhg",
        "colab": {
          "base_uri": "https://localhost:8080/",
          "height": 206
        },
        "outputId": "2c0e13fd-dabf-4825-e348-c943d4cd030d"
      },
      "source": [
        "variants_data = pd.read_csv('/content/training_variants', index_col=False)\n",
        "variants_data.head()"
      ],
      "execution_count": 7,
      "outputs": [
        {
          "output_type": "execute_result",
          "data": {
            "text/html": [
              "<div>\n",
              "<style scoped>\n",
              "    .dataframe tbody tr th:only-of-type {\n",
              "        vertical-align: middle;\n",
              "    }\n",
              "\n",
              "    .dataframe tbody tr th {\n",
              "        vertical-align: top;\n",
              "    }\n",
              "\n",
              "    .dataframe thead th {\n",
              "        text-align: right;\n",
              "    }\n",
              "</style>\n",
              "<table border=\"1\" class=\"dataframe\">\n",
              "  <thead>\n",
              "    <tr style=\"text-align: right;\">\n",
              "      <th></th>\n",
              "      <th>ID</th>\n",
              "      <th>Gene</th>\n",
              "      <th>Variation</th>\n",
              "      <th>Class</th>\n",
              "    </tr>\n",
              "  </thead>\n",
              "  <tbody>\n",
              "    <tr>\n",
              "      <th>0</th>\n",
              "      <td>0</td>\n",
              "      <td>FAM58A</td>\n",
              "      <td>Truncating Mutations</td>\n",
              "      <td>1</td>\n",
              "    </tr>\n",
              "    <tr>\n",
              "      <th>1</th>\n",
              "      <td>1</td>\n",
              "      <td>CBL</td>\n",
              "      <td>W802*</td>\n",
              "      <td>2</td>\n",
              "    </tr>\n",
              "    <tr>\n",
              "      <th>2</th>\n",
              "      <td>2</td>\n",
              "      <td>CBL</td>\n",
              "      <td>Q249E</td>\n",
              "      <td>2</td>\n",
              "    </tr>\n",
              "    <tr>\n",
              "      <th>3</th>\n",
              "      <td>3</td>\n",
              "      <td>CBL</td>\n",
              "      <td>N454D</td>\n",
              "      <td>3</td>\n",
              "    </tr>\n",
              "    <tr>\n",
              "      <th>4</th>\n",
              "      <td>4</td>\n",
              "      <td>CBL</td>\n",
              "      <td>L399V</td>\n",
              "      <td>4</td>\n",
              "    </tr>\n",
              "  </tbody>\n",
              "</table>\n",
              "</div>"
            ],
            "text/plain": [
              "   ID    Gene             Variation  Class\n",
              "0   0  FAM58A  Truncating Mutations      1\n",
              "1   1     CBL                 W802*      2\n",
              "2   2     CBL                 Q249E      2\n",
              "3   3     CBL                 N454D      3\n",
              "4   4     CBL                 L399V      4"
            ]
          },
          "metadata": {
            "tags": []
          },
          "execution_count": 7
        }
      ]
    },
    {
      "cell_type": "code",
      "metadata": {
        "colab": {
          "base_uri": "https://localhost:8080/",
          "height": 206
        },
        "id": "BN0eVok5Ar5W",
        "outputId": "5c000901-f1a8-4883-ba71-6bf0eac42698"
      },
      "source": [
        "texts_data = pd.read_csv('/content/training_text', \n",
        "                         sep=\"\\|\\|\", \n",
        "                         engine=\"python\", \n",
        "                         names=[\"ID\",\"TEXT\"], \n",
        "                         skiprows=1)\n",
        "\n",
        "texts_data.head()"
      ],
      "execution_count": 8,
      "outputs": [
        {
          "output_type": "execute_result",
          "data": {
            "text/html": [
              "<div>\n",
              "<style scoped>\n",
              "    .dataframe tbody tr th:only-of-type {\n",
              "        vertical-align: middle;\n",
              "    }\n",
              "\n",
              "    .dataframe tbody tr th {\n",
              "        vertical-align: top;\n",
              "    }\n",
              "\n",
              "    .dataframe thead th {\n",
              "        text-align: right;\n",
              "    }\n",
              "</style>\n",
              "<table border=\"1\" class=\"dataframe\">\n",
              "  <thead>\n",
              "    <tr style=\"text-align: right;\">\n",
              "      <th></th>\n",
              "      <th>ID</th>\n",
              "      <th>TEXT</th>\n",
              "    </tr>\n",
              "  </thead>\n",
              "  <tbody>\n",
              "    <tr>\n",
              "      <th>0</th>\n",
              "      <td>0</td>\n",
              "      <td>Cyclin-dependent kinases (CDKs) regulate a var...</td>\n",
              "    </tr>\n",
              "    <tr>\n",
              "      <th>1</th>\n",
              "      <td>1</td>\n",
              "      <td>Abstract Background  Non-small cell lung canc...</td>\n",
              "    </tr>\n",
              "    <tr>\n",
              "      <th>2</th>\n",
              "      <td>2</td>\n",
              "      <td>Abstract Background  Non-small cell lung canc...</td>\n",
              "    </tr>\n",
              "    <tr>\n",
              "      <th>3</th>\n",
              "      <td>3</td>\n",
              "      <td>Recent evidence has demonstrated that acquired...</td>\n",
              "    </tr>\n",
              "    <tr>\n",
              "      <th>4</th>\n",
              "      <td>4</td>\n",
              "      <td>Oncogenic mutations in the monomeric Casitas B...</td>\n",
              "    </tr>\n",
              "  </tbody>\n",
              "</table>\n",
              "</div>"
            ],
            "text/plain": [
              "   ID                                               TEXT\n",
              "0   0  Cyclin-dependent kinases (CDKs) regulate a var...\n",
              "1   1   Abstract Background  Non-small cell lung canc...\n",
              "2   2   Abstract Background  Non-small cell lung canc...\n",
              "3   3  Recent evidence has demonstrated that acquired...\n",
              "4   4  Oncogenic mutations in the monomeric Casitas B..."
            ]
          },
          "metadata": {
            "tags": []
          },
          "execution_count": 8
        }
      ]
    },
    {
      "cell_type": "markdown",
      "metadata": {
        "id": "ydM2grwpBHCv"
      },
      "source": [
        "## Merging variants and texts dataframes"
      ]
    },
    {
      "cell_type": "code",
      "metadata": {
        "colab": {
          "base_uri": "https://localhost:8080/",
          "height": 0
        },
        "id": "65BIIpmKA_BI",
        "outputId": "eca63fec-b93f-4854-d474-e0b6fcdbc82d"
      },
      "source": [
        "data = pd.merge(texts_data, variants_data, on='ID', how='left')\n",
        "\n",
        "data.head()"
      ],
      "execution_count": 9,
      "outputs": [
        {
          "output_type": "execute_result",
          "data": {
            "text/html": [
              "<div>\n",
              "<style scoped>\n",
              "    .dataframe tbody tr th:only-of-type {\n",
              "        vertical-align: middle;\n",
              "    }\n",
              "\n",
              "    .dataframe tbody tr th {\n",
              "        vertical-align: top;\n",
              "    }\n",
              "\n",
              "    .dataframe thead th {\n",
              "        text-align: right;\n",
              "    }\n",
              "</style>\n",
              "<table border=\"1\" class=\"dataframe\">\n",
              "  <thead>\n",
              "    <tr style=\"text-align: right;\">\n",
              "      <th></th>\n",
              "      <th>ID</th>\n",
              "      <th>TEXT</th>\n",
              "      <th>Gene</th>\n",
              "      <th>Variation</th>\n",
              "      <th>Class</th>\n",
              "    </tr>\n",
              "  </thead>\n",
              "  <tbody>\n",
              "    <tr>\n",
              "      <th>0</th>\n",
              "      <td>0</td>\n",
              "      <td>Cyclin-dependent kinases (CDKs) regulate a var...</td>\n",
              "      <td>FAM58A</td>\n",
              "      <td>Truncating Mutations</td>\n",
              "      <td>1</td>\n",
              "    </tr>\n",
              "    <tr>\n",
              "      <th>1</th>\n",
              "      <td>1</td>\n",
              "      <td>Abstract Background  Non-small cell lung canc...</td>\n",
              "      <td>CBL</td>\n",
              "      <td>W802*</td>\n",
              "      <td>2</td>\n",
              "    </tr>\n",
              "    <tr>\n",
              "      <th>2</th>\n",
              "      <td>2</td>\n",
              "      <td>Abstract Background  Non-small cell lung canc...</td>\n",
              "      <td>CBL</td>\n",
              "      <td>Q249E</td>\n",
              "      <td>2</td>\n",
              "    </tr>\n",
              "    <tr>\n",
              "      <th>3</th>\n",
              "      <td>3</td>\n",
              "      <td>Recent evidence has demonstrated that acquired...</td>\n",
              "      <td>CBL</td>\n",
              "      <td>N454D</td>\n",
              "      <td>3</td>\n",
              "    </tr>\n",
              "    <tr>\n",
              "      <th>4</th>\n",
              "      <td>4</td>\n",
              "      <td>Oncogenic mutations in the monomeric Casitas B...</td>\n",
              "      <td>CBL</td>\n",
              "      <td>L399V</td>\n",
              "      <td>4</td>\n",
              "    </tr>\n",
              "  </tbody>\n",
              "</table>\n",
              "</div>"
            ],
            "text/plain": [
              "   ID  ... Class\n",
              "0   0  ...     1\n",
              "1   1  ...     2\n",
              "2   2  ...     2\n",
              "3   3  ...     3\n",
              "4   4  ...     4\n",
              "\n",
              "[5 rows x 5 columns]"
            ]
          },
          "metadata": {
            "tags": []
          },
          "execution_count": 9
        }
      ]
    },
    {
      "cell_type": "markdown",
      "metadata": {
        "id": "aqv3ivpiBBw2"
      },
      "source": [
        "## Highlevel overview"
      ]
    },
    {
      "cell_type": "code",
      "metadata": {
        "colab": {
          "base_uri": "https://localhost:8080/"
        },
        "id": "kyOmk1BJA--N",
        "outputId": "87e4c285-f3d9-48e4-ec06-1c0a54fefc83"
      },
      "source": [
        "data.info()"
      ],
      "execution_count": 10,
      "outputs": [
        {
          "output_type": "stream",
          "text": [
            "<class 'pandas.core.frame.DataFrame'>\n",
            "Int64Index: 3321 entries, 0 to 3320\n",
            "Data columns (total 5 columns):\n",
            " #   Column     Non-Null Count  Dtype \n",
            "---  ------     --------------  ----- \n",
            " 0   ID         3321 non-null   int64 \n",
            " 1   TEXT       3316 non-null   object\n",
            " 2   Gene       3321 non-null   object\n",
            " 3   Variation  3321 non-null   object\n",
            " 4   Class      3321 non-null   int64 \n",
            "dtypes: int64(2), object(3)\n",
            "memory usage: 155.7+ KB\n"
          ],
          "name": "stdout"
        }
      ]
    },
    {
      "cell_type": "markdown",
      "metadata": {
        "id": "kgBDpnCuBaJ3"
      },
      "source": [
        "1. There are 3321 entries in the dataframe.\n",
        "2. Leaving ``Class`` column which is numerical representation of genetic mutation classes, rest are object datatype i.e. categorical and text.\n",
        "3. The ``TEXT`` column have 05 entries lesser than the total 3321, we'd look at them later."
      ]
    },
    {
      "cell_type": "code",
      "metadata": {
        "colab": {
          "base_uri": "https://localhost:8080/"
        },
        "id": "mgFJytm6A_EN",
        "outputId": "87574400-07a0-4f72-95b0-4748fb1022e2"
      },
      "source": [
        "data['Class'].describe()"
      ],
      "execution_count": 11,
      "outputs": [
        {
          "output_type": "execute_result",
          "data": {
            "text/plain": [
              "count    3321.000000\n",
              "mean        4.365854\n",
              "std         2.309781\n",
              "min         1.000000\n",
              "25%         2.000000\n",
              "50%         4.000000\n",
              "75%         7.000000\n",
              "max         9.000000\n",
              "Name: Class, dtype: float64"
            ]
          },
          "metadata": {
            "tags": []
          },
          "execution_count": 11
        }
      ]
    },
    {
      "cell_type": "code",
      "metadata": {
        "id": "akxa9G7TCutQ"
      },
      "source": [
        "# Removing from memory (RAM) as we're gonna load an 22GB pretrained model later\n",
        "# we need to do some memory hacks. \n",
        "\n",
        "%xdel variants_data\n",
        "%xdel texts_data"
      ],
      "execution_count": 12,
      "outputs": []
    },
    {
      "cell_type": "markdown",
      "metadata": {
        "id": "2MYd74DIDWGc"
      },
      "source": [
        "## Preprocessing"
      ]
    },
    {
      "cell_type": "markdown",
      "metadata": {
        "id": "u0QN8Qz6DjME"
      },
      "source": [
        "### NaN values"
      ]
    },
    {
      "cell_type": "code",
      "metadata": {
        "colab": {
          "base_uri": "https://localhost:8080/",
          "height": 206
        },
        "id": "m_isjD0JDazv",
        "outputId": "6f1edbba-9288-41e0-abc3-df785de6ef6c"
      },
      "source": [
        "data[data.isnull().any(axis=1)]"
      ],
      "execution_count": 13,
      "outputs": [
        {
          "output_type": "execute_result",
          "data": {
            "text/html": [
              "<div>\n",
              "<style scoped>\n",
              "    .dataframe tbody tr th:only-of-type {\n",
              "        vertical-align: middle;\n",
              "    }\n",
              "\n",
              "    .dataframe tbody tr th {\n",
              "        vertical-align: top;\n",
              "    }\n",
              "\n",
              "    .dataframe thead th {\n",
              "        text-align: right;\n",
              "    }\n",
              "</style>\n",
              "<table border=\"1\" class=\"dataframe\">\n",
              "  <thead>\n",
              "    <tr style=\"text-align: right;\">\n",
              "      <th></th>\n",
              "      <th>ID</th>\n",
              "      <th>TEXT</th>\n",
              "      <th>Gene</th>\n",
              "      <th>Variation</th>\n",
              "      <th>Class</th>\n",
              "    </tr>\n",
              "  </thead>\n",
              "  <tbody>\n",
              "    <tr>\n",
              "      <th>1109</th>\n",
              "      <td>1109</td>\n",
              "      <td>NaN</td>\n",
              "      <td>FANCA</td>\n",
              "      <td>S1088F</td>\n",
              "      <td>1</td>\n",
              "    </tr>\n",
              "    <tr>\n",
              "      <th>1277</th>\n",
              "      <td>1277</td>\n",
              "      <td>NaN</td>\n",
              "      <td>ARID5B</td>\n",
              "      <td>Truncating Mutations</td>\n",
              "      <td>1</td>\n",
              "    </tr>\n",
              "    <tr>\n",
              "      <th>1407</th>\n",
              "      <td>1407</td>\n",
              "      <td>NaN</td>\n",
              "      <td>FGFR3</td>\n",
              "      <td>K508M</td>\n",
              "      <td>6</td>\n",
              "    </tr>\n",
              "    <tr>\n",
              "      <th>1639</th>\n",
              "      <td>1639</td>\n",
              "      <td>NaN</td>\n",
              "      <td>FLT1</td>\n",
              "      <td>Amplification</td>\n",
              "      <td>6</td>\n",
              "    </tr>\n",
              "    <tr>\n",
              "      <th>2755</th>\n",
              "      <td>2755</td>\n",
              "      <td>NaN</td>\n",
              "      <td>BRAF</td>\n",
              "      <td>G596C</td>\n",
              "      <td>7</td>\n",
              "    </tr>\n",
              "  </tbody>\n",
              "</table>\n",
              "</div>"
            ],
            "text/plain": [
              "        ID TEXT    Gene             Variation  Class\n",
              "1109  1109  NaN   FANCA                S1088F      1\n",
              "1277  1277  NaN  ARID5B  Truncating Mutations      1\n",
              "1407  1407  NaN   FGFR3                 K508M      6\n",
              "1639  1639  NaN    FLT1         Amplification      6\n",
              "2755  2755  NaN    BRAF                 G596C      7"
            ]
          },
          "metadata": {
            "tags": []
          },
          "execution_count": 13
        }
      ]
    },
    {
      "cell_type": "markdown",
      "metadata": {
        "id": "AJcCVNjODvvd"
      },
      "source": [
        "- There are 05 rows in the data in the ``'TEXT'`` column which are NaN\n",
        "- We'd  remove them, as these are text base and we cannot replace them with other values."
      ]
    },
    {
      "cell_type": "code",
      "metadata": {
        "id": "RdcdQP0MDte1"
      },
      "source": [
        "data.dropna(subset = [\"TEXT\"], inplace=True)"
      ],
      "execution_count": 14,
      "outputs": []
    },
    {
      "cell_type": "markdown",
      "metadata": {
        "id": "ip49_cOAD-gW"
      },
      "source": [
        "### Standard NLP preprocessing\n",
        "- Removing stop words\n",
        "- Removing puntuations"
      ]
    },
    {
      "cell_type": "code",
      "metadata": {
        "id": "86lVcdRhEMsc"
      },
      "source": [
        "stop_words = set(stopwords.words('english'))\n",
        "\n",
        "def text_processing(text):\n",
        "  \"\"\"Processing the sentence (single entry).\"\"\"\n",
        "\n",
        "  text = re.sub('\\s+',' ', text)\n",
        "  text = re.sub('[^a-zA-Z0-9\\n]', ' ', text)\n",
        "  text = text.lower()\n",
        "\n",
        "  tokens = [token for token in word_tokenize(text) if token not in punctuation and token not in stop_words]\n",
        "\n",
        "  return ' '.join(tokens)"
      ],
      "execution_count": 15,
      "outputs": []
    },
    {
      "cell_type": "code",
      "metadata": {
        "colab": {
          "base_uri": "https://localhost:8080/"
        },
        "id": "yy63nX5KFB8f",
        "outputId": "a77551f3-011b-4165-e849-e7c647865eb9"
      },
      "source": [
        "for index, text in tqdm(data.TEXT.iteritems()):\n",
        "  data[\"TEXT\"][index] = text_processing(text)"
      ],
      "execution_count": 16,
      "outputs": [
        {
          "output_type": "stream",
          "text": [
            "3316it [02:35, 21.30it/s]\n"
          ],
          "name": "stderr"
        }
      ]
    },
    {
      "cell_type": "code",
      "metadata": {
        "id": "ahOIACHQqRT3"
      },
      "source": [
        "data.Gene = data.Gene.str.replace(' ', '_')\n",
        "data.Variation = data.Variation.str.replace(' ', '_')"
      ],
      "execution_count": 17,
      "outputs": []
    },
    {
      "cell_type": "code",
      "metadata": {
        "colab": {
          "base_uri": "https://localhost:8080/",
          "height": 112
        },
        "id": "dF_Vhlp4GAVs",
        "outputId": "15d7767e-bc37-4a00-9e09-e9c66b63f54d"
      },
      "source": [
        "data.head(2)"
      ],
      "execution_count": 18,
      "outputs": [
        {
          "output_type": "execute_result",
          "data": {
            "text/html": [
              "<div>\n",
              "<style scoped>\n",
              "    .dataframe tbody tr th:only-of-type {\n",
              "        vertical-align: middle;\n",
              "    }\n",
              "\n",
              "    .dataframe tbody tr th {\n",
              "        vertical-align: top;\n",
              "    }\n",
              "\n",
              "    .dataframe thead th {\n",
              "        text-align: right;\n",
              "    }\n",
              "</style>\n",
              "<table border=\"1\" class=\"dataframe\">\n",
              "  <thead>\n",
              "    <tr style=\"text-align: right;\">\n",
              "      <th></th>\n",
              "      <th>ID</th>\n",
              "      <th>TEXT</th>\n",
              "      <th>Gene</th>\n",
              "      <th>Variation</th>\n",
              "      <th>Class</th>\n",
              "    </tr>\n",
              "  </thead>\n",
              "  <tbody>\n",
              "    <tr>\n",
              "      <th>0</th>\n",
              "      <td>0</td>\n",
              "      <td>cyclin dependent kinases cdks regulate variety...</td>\n",
              "      <td>FAM58A</td>\n",
              "      <td>Truncating_Mutations</td>\n",
              "      <td>1</td>\n",
              "    </tr>\n",
              "    <tr>\n",
              "      <th>1</th>\n",
              "      <td>1</td>\n",
              "      <td>abstract background non small cell lung cancer...</td>\n",
              "      <td>CBL</td>\n",
              "      <td>W802*</td>\n",
              "      <td>2</td>\n",
              "    </tr>\n",
              "  </tbody>\n",
              "</table>\n",
              "</div>"
            ],
            "text/plain": [
              "   ID  ... Class\n",
              "0   0  ...     1\n",
              "1   1  ...     2\n",
              "\n",
              "[2 rows x 5 columns]"
            ]
          },
          "metadata": {
            "tags": []
          },
          "execution_count": 18
        }
      ]
    },
    {
      "cell_type": "code",
      "metadata": {
        "id": "cNdy4oaDpAom"
      },
      "source": [
        "# Copying newly created dataframe into csv\n",
        "data.to_csv('CGM-processed.csv', index=False)"
      ],
      "execution_count": 19,
      "outputs": []
    },
    {
      "cell_type": "code",
      "metadata": {
        "id": "b3lqKmLyqiSm"
      },
      "source": [
        "# Copying to google drive\n",
        "!cp -r /content/CGM-processed.csv /content/drive/MyDrive/Data/CGV-Data"
      ],
      "execution_count": 20,
      "outputs": []
    },
    {
      "cell_type": "markdown",
      "metadata": {
        "id": "MT5YXL3I72yM"
      },
      "source": [
        "<a name=\"cell-id4\"></a>\n",
        "# Primary data analysis"
      ]
    },
    {
      "cell_type": "code",
      "metadata": {
        "id": "spDsXUXn73Ba"
      },
      "source": [
        ""
      ],
      "execution_count": 20,
      "outputs": []
    },
    {
      "cell_type": "markdown",
      "metadata": {
        "id": "CPHUige47lmo"
      },
      "source": [
        "<a name=\"cell-id5\"></a>\n",
        "# Data featurization"
      ]
    },
    {
      "cell_type": "code",
      "metadata": {
        "id": "xtgfxEW6kflm"
      },
      "source": [
        "y = np.array(data['Class'])"
      ],
      "execution_count": 21,
      "outputs": []
    },
    {
      "cell_type": "code",
      "metadata": {
        "id": "MNaAKZY4JO3y"
      },
      "source": [
        "X = data[data.columns[1:4]]"
      ],
      "execution_count": 22,
      "outputs": []
    },
    {
      "cell_type": "code",
      "metadata": {
        "id": "SsiCRJAVoEHY"
      },
      "source": [
        "# Splitting the data into train and test\n",
        "\n",
        "x_train, x_test, y_train, y_test = train_test_split(X, y, \n",
        "                                                    test_size=0.25, stratify=y)"
      ],
      "execution_count": 23,
      "outputs": []
    },
    {
      "cell_type": "code",
      "metadata": {
        "colab": {
          "base_uri": "https://localhost:8080/"
        },
        "id": "tqHQex8FJd8S",
        "outputId": "3b421b7c-de0c-4606-bc96-fa840eb84ce2"
      },
      "source": [
        "x_train.shape"
      ],
      "execution_count": 24,
      "outputs": [
        {
          "output_type": "execute_result",
          "data": {
            "text/plain": [
              "(2487, 3)"
            ]
          },
          "metadata": {
            "tags": []
          },
          "execution_count": 24
        }
      ]
    },
    {
      "cell_type": "code",
      "metadata": {
        "colab": {
          "base_uri": "https://localhost:8080/"
        },
        "id": "ldQzK73nJfiY",
        "outputId": "818e6b81-ebb8-4fe6-e20c-926e97cbb699"
      },
      "source": [
        "x_test.shape"
      ],
      "execution_count": 25,
      "outputs": [
        {
          "output_type": "execute_result",
          "data": {
            "text/plain": [
              "(829, 3)"
            ]
          },
          "metadata": {
            "tags": []
          },
          "execution_count": 25
        }
      ]
    },
    {
      "cell_type": "code",
      "metadata": {
        "colab": {
          "base_uri": "https://localhost:8080/",
          "height": 206
        },
        "id": "ViKH2TJtJhyP",
        "outputId": "2b0c154a-f078-42fd-dc32-eef1d61fab81"
      },
      "source": [
        "x_test.head()"
      ],
      "execution_count": 26,
      "outputs": [
        {
          "output_type": "execute_result",
          "data": {
            "text/html": [
              "<div>\n",
              "<style scoped>\n",
              "    .dataframe tbody tr th:only-of-type {\n",
              "        vertical-align: middle;\n",
              "    }\n",
              "\n",
              "    .dataframe tbody tr th {\n",
              "        vertical-align: top;\n",
              "    }\n",
              "\n",
              "    .dataframe thead th {\n",
              "        text-align: right;\n",
              "    }\n",
              "</style>\n",
              "<table border=\"1\" class=\"dataframe\">\n",
              "  <thead>\n",
              "    <tr style=\"text-align: right;\">\n",
              "      <th></th>\n",
              "      <th>TEXT</th>\n",
              "      <th>Gene</th>\n",
              "      <th>Variation</th>\n",
              "    </tr>\n",
              "  </thead>\n",
              "  <tbody>\n",
              "    <tr>\n",
              "      <th>2887</th>\n",
              "      <td>mutation screening breast ovarian cancer predi...</td>\n",
              "      <td>BRCA2</td>\n",
              "      <td>P375S</td>\n",
              "    </tr>\n",
              "    <tr>\n",
              "      <th>2533</th>\n",
              "      <td>genetic screening breast ovarian cancer suscep...</td>\n",
              "      <td>BRCA1</td>\n",
              "      <td>Q1785H</td>\n",
              "    </tr>\n",
              "    <tr>\n",
              "      <th>2605</th>\n",
              "      <td>abstract brca1 gene individuals risk breast ov...</td>\n",
              "      <td>BRCA1</td>\n",
              "      <td>V1665M</td>\n",
              "    </tr>\n",
              "    <tr>\n",
              "      <th>1869</th>\n",
              "      <td>genes encoding components pi3k akt mtor signal...</td>\n",
              "      <td>MTOR</td>\n",
              "      <td>F1888I</td>\n",
              "    </tr>\n",
              "    <tr>\n",
              "      <th>1356</th>\n",
              "      <td>protein kinase v akt murine thymoma viral onco...</td>\n",
              "      <td>AKT1</td>\n",
              "      <td>P42T</td>\n",
              "    </tr>\n",
              "  </tbody>\n",
              "</table>\n",
              "</div>"
            ],
            "text/plain": [
              "                                                   TEXT   Gene Variation\n",
              "2887  mutation screening breast ovarian cancer predi...  BRCA2     P375S\n",
              "2533  genetic screening breast ovarian cancer suscep...  BRCA1    Q1785H\n",
              "2605  abstract brca1 gene individuals risk breast ov...  BRCA1    V1665M\n",
              "1869  genes encoding components pi3k akt mtor signal...   MTOR    F1888I\n",
              "1356  protein kinase v akt murine thymoma viral onco...   AKT1      P42T"
            ]
          },
          "metadata": {
            "tags": []
          },
          "execution_count": 26
        }
      ]
    },
    {
      "cell_type": "markdown",
      "metadata": {
        "id": "WVUJLMKsJ_X5"
      },
      "source": [
        "## Categorical"
      ]
    },
    {
      "cell_type": "markdown",
      "metadata": {
        "id": "UNfvPV_0JxYv"
      },
      "source": [
        "### One-hot encoding"
      ]
    },
    {
      "cell_type": "code",
      "metadata": {
        "id": "p4mElYKVKxDv"
      },
      "source": [
        "gene_ohe = CountVectorizer()\n",
        "ohe_tr_gene = gene_ohe.fit_transform(np.array(x_train['Gene']))\n",
        "ohe_ts_gene = gene_ohe.transform(np.array(x_test['Gene']))"
      ],
      "execution_count": 27,
      "outputs": []
    },
    {
      "cell_type": "code",
      "metadata": {
        "id": "S_nlVRMuiAYF"
      },
      "source": [
        "# Normalising the values\n",
        "ohe_tr_gene=normalize(ohe_tr_gene, axis=0)\n",
        "ohe_ts_gene=normalize(ohe_ts_gene, axis=0)"
      ],
      "execution_count": 28,
      "outputs": []
    },
    {
      "cell_type": "code",
      "metadata": {
        "colab": {
          "base_uri": "https://localhost:8080/"
        },
        "id": "Tznz2bKiK-MF",
        "outputId": "d34bd1ea-ece0-4b66-c7c4-82f1fa57523c"
      },
      "source": [
        "ohe_ts_gene.todense().shape"
      ],
      "execution_count": 29,
      "outputs": [
        {
          "output_type": "execute_result",
          "data": {
            "text/plain": [
              "(829, 244)"
            ]
          },
          "metadata": {
            "tags": []
          },
          "execution_count": 29
        }
      ]
    },
    {
      "cell_type": "code",
      "metadata": {
        "id": "hOsS4xQqn3r8"
      },
      "source": [
        "var_ohe = CountVectorizer()\n",
        "ohe_tr_var = var_ohe.fit_transform(np.array(x_train['Variation']))\n",
        "ohe_ts_var = var_ohe.transform(np.array(x_test['Variation']))"
      ],
      "execution_count": 30,
      "outputs": []
    },
    {
      "cell_type": "code",
      "metadata": {
        "id": "bMtvC-lMiUnE"
      },
      "source": [
        "# Normalising the values\n",
        "ohe_tr_var=normalize(ohe_tr_var, axis=0)\n",
        "ohe_ts_var=normalize(ohe_ts_var, axis=0)"
      ],
      "execution_count": 31,
      "outputs": []
    },
    {
      "cell_type": "code",
      "metadata": {
        "colab": {
          "base_uri": "https://localhost:8080/"
        },
        "id": "-VB2t1ozNyyQ",
        "outputId": "baf2f2e6-1689-4c1c-f1e4-55f829644c01"
      },
      "source": [
        "ohe_ts_var.shape"
      ],
      "execution_count": 32,
      "outputs": [
        {
          "output_type": "execute_result",
          "data": {
            "text/plain": [
              "(829, 2280)"
            ]
          },
          "metadata": {
            "tags": []
          },
          "execution_count": 32
        }
      ]
    },
    {
      "cell_type": "markdown",
      "metadata": {
        "id": "Ooe3vztHJzzY"
      },
      "source": [
        "### Response-encoding"
      ]
    },
    {
      "cell_type": "code",
      "metadata": {
        "id": "UhW-xWGXOJ6R"
      },
      "source": [
        "def probabilities(x, y, class_label):\n",
        "    \"\"\"\n",
        "    Computes probability score required for response encoding\n",
        "    \"\"\"\n",
        "\n",
        "    total_outcome = dict(x.value_counts())\n",
        "    count_outcome = x[y==class_label].value_counts()\n",
        "\n",
        "    prob_class = dict()\n",
        "    for feature in x:\n",
        "        if feature in count_outcome.keys():\n",
        "            prob_class[feature] = np.float(count_outcome[feature]/total_outcome[feature])\n",
        "        else:\n",
        "            prob_class[feature] = np.float(0)\n",
        "    \n",
        "    return prob_class\n",
        "\n",
        "def response_fit(x, y):\n",
        "    \n",
        "    prob_1 = probabilities(x, y, class_label=1)\n",
        "    prob_2 = probabilities(x, y, class_label=2)\n",
        "    prob_3 = probabilities(x, y, class_label=3)\n",
        "    prob_4 = probabilities(x, y, class_label=4)\n",
        "    prob_5 = probabilities(x, y, class_label=5)\n",
        "    prob_6 = probabilities(x, y, class_label=6)\n",
        "    prob_7 = probabilities(x, y, class_label=7)\n",
        "    prob_8 = probabilities(x, y, class_label=8)\n",
        "    prob_0 = probabilities(x, y, class_label=0)\n",
        "    \n",
        "    score = dict()\n",
        "    for category in x.unique():\n",
        "        score[category] = (prob_1[category], prob_2[category], prob_3[category], \n",
        "                           prob_4[category], prob_5[category], prob_6[category],\n",
        "                           prob_7[category], prob_8[category], prob_0[category])\n",
        "    \n",
        "    return score\n",
        "\n",
        "def response_transform(scores, x):\n",
        "    \"\"\"\"\"\"\n",
        "    response = list()\n",
        "    for category in x:\n",
        "      if category in scores.keys():\n",
        "        response.append(scores[category])\n",
        "      else:\n",
        "        response.append((0.5, 0.5, 0.5, 0.5, 0.5, 0.5, 0.5, 0.5, 0.5))\n",
        "        \n",
        "    return np.array(response)          "
      ],
      "execution_count": 33,
      "outputs": []
    },
    {
      "cell_type": "code",
      "metadata": {
        "id": "QD_Ha1fln3vI"
      },
      "source": [
        "score_dic = response_fit(x_train['Gene'], y_train)\n",
        "\n",
        "res_tr_gene = response_transform(score_dic, x_train['Gene'])\n",
        "res_ts_gene = response_transform(score_dic, x_test['Gene'])"
      ],
      "execution_count": 34,
      "outputs": []
    },
    {
      "cell_type": "code",
      "metadata": {
        "colab": {
          "base_uri": "https://localhost:8080/"
        },
        "id": "-DgmBrvKOs9O",
        "outputId": "608adeae-90d2-4f13-b656-c547061249d7"
      },
      "source": [
        "res_ts_gene.shape"
      ],
      "execution_count": 35,
      "outputs": [
        {
          "output_type": "execute_result",
          "data": {
            "text/plain": [
              "(829, 9)"
            ]
          },
          "metadata": {
            "tags": []
          },
          "execution_count": 35
        }
      ]
    },
    {
      "cell_type": "code",
      "metadata": {
        "id": "zgoFZR1vOlbx"
      },
      "source": [
        "score_dic = response_fit(x_train['Variation'], y_train)\n",
        "\n",
        "res_tr_var = response_transform(score_dic, x_train['Variation'])\n",
        "res_ts_var= response_transform(score_dic, x_test['Variation'])"
      ],
      "execution_count": 36,
      "outputs": []
    },
    {
      "cell_type": "code",
      "metadata": {
        "colab": {
          "base_uri": "https://localhost:8080/"
        },
        "id": "hL5xnTbbOuu2",
        "outputId": "dc5414c3-3450-44d5-bf2e-5ae24d2e43ff"
      },
      "source": [
        "res_ts_var.shape"
      ],
      "execution_count": 37,
      "outputs": [
        {
          "output_type": "execute_result",
          "data": {
            "text/plain": [
              "(829, 9)"
            ]
          },
          "metadata": {
            "tags": []
          },
          "execution_count": 37
        }
      ]
    },
    {
      "cell_type": "markdown",
      "metadata": {
        "id": "WzVBIEQIJ9Bq"
      },
      "source": [
        "## Text"
      ]
    },
    {
      "cell_type": "markdown",
      "metadata": {
        "id": "41pxRC-PO3s-"
      },
      "source": [
        "### TF-IDF "
      ]
    },
    {
      "cell_type": "code",
      "metadata": {
        "id": "kk_LEhd27lr3",
        "colab": {
          "base_uri": "https://localhost:8080/"
        },
        "outputId": "2b7ad6f6-314d-46f7-c420-ba6975032161"
      },
      "source": [
        "vec_start = datetime.now()\n",
        "\n",
        "tfidf = TfidfVectorizer(ngram_range=(2, 4), max_features=700)\n",
        "\n",
        "tfidf_tr_text = tfidf.fit_transform(x_train['TEXT'])\n",
        "tfidf_ts_text = tfidf.transform(x_test['TEXT'])\n",
        "\n",
        "vec_end = datetime.now()\n",
        "print(f\"Took: {vec_end-vec_start}\")"
      ],
      "execution_count": 38,
      "outputs": [
        {
          "output_type": "stream",
          "text": [
            "Took: 0:02:41.481648\n"
          ],
          "name": "stdout"
        }
      ]
    },
    {
      "cell_type": "code",
      "metadata": {
        "colab": {
          "base_uri": "https://localhost:8080/"
        },
        "id": "wvUSu9NSP_Dd",
        "outputId": "158486f5-2e57-42ba-f829-3c4f0c62a3d9"
      },
      "source": [
        "tfidf_ts_text.shape"
      ],
      "execution_count": 39,
      "outputs": [
        {
          "output_type": "execute_result",
          "data": {
            "text/plain": [
              "(829, 700)"
            ]
          },
          "metadata": {
            "tags": []
          },
          "execution_count": 39
        }
      ]
    },
    {
      "cell_type": "code",
      "metadata": {
        "id": "XmiHGgGSRKCU"
      },
      "source": [
        "%xdel tfidf"
      ],
      "execution_count": 40,
      "outputs": []
    },
    {
      "cell_type": "markdown",
      "metadata": {
        "id": "-Xdl5IwGO7DO"
      },
      "source": [
        "### Pretrained BioSent2Vec Model"
      ]
    },
    {
      "cell_type": "markdown",
      "metadata": {
        "id": "1RMxBaFST9qj"
      },
      "source": [
        "#### Downloading the model"
      ]
    },
    {
      "cell_type": "code",
      "metadata": {
        "colab": {
          "base_uri": "https://localhost:8080/"
        },
        "id": "qwwEQ_LsO7L2",
        "outputId": "41423dea-71cf-47d7-dfe8-208643e4eeff"
      },
      "source": [
        "! wget --header 'Host: ftp.ncbi.nlm.nih.gov' --user-agent 'Mozilla/5.0 (Windows NT 10.0; Win64; x64; rv:86.0) Gecko/20100101 Firefox/86.0' --header 'Accept: text/html,application/xhtml+xml,application/xml;q=0.9,image/webp,*/*;q=0.8' --header 'Accept-Language: en-US,en;q=0.5' --referer 'https://github.com/ncbi-nlp/BioSentVec' --header 'DNT: 1' --header 'Upgrade-Insecure-Requests: 1' --header 'Sec-GPC: 1' 'https://ftp.ncbi.nlm.nih.gov/pub/lu/Suppl/BioSentVec/BioSentVec_PubMed_MIMICIII-bigram_d700.bin' --output-document 'BioSentVec_PubMed_MIMICIII-bigram_d700.bin'"
      ],
      "execution_count": 41,
      "outputs": [
        {
          "output_type": "stream",
          "text": [
            "--2021-03-25 20:53:09--  https://ftp.ncbi.nlm.nih.gov/pub/lu/Suppl/BioSentVec/BioSentVec_PubMed_MIMICIII-bigram_d700.bin\n",
            "Resolving ftp.ncbi.nlm.nih.gov (ftp.ncbi.nlm.nih.gov)... 130.14.250.13, 130.14.250.11, 2607:f220:41e:250::13, ...\n",
            "Connecting to ftp.ncbi.nlm.nih.gov (ftp.ncbi.nlm.nih.gov)|130.14.250.13|:443... connected.\n",
            "HTTP request sent, awaiting response... 200 OK\n",
            "Length: 22475736490 (21G) [application/octet-stream]\n",
            "Saving to: ‘BioSentVec_PubMed_MIMICIII-bigram_d700.bin’\n",
            "\n",
            "BioSentVec_PubMed_M  25%[====>               ]   5.30G  41.0MB/s    in 76s     \n",
            "\n",
            "2021-03-25 20:54:26 (71.1 MB/s) - Connection closed at byte 5692653568. Retrying.\n",
            "\n",
            "--2021-03-25 20:54:27--  (try: 2)  https://ftp.ncbi.nlm.nih.gov/pub/lu/Suppl/BioSentVec/BioSentVec_PubMed_MIMICIII-bigram_d700.bin\n",
            "Connecting to ftp.ncbi.nlm.nih.gov (ftp.ncbi.nlm.nih.gov)|130.14.250.13|:443... connected.\n",
            "HTTP request sent, awaiting response... 206 Partial Content\n",
            "Length: 22475736490 (21G), 16783082922 (16G) remaining [application/octet-stream]\n",
            "Saving to: ‘BioSentVec_PubMed_MIMICIII-bigram_d700.bin’\n",
            "\n",
            "BioSentVec_PubMed_M 100%[+++++==============>]  20.93G  44.3MB/s    in 4m 34s  \n",
            "\n",
            "2021-03-25 20:59:01 (58.3 MB/s) - ‘BioSentVec_PubMed_MIMICIII-bigram_d700.bin’ saved [22475736490/22475736490]\n",
            "\n"
          ],
          "name": "stdout"
        }
      ]
    },
    {
      "cell_type": "code",
      "metadata": {
        "colab": {
          "base_uri": "https://localhost:8080/"
        },
        "id": "WREAMNRIZ_Vl",
        "outputId": "5d4c2354-d8d0-4e65-f828-7dd6fb8ff49d"
      },
      "source": [
        "! ls "
      ],
      "execution_count": 42,
      "outputs": [
        {
          "output_type": "stream",
          "text": [
            "BioSentVec_PubMed_MIMICIII-bigram_d700.bin  sent2vec-master.zip\n",
            "CGM-processed.csv\t\t\t    training_text\n",
            "drive\t\t\t\t\t    training_text.zip\n",
            "sample_data\t\t\t\t    training_variants\n",
            "sent2vec-master\t\t\t\t    training_variants.zip\n"
          ],
          "name": "stdout"
        }
      ]
    },
    {
      "cell_type": "markdown",
      "metadata": {
        "id": "Vd9LVAfWCF5p"
      },
      "source": [
        "#### Loading"
      ]
    },
    {
      "cell_type": "code",
      "metadata": {
        "id": "3pifZ-h0Z_YX"
      },
      "source": [
        "# Model path\n",
        "path = '/content/BioSentVec_PubMed_MIMICIII-bigram_d700.bin'"
      ],
      "execution_count": 43,
      "outputs": []
    },
    {
      "cell_type": "code",
      "metadata": {
        "id": "HbhytEwCaLcB",
        "colab": {
          "base_uri": "https://localhost:8080/"
        },
        "outputId": "9ae7fc4d-c4a6-441e-84b3-30d9abd985f5"
      },
      "source": [
        "model = sent2vec.Sent2vecModel()\n",
        "try:\n",
        "    model.load_model(path)\n",
        "except Exception as e:\n",
        "    print(e)\n",
        "print('model successfully loaded')"
      ],
      "execution_count": 60,
      "outputs": [
        {
          "output_type": "stream",
          "text": [
            "model successfully loaded\n"
          ],
          "name": "stdout"
        }
      ]
    },
    {
      "cell_type": "code",
      "metadata": {
        "id": "MQ9VGNHdaLez",
        "colab": {
          "base_uri": "https://localhost:8080/"
        },
        "outputId": "da65bcff-8c3e-4dcd-e605-713369642756"
      },
      "source": [
        "ptm_tr_text = list()\n",
        "for text in tqdm(x_train['TEXT']):\n",
        "  ptm_tr_text.append(model.embed_sentence(text)[0])\n",
        "\n",
        "ptm_tr_text = np.array(ptm_tr_text)"
      ],
      "execution_count": 61,
      "outputs": [
        {
          "output_type": "stream",
          "text": [
            "100%|██████████| 2487/2487 [00:29<00:00, 84.48it/s]\n"
          ],
          "name": "stderr"
        }
      ]
    },
    {
      "cell_type": "code",
      "metadata": {
        "id": "Nv8e0bG7ca84",
        "colab": {
          "base_uri": "https://localhost:8080/"
        },
        "outputId": "a9be7a25-087a-4e98-8760-77719600ed78"
      },
      "source": [
        "ptm_tr_text.shape"
      ],
      "execution_count": 62,
      "outputs": [
        {
          "output_type": "execute_result",
          "data": {
            "text/plain": [
              "(2487, 700)"
            ]
          },
          "metadata": {
            "tags": []
          },
          "execution_count": 62
        }
      ]
    },
    {
      "cell_type": "code",
      "metadata": {
        "id": "7V74Zj1FUF99",
        "colab": {
          "base_uri": "https://localhost:8080/"
        },
        "outputId": "0e9cedaa-0897-4567-bc3d-03ff788c8e6a"
      },
      "source": [
        "ptm_ts_text = list()\n",
        "for text in tqdm(x_test['TEXT']):\n",
        "  ptm_ts_text.append(model.embed_sentence(text)[0])\n",
        "\n",
        "ptm_ts_text = np.array(ptm_ts_text)"
      ],
      "execution_count": 63,
      "outputs": [
        {
          "output_type": "stream",
          "text": [
            "100%|██████████| 829/829 [00:10<00:00, 80.81it/s]\n"
          ],
          "name": "stderr"
        }
      ]
    },
    {
      "cell_type": "code",
      "metadata": {
        "id": "mrUpQdP0cdxS",
        "colab": {
          "base_uri": "https://localhost:8080/"
        },
        "outputId": "d005762c-a26a-409f-e6d9-7bbfa53c65fc"
      },
      "source": [
        "ptm_ts_text.shape"
      ],
      "execution_count": 64,
      "outputs": [
        {
          "output_type": "execute_result",
          "data": {
            "text/plain": [
              "(829, 700)"
            ]
          },
          "metadata": {
            "tags": []
          },
          "execution_count": 64
        }
      ]
    },
    {
      "cell_type": "code",
      "metadata": {
        "id": "gO7T0mJFgE-X"
      },
      "source": [
        "%xdel model"
      ],
      "execution_count": 65,
      "outputs": []
    },
    {
      "cell_type": "markdown",
      "metadata": {
        "id": "ZDfQ1sPrcrGA"
      },
      "source": [
        "## Concatenation"
      ]
    },
    {
      "cell_type": "code",
      "metadata": {
        "id": "qjKSjMmocvPo"
      },
      "source": [
        "train_set_1 = np.hstack((tfidf_tr_text.toarray(), ohe_tr_var.toarray(), ohe_tr_gene.toarray()))\n",
        "test_set_1 = np.hstack((tfidf_ts_text.toarray(), ohe_ts_var.toarray(), ohe_ts_gene.toarray()))"
      ],
      "execution_count": 66,
      "outputs": []
    },
    {
      "cell_type": "code",
      "metadata": {
        "id": "Ya8bRPtPeUbo",
        "colab": {
          "base_uri": "https://localhost:8080/"
        },
        "outputId": "780653a0-bc78-40af-d426-a46291ecfd1d"
      },
      "source": [
        "train_set_1.shape"
      ],
      "execution_count": 67,
      "outputs": [
        {
          "output_type": "execute_result",
          "data": {
            "text/plain": [
              "(2487, 3224)"
            ]
          },
          "metadata": {
            "tags": []
          },
          "execution_count": 67
        }
      ]
    },
    {
      "cell_type": "code",
      "metadata": {
        "colab": {
          "base_uri": "https://localhost:8080/"
        },
        "id": "qYi9FbLrN8JX",
        "outputId": "fa2d0a7e-83e4-44e7-9a4c-8ca463bc3e45"
      },
      "source": [
        "ptm_tr_text.shape"
      ],
      "execution_count": 68,
      "outputs": [
        {
          "output_type": "execute_result",
          "data": {
            "text/plain": [
              "(2487, 700)"
            ]
          },
          "metadata": {
            "tags": []
          },
          "execution_count": 68
        }
      ]
    },
    {
      "cell_type": "code",
      "metadata": {
        "colab": {
          "base_uri": "https://localhost:8080/"
        },
        "id": "RLxmMAMUN_ad",
        "outputId": "cea808ad-2447-493e-96a9-b0e1b6838438"
      },
      "source": [
        "res_tr_var.shape"
      ],
      "execution_count": 69,
      "outputs": [
        {
          "output_type": "execute_result",
          "data": {
            "text/plain": [
              "(2487, 9)"
            ]
          },
          "metadata": {
            "tags": []
          },
          "execution_count": 69
        }
      ]
    },
    {
      "cell_type": "code",
      "metadata": {
        "id": "M7w7xL9dOCgE"
      },
      "source": [
        "test_set_2 = np.hstack((ptm_ts_text, res_ts_var, res_ts_gene))"
      ],
      "execution_count": 70,
      "outputs": []
    },
    {
      "cell_type": "code",
      "metadata": {
        "id": "gSMv5fCPcvZP"
      },
      "source": [
        "\n",
        "train_set_2 = np.hstack((ptm_tr_text, res_tr_var, res_tr_gene))"
      ],
      "execution_count": 71,
      "outputs": []
    },
    {
      "cell_type": "code",
      "metadata": {
        "id": "6-AUx0ougTUw",
        "colab": {
          "base_uri": "https://localhost:8080/"
        },
        "outputId": "f8019679-3908-42a1-a10a-05cbc17b54b8"
      },
      "source": [
        "test_set_2.shape"
      ],
      "execution_count": 73,
      "outputs": [
        {
          "output_type": "execute_result",
          "data": {
            "text/plain": [
              "(829, 718)"
            ]
          },
          "metadata": {
            "tags": []
          },
          "execution_count": 73
        }
      ]
    },
    {
      "cell_type": "markdown",
      "metadata": {
        "id": "Cq6c0FZo7lxD"
      },
      "source": [
        "<a name=\"cell-id6\"></a>\n",
        "# Secondary data analysis"
      ]
    },
    {
      "cell_type": "code",
      "metadata": {
        "id": "-R1sja0w7l1p",
        "colab": {
          "base_uri": "https://localhost:8080/",
          "height": 313
        },
        "outputId": "4e67fe36-2a74-410d-9486-6eb0378d0ee5"
      },
      "source": [
        "X_embedded = TSNE(n_components=2, perplexity=50).fit_transform(train_set_1) \n",
        "sns.scatterplot(X_embedded[:,0], X_embedded[:,1], \n",
        "                hue=y_train, legend='full', palette=palette)\n",
        "plt.title('All-Features-Train-Set01')\n",
        "plt.xlabel('X1')\n",
        "plt.ylabel('X2')"
      ],
      "execution_count": 74,
      "outputs": [
        {
          "output_type": "execute_result",
          "data": {
            "text/plain": [
              "Text(0, 0.5, 'X2')"
            ]
          },
          "metadata": {
            "tags": []
          },
          "execution_count": 74
        },
        {
          "output_type": "display_data",
          "data": {
            "image/png": "[encoded data removed]",
            "text/plain": [
              "<Figure size 432x288 with 1 Axes>"
            ]
          },
          "metadata": {
            "tags": [],
            "needs_background": "light"
          }
        }
      ]
    },
    {
      "cell_type": "code",
      "metadata": {
        "id": "2Zm-FQwVBg1r",
        "colab": {
          "base_uri": "https://localhost:8080/",
          "height": 313
        },
        "outputId": "e7a36eda-adf8-41a4-eb62-aea64fa69357"
      },
      "source": [
        "X_embedded = TSNE(n_components=2, perplexity=50).fit_transform(test_set_1) \n",
        "sns.scatterplot(X_embedded[:,0], X_embedded[:,1], \n",
        "                hue=y_test, legend='full', palette=palette)\n",
        "plt.title('All-Features-Test-Set01')\n",
        "plt.xlabel('X1')\n",
        "plt.ylabel('X2')"
      ],
      "execution_count": 75,
      "outputs": [
        {
          "output_type": "execute_result",
          "data": {
            "text/plain": [
              "Text(0, 0.5, 'X2')"
            ]
          },
          "metadata": {
            "tags": []
          },
          "execution_count": 75
        },
        {
          "output_type": "display_data",
          "data": {
            "image/png": "[encoded data removed]",
            "text/plain": [
              "<Figure size 432x288 with 1 Axes>"
            ]
          },
          "metadata": {
            "tags": [],
            "needs_background": "light"
          }
        }
      ]
    },
    {
      "cell_type": "code",
      "metadata": {
        "id": "cZMtzyW6vmIw",
        "colab": {
          "base_uri": "https://localhost:8080/",
          "height": 313
        },
        "outputId": "54c166dc-ddef-441d-df13-93e28e48e390"
      },
      "source": [
        "X_embedded = TSNE(n_components=2, perplexity=50).fit_transform(train_set_2) \n",
        "sns.scatterplot(X_embedded[:,0], X_embedded[:,1], \n",
        "                hue=y_train, legend='full', palette=palette)\n",
        "plt.title('All-Features-Train-Set02')\n",
        "plt.xlabel('X1')\n",
        "plt.ylabel('X2')"
      ],
      "execution_count": 76,
      "outputs": [
        {
          "output_type": "execute_result",
          "data": {
            "text/plain": [
              "Text(0, 0.5, 'X2')"
            ]
          },
          "metadata": {
            "tags": []
          },
          "execution_count": 76
        },
        {
          "output_type": "display_data",
          "data": {
            "image/png": "[encoded data removed]",
            "text/plain": [
              "<Figure size 432x288 with 1 Axes>"
            ]
          },
          "metadata": {
            "tags": [],
            "needs_background": "light"
          }
        }
      ]
    },
    {
      "cell_type": "code",
      "metadata": {
        "id": "v5hVE15ZAryy",
        "colab": {
          "base_uri": "https://localhost:8080/",
          "height": 313
        },
        "outputId": "6f61c1f1-ecc1-4898-fb64-6d7f219fdd3f"
      },
      "source": [
        "X_embedded = TSNE(n_components=2, perplexity=50).fit_transform(test_set_2) \n",
        "sns.scatterplot(X_embedded[:,0], X_embedded[:,1], \n",
        "                hue=y_test, legend='full', palette=palette)\n",
        "plt.title('All-Features-Test-Set02')\n",
        "plt.xlabel('X1')\n",
        "plt.ylabel('X2')"
      ],
      "execution_count": 77,
      "outputs": [
        {
          "output_type": "execute_result",
          "data": {
            "text/plain": [
              "Text(0, 0.5, 'X2')"
            ]
          },
          "metadata": {
            "tags": []
          },
          "execution_count": 77
        },
        {
          "output_type": "display_data",
          "data": {
            "image/png": "[encoded data removed]",
            "text/plain": [
              "<Figure size 432x288 with 1 Axes>"
            ]
          },
          "metadata": {
            "tags": [],
            "needs_background": "light"
          }
        }
      ]
    },
    {
      "cell_type": "markdown",
      "metadata": {
        "id": "2-Xp8fCo7l64"
      },
      "source": [
        "# ML model building"
      ]
    },
    {
      "cell_type": "markdown",
      "metadata": {
        "id": "lMfO_vStgwV2"
      },
      "source": [
        "## Linear models"
      ]
    },
    {
      "cell_type": "code",
      "metadata": {
        "id": "ItvotM8T7l_q"
      },
      "source": [
        "svm_clf = SVC()\n",
        "\n",
        "# defining parameter range\n",
        "params = {'C': [0.1, 1, 10, 100, 1000], \n",
        "          'gamma': [1, 0.1, 0.01, 0.001, 0.0001],\n",
        "          'kernel': ['rbf', 'linear']} \n",
        "\n",
        "svm_cv_set2 = GridSearchCV(svm_clf, params, \n",
        "                           cv=5, n_jobs=-1,\n",
        "                           verbose=2,\n",
        "                           return_train_score=True).fit(train_set_2, y_train)    "
      ],
      "execution_count": null,
      "outputs": []
    },
    {
      "cell_type": "code",
      "metadata": {
        "id": "-KTeMUIiyuNo"
      },
      "source": [
        "svm_cv_set2.best_score_"
      ],
      "execution_count": null,
      "outputs": []
    },
    {
      "cell_type": "code",
      "metadata": {
        "id": "tB9oqOz0y4dm"
      },
      "source": [
        "svm_cv_set2.best_estimator_"
      ],
      "execution_count": null,
      "outputs": []
    },
    {
      "cell_type": "code",
      "metadata": {
        "id": "mwmvzy2GyxUp"
      },
      "source": [
        "best_svm = svm_cv_set2.best_params_"
      ],
      "execution_count": null,
      "outputs": []
    },
    {
      "cell_type": "code",
      "metadata": {
        "id": "1c7wjOZF08_9"
      },
      "source": [
        "svm_clf = SVC(C=best_svm['C'], \n",
        "              gamma=best_svm['gamma'], \n",
        "              kernel=best_svm['kernel']).fit(train_set_2, y_train)"
      ],
      "execution_count": null,
      "outputs": []
    },
    {
      "cell_type": "code",
      "metadata": {
        "id": "Nxt241IvyuQl"
      },
      "source": [
        "grid_predictions = svm_clf.predict(test_set_2)\n",
        "\n",
        "# print classification report\n",
        "print(classification_report(y_test, grid_predictions))"
      ],
      "execution_count": null,
      "outputs": []
    },
    {
      "cell_type": "code",
      "metadata": {
        "id": "wRVoLomXyuVW"
      },
      "source": [
        ""
      ],
      "execution_count": null,
      "outputs": []
    },
    {
      "cell_type": "markdown",
      "metadata": {
        "id": "GoxA2C-zg0k-"
      },
      "source": [
        "## Tree-Based"
      ]
    },
    {
      "cell_type": "markdown",
      "metadata": {
        "id": "iZYFl72WixF-"
      },
      "source": [
        "### Hyper-parameter tunning set 01"
      ]
    },
    {
      "cell_type": "code",
      "metadata": {
        "id": "e1Erg7U0iwkG"
      },
      "source": [
        "dt_clf = DecisionTreeClassifier(class_weight='balanced')\n",
        "\n",
        "params = {\n",
        "    'max_depth':[1, 5, 9],\n",
        "    'min_samples_split':[5, 25, 50]}\n",
        "\n",
        "dt_cv_set1 = GridSearchCV(dt_clf, params, \n",
        "                          cv=5, n_jobs=-1, \n",
        "                          return_train_score=True, \n",
        "                          scoring='roc_auc_ovr_weighted').fit(train_set_1, y_train)    "
      ],
      "execution_count": null,
      "outputs": []
    },
    {
      "cell_type": "code",
      "metadata": {
        "id": "Are2kbJNg25e"
      },
      "source": [
        "dt_cv_set1.best_score_"
      ],
      "execution_count": null,
      "outputs": []
    },
    {
      "cell_type": "code",
      "metadata": {
        "id": "6LGtUDC0n0f8"
      },
      "source": [
        "dt_cv_set1.best_params_"
      ],
      "execution_count": null,
      "outputs": []
    },
    {
      "cell_type": "code",
      "metadata": {
        "id": "mLC77wX2n4I7"
      },
      "source": [
        "dt_clf = DecisionTreeClassifier(max_depth=dt_cv_set1.best_params_['max_depth'], \n",
        "                min_samples_split=dt_cv_set1.best_params_['min_samples_split']).\\\n",
        "                fit(train_set_1, y_train)"
      ],
      "execution_count": null,
      "outputs": []
    },
    {
      "cell_type": "code",
      "metadata": {
        "id": "dreVzhmJpaqN"
      },
      "source": [
        "y_pred_set1 = dt_clf.predict_proba(test_set_1)\n",
        "y_pred_set1=np.argmax(y_pred_set1, axis=1)"
      ],
      "execution_count": null,
      "outputs": []
    },
    {
      "cell_type": "code",
      "metadata": {
        "id": "g5-odnhQpbwK"
      },
      "source": [
        "from sklearn.metrics import classification_report"
      ],
      "execution_count": null,
      "outputs": []
    },
    {
      "cell_type": "code",
      "metadata": {
        "id": "lk3aI_uvsPdz"
      },
      "source": [
        "print(classification_report(y_test, y_pred_set1, labels=list(np.arange(1, 10))))"
      ],
      "execution_count": null,
      "outputs": []
    },
    {
      "cell_type": "markdown",
      "metadata": {
        "id": "tNAVqXyVssIb"
      },
      "source": [
        "### Hyper-parameter tunning set 02"
      ]
    },
    {
      "cell_type": "code",
      "metadata": {
        "id": "oZDmDBT2szoQ"
      },
      "source": [
        "# Since there is imbalance between all 09 classes\n",
        "# I have selected class weights to be depend upon\n",
        "# no of y values i.e 'balanced'\n",
        "\n",
        "dt_clf = DecisionTreeClassifier()\n",
        "\n",
        "params = {\n",
        "    'max_depth':[1, 5, 9],\n",
        "    'min_samples_split':[5, 25, 50]}\n",
        "\n",
        "dt_cv_set2 = GridSearchCV(dt_clf, params, \n",
        "                          cv=5, n_jobs=-1, \n",
        "                          return_train_score=True).fit(train_set_2, y_train)    "
      ],
      "execution_count": null,
      "outputs": []
    },
    {
      "cell_type": "code",
      "metadata": {
        "id": "w23qj4G2s1IJ"
      },
      "source": [
        "dt_cv_set2.best_score_"
      ],
      "execution_count": null,
      "outputs": []
    },
    {
      "cell_type": "code",
      "metadata": {
        "id": "h8l7oCzKs1Kx"
      },
      "source": [
        "dt_cv_set2.best_params_"
      ],
      "execution_count": null,
      "outputs": []
    },
    {
      "cell_type": "code",
      "metadata": {
        "id": "XgojYnDss9JI"
      },
      "source": [
        "dt_clf = DecisionTreeClassifier(max_depth=dt_cv_set2.best_params_['max_depth'], \n",
        "                                min_samples_split=dt_cv_set2.best_params_['min_samples_split']).fit(train_set_2, y_train)"
      ],
      "execution_count": null,
      "outputs": []
    },
    {
      "cell_type": "code",
      "metadata": {
        "id": "a-5T7ZsXs9O5"
      },
      "source": [
        "y_pred_set2 = dt_clf.predict_proba(test_set_2)\n",
        "y_pred_set2=np.argmax(y_pred_set2, axis=1)"
      ],
      "execution_count": null,
      "outputs": []
    },
    {
      "cell_type": "code",
      "metadata": {
        "id": "v21nSr9Hs9Un"
      },
      "source": [
        "print(classification_report(y_test, y_pred_set2, labels=list(np.arange(1, 10))))"
      ],
      "execution_count": null,
      "outputs": []
    },
    {
      "cell_type": "markdown",
      "metadata": {
        "id": "5aiMZBGm7mEv"
      },
      "source": [
        "<a name=\"cell-id8\"></a>\n",
        "# Conclusion"
      ]
    },
    {
      "cell_type": "code",
      "metadata": {
        "id": "cSGMSYN97mN4"
      },
      "source": [
        "end=datetime.now()\n",
        "\n",
        "print(f\"Time took for whole Notebook - {end-start}\")"
      ],
      "execution_count": null,
      "outputs": []
    },
    {
      "cell_type": "code",
      "metadata": {
        "id": "Nld626c9AJRr"
      },
      "source": [
        ""
      ],
      "execution_count": null,
      "outputs": []
    }
  ]
}