{
  "nbformat": 4,
  "nbformat_minor": 0,
  "metadata": {
    "colab": {
      "name": "Classifying Genetic Mutation .ipynb",
      "provenance": [],
      "collapsed_sections": [
        "mBe56vIs7lPY",
        "nWvm9iCU7lcA",
        "ydM2grwpBHCv",
        "aqv3ivpiBBw2",
        "2MYd74DIDWGc",
        "u0QN8Qz6DjME",
        "ip49_cOAD-gW",
        "MT5YXL3I72yM",
        "nCEjGd7lbID6",
        "CPHUige47lmo",
        "41pxRC-PO3s-",
        "ZDfQ1sPrcrGA",
        "s6ReW__gn23u",
        "Cq6c0FZo7lxD",
        "54UZo4qK2l5M",
        "Jy6W2vygldpz",
        "LfvW_0c6lA1J",
        "C-QcKCP_lK--"
      ],
      "machine_shape": "hm"
    },
    "kernelspec": {
      "display_name": "Python 3",
      "name": "python3"
    }
  },
  "cells": [
    {
      "cell_type": "markdown",
      "metadata": {
        "id": "jouhKmTG7ZBK"
      },
      "source": [
        "# Classifying Genetic mutation from high-dimensional clinical features"
      ]
    },
    {
      "cell_type": "markdown",
      "metadata": {
        "id": "kHXO3uX-ZY_C"
      },
      "source": [
        "1. Packages\n",
        "\n",
        "2. Downloading data\n",
        "\n",
        "3. Preprocessing data\n",
        "\n",
        "4. Primary data analysis\n",
        "\n",
        "5. Data featurization\n",
        "\n",
        "   1. Text Feature\n",
        "\n",
        "      - TF-IDF\n",
        "\n",
        "   2. Categorical Features\n",
        "      - Response encoding\n",
        "\n",
        "6. Secondary data analysis\n",
        "\n",
        "   1. Visualizing high dimensional text features by t-SNE\n",
        "   2. Visualizing Gene & Variation features by  t-SNE\n",
        "\n",
        "7. ML model building\n",
        "\n",
        "   1. Linear models\n",
        "      1. SVM-RBF\n",
        "      2. Logistic Regression (SGD)\n",
        "   2. Ensemble models\n",
        "      1. Random Forest\n",
        "      2. XGBoost\n",
        "\n",
        "8. Conclusion"
      ]
    },
    {
      "cell_type": "markdown",
      "metadata": {
        "id": "9RUrN8UIinCZ"
      },
      "source": [
        "**OBJECTIVE**\n",
        "\n",
        "The goal of this case study is to understand how different featurization technique affects the overall machine learning model performance. "
      ]
    },
    {
      "cell_type": "markdown",
      "metadata": {
        "id": "x5yE3E367k6x"
      },
      "source": [
        "<a name=\"cell-id1\"></a>\n",
        "# Packages"
      ]
    },
    {
      "cell_type": "code",
      "metadata": {
        "colab": {
          "base_uri": "https://localhost:8080/"
        },
        "id": "hrvct_1P_Rw5",
        "outputId": "e8e99b5f-d071-41b9-c6c1-148ab64d47cb"
      },
      "source": [
        "%matplotlib inline\n",
        "\n",
        "import pandas as pd\n",
        "import numpy as np\n",
        "import matplotlib.pyplot as plt  \n",
        "import seaborn as sns\n",
        "\n",
        "import re\n",
        "from tqdm import tqdm\n",
        "from datetime import datetime\n",
        "\n",
        "import nltk\n",
        "from nltk import word_tokenize\n",
        "from nltk.corpus import stopwords\n",
        "from string import punctuation\n",
        "\n",
        "from sklearn.manifold import TSNE\n",
        "from sklearn.decomposition import TruncatedSVD\n",
        "from sklearn.feature_extraction.text import TfidfVectorizer, CountVectorizer\n",
        "from sklearn.preprocessing import normalize, StandardScaler, LabelEncoder\n",
        "from sklearn.model_selection import GridSearchCV, train_test_split\n",
        "from sklearn.metrics import confusion_matrix, classification_report\n",
        "from sklearn.metrics import f1_score, balanced_accuracy_score\n",
        "\n",
        "from sklearn.svm import SVC\n",
        "from sklearn.linear_model import SGDClassifier\n",
        "from sklearn.ensemble import RandomForestClassifier\n",
        "from sklearn.neighbors import KNeighborsClassifier\n",
        "\n",
        "import warnings\n",
        "warnings.filterwarnings(\"ignore\")\n",
        "\n",
        "nltk.download('stopwords')\n",
        "nltk.download('punkt')\n",
        "\n",
        "palette = ['#006400', '#bc8f8f', '#ff4500', '#ffd700', '#00ff00', \n",
        "           '#00ffff', '#a020f0', '#1e90ff', '#ff1493'] \n",
        "plt.style.use('seaborn-notebook')"
      ],
      "execution_count": null,
      "outputs": [
        {
          "output_type": "stream",
          "text": [
            "[nltk_data] Downloading package stopwords to /root/nltk_data...\n",
            "[nltk_data]   Package stopwords is already up-to-date!\n",
            "[nltk_data] Downloading package punkt to /root/nltk_data...\n",
            "[nltk_data]   Package punkt is already up-to-date!\n"
          ],
          "name": "stdout"
        }
      ]
    },
    {
      "cell_type": "code",
      "metadata": {
        "id": "iVgN8tgN2ajk"
      },
      "source": [
        "start=datetime.now()"
      ],
      "execution_count": null,
      "outputs": []
    },
    {
      "cell_type": "markdown",
      "metadata": {
        "id": "mBe56vIs7lPY"
      },
      "source": [
        "# Downloading data"
      ]
    },
    {
      "cell_type": "code",
      "metadata": {
        "colab": {
          "base_uri": "https://localhost:8080/"
        },
        "id": "GwN3ojXU7lWQ",
        "outputId": "1232d711-b742-4d77-8088-e74dae233ed7"
      },
      "source": [
        "# Train Texts\n",
        "! wget --header 'Host: storage.googleapis.com' --user-agent 'Mozilla/5.0 (Windows NT 10.0; Win64; x64; rv:87.0) Gecko/20100101 Firefox/87.0' --header 'Accept: text/html,application/xhtml+xml,application/xml;q=0.9,image/webp,*/*;q=0.8' --header 'Accept-Language: en-US,en;q=0.5' --referer 'https://www.kaggle.com/' --header 'DNT: 1' --header 'Upgrade-Insecure-Requests: 1' --header 'Sec-GPC: 1' 'https://storage.googleapis.com/kagglesdsdata/competitions/6841/44307/training_text.zip?GoogleAccessId=web-data@kaggle-161607.iam.gserviceaccount.com&Expires=1617008860&Signature=QfJ5ZdxHSxKoXPlMr8jzZps8EhiRPj96kCzii0FAySYZ0Myn6iSyuSrlWe2ybDynfDRbakpZESoF88XRS6zV9PsPEXNNCVgM1IUGDjj%2FtqDa1NTTcCjwLEhiKFTT7pAFR6O%2BAMaQ0Cepi5ZPYVcUbI1cJcEiuHe0Nk0x%2FCkdTtZRgMCYONMycPdHTVj0dlOtniqxtx0N7yORbregcmI3kGgG%2BVa6n9EMJSZX5vbIC5AW1VodpzxsCqNgnjGCW51gnb0NmipZwxbnCJ%2FZb3fQRCuIiNtX7rOL%2BYGfnfnWZQRC21G5Xx4%2BX%2B%2FSPGFrg3FpdcmJHGVY8S%2FJKS8PQv3%2FCA%3D%3D&response-content-disposition=attachment%3B+filename%3Dtraining_text.zip' --output-document 'training_text.zip' && unzip training_text.zip\n",
        "\n",
        "# Train Variants\n",
        "! wget --header 'Host: storage.googleapis.com' --user-agent 'Mozilla/5.0 (Windows NT 10.0; Win64; x64; rv:87.0) Gecko/20100101 Firefox/87.0' --header 'Accept: text/html,application/xhtml+xml,application/xml;q=0.9,image/webp,*/*;q=0.8' --header 'Accept-Language: en-US,en;q=0.5' --referer 'https://www.kaggle.com/' --header 'DNT: 1' --header 'Upgrade-Insecure-Requests: 1' --header 'Sec-GPC: 1' 'https://storage.googleapis.com/kagglesdsdata/competitions/6841/44307/training_variants.zip?GoogleAccessId=web-data@kaggle-161607.iam.gserviceaccount.com&Expires=1617008828&Signature=daXpYlinA3JfM6dRDJO81AddsFlJ07GrZA%2FGaJHfHrhDEx69HUbj24gbH2ahVgwwjZtZ6FICDEefb8IoJXXceQEZEMy53%2Ff9QgMhI7PBgPFtQ3KgdzZ3%2BipqvntyPQlsa92qCBBwC91iG65TMB%2B4AjfhqydDUEtjNXiySnndKWwt04FZqTtHRf3LBvhwpf5mdi9U3Duk%2FI%2BnxDyoRwo1b2ffV3CJbNWDJSuXnN%2Fu8BmiCqndjVN6fi772VeXHn9R3vsgYEs4g%2FhTUFzSn%2FaW0%2FPrtKVhx%2Fd3QuqhQUh3%2BVNoI9qvFBB%2BlyyfyYUNBMsxrd0Oi6zkPmM8R2q6TeSTzg%3D%3D&response-content-disposition=attachment%3B+filename%3Dtraining_variants.zip' --output-document 'training_variants.zip' && unzip training_variants.zip"
      ],
      "execution_count": null,
      "outputs": [
        {
          "output_type": "stream",
          "text": [
            "--2021-03-27 19:49:40--  https://storage.googleapis.com/kagglesdsdata/competitions/6841/44307/training_text.zip?GoogleAccessId=web-data@kaggle-161607.iam.gserviceaccount.com&Expires=1617008860&Signature=QfJ5ZdxHSxKoXPlMr8jzZps8EhiRPj96kCzii0FAySYZ0Myn6iSyuSrlWe2ybDynfDRbakpZESoF88XRS6zV9PsPEXNNCVgM1IUGDjj%2FtqDa1NTTcCjwLEhiKFTT7pAFR6O%2BAMaQ0Cepi5ZPYVcUbI1cJcEiuHe0Nk0x%2FCkdTtZRgMCYONMycPdHTVj0dlOtniqxtx0N7yORbregcmI3kGgG%2BVa6n9EMJSZX5vbIC5AW1VodpzxsCqNgnjGCW51gnb0NmipZwxbnCJ%2FZb3fQRCuIiNtX7rOL%2BYGfnfnWZQRC21G5Xx4%2BX%2B%2FSPGFrg3FpdcmJHGVY8S%2FJKS8PQv3%2FCA%3D%3D&response-content-disposition=attachment%3B+filename%3Dtraining_text.zip\n",
            "Resolving storage.googleapis.com (storage.googleapis.com)... 108.177.119.128, 108.177.126.128, 108.177.127.128, ...\n",
            "Connecting to storage.googleapis.com (storage.googleapis.com)|108.177.119.128|:443... connected.\n",
            "HTTP request sent, awaiting response... 200 OK\n",
            "Length: 63917183 (61M) [application/zip]\n",
            "Saving to: ‘training_text.zip’\n",
            "\n",
            "training_text.zip   100%[===================>]  60.96M  72.8MB/s    in 0.8s    \n",
            "\n",
            "2021-03-27 19:49:41 (72.8 MB/s) - ‘training_text.zip’ saved [63917183/63917183]\n",
            "\n",
            "Archive:  training_text.zip\n",
            "  inflating: training_text           \n",
            "--2021-03-27 19:49:44--  https://storage.googleapis.com/kagglesdsdata/competitions/6841/44307/training_variants.zip?GoogleAccessId=web-data@kaggle-161607.iam.gserviceaccount.com&Expires=1617008828&Signature=daXpYlinA3JfM6dRDJO81AddsFlJ07GrZA%2FGaJHfHrhDEx69HUbj24gbH2ahVgwwjZtZ6FICDEefb8IoJXXceQEZEMy53%2Ff9QgMhI7PBgPFtQ3KgdzZ3%2BipqvntyPQlsa92qCBBwC91iG65TMB%2B4AjfhqydDUEtjNXiySnndKWwt04FZqTtHRf3LBvhwpf5mdi9U3Duk%2FI%2BnxDyoRwo1b2ffV3CJbNWDJSuXnN%2Fu8BmiCqndjVN6fi772VeXHn9R3vsgYEs4g%2FhTUFzSn%2FaW0%2FPrtKVhx%2Fd3QuqhQUh3%2BVNoI9qvFBB%2BlyyfyYUNBMsxrd0Oi6zkPmM8R2q6TeSTzg%3D%3D&response-content-disposition=attachment%3B+filename%3Dtraining_variants.zip\n",
            "Resolving storage.googleapis.com (storage.googleapis.com)... 173.194.79.128, 108.177.96.128, 108.177.119.128, ...\n",
            "Connecting to storage.googleapis.com (storage.googleapis.com)|173.194.79.128|:443... connected.\n",
            "HTTP request sent, awaiting response... 200 OK\n",
            "Length: 24831 (24K) [application/zip]\n",
            "Saving to: ‘training_variants.zip’\n",
            "\n",
            "training_variants.z 100%[===================>]  24.25K  --.-KB/s    in 0s      \n",
            "\n",
            "2021-03-27 19:49:44 (75.0 MB/s) - ‘training_variants.zip’ saved [24831/24831]\n",
            "\n",
            "Archive:  training_variants.zip\n",
            "  inflating: training_variants       \n"
          ],
          "name": "stdout"
        }
      ]
    },
    {
      "cell_type": "code",
      "metadata": {
        "colab": {
          "base_uri": "https://localhost:8080/"
        },
        "id": "nz1dFeT2APov",
        "outputId": "6e76384b-d3b9-446f-c781-64104bc9513c"
      },
      "source": [
        "!ls -I *.zip"
      ],
      "execution_count": null,
      "outputs": [
        {
          "output_type": "stream",
          "text": [
            "training_variants.zip\n"
          ],
          "name": "stdout"
        }
      ]
    },
    {
      "cell_type": "markdown",
      "metadata": {
        "id": "nWvm9iCU7lcA"
      },
      "source": [
        "<a name=\"cell-id3\"></a>\n",
        "# Data Preprocessing"
      ]
    },
    {
      "cell_type": "code",
      "metadata": {
        "colab": {
          "base_uri": "https://localhost:8080/",
          "height": 206
        },
        "id": "1669sder7lhg",
        "outputId": "78928f51-cfb2-486e-ba6d-87769c8d87cf"
      },
      "source": [
        "variants_data = pd.read_csv('/content/training_variants', index_col=False)\n",
        "variants_data.head()"
      ],
      "execution_count": null,
      "outputs": [
        {
          "output_type": "execute_result",
          "data": {
            "text/html": [
              "<div>\n",
              "<style scoped>\n",
              "    .dataframe tbody tr th:only-of-type {\n",
              "        vertical-align: middle;\n",
              "    }\n",
              "\n",
              "    .dataframe tbody tr th {\n",
              "        vertical-align: top;\n",
              "    }\n",
              "\n",
              "    .dataframe thead th {\n",
              "        text-align: right;\n",
              "    }\n",
              "</style>\n",
              "<table border=\"1\" class=\"dataframe\">\n",
              "  <thead>\n",
              "    <tr style=\"text-align: right;\">\n",
              "      <th></th>\n",
              "      <th>ID</th>\n",
              "      <th>Gene</th>\n",
              "      <th>Variation</th>\n",
              "      <th>Class</th>\n",
              "    </tr>\n",
              "  </thead>\n",
              "  <tbody>\n",
              "    <tr>\n",
              "      <th>0</th>\n",
              "      <td>0</td>\n",
              "      <td>FAM58A</td>\n",
              "      <td>Truncating Mutations</td>\n",
              "      <td>1</td>\n",
              "    </tr>\n",
              "    <tr>\n",
              "      <th>1</th>\n",
              "      <td>1</td>\n",
              "      <td>CBL</td>\n",
              "      <td>W802*</td>\n",
              "      <td>2</td>\n",
              "    </tr>\n",
              "    <tr>\n",
              "      <th>2</th>\n",
              "      <td>2</td>\n",
              "      <td>CBL</td>\n",
              "      <td>Q249E</td>\n",
              "      <td>2</td>\n",
              "    </tr>\n",
              "    <tr>\n",
              "      <th>3</th>\n",
              "      <td>3</td>\n",
              "      <td>CBL</td>\n",
              "      <td>N454D</td>\n",
              "      <td>3</td>\n",
              "    </tr>\n",
              "    <tr>\n",
              "      <th>4</th>\n",
              "      <td>4</td>\n",
              "      <td>CBL</td>\n",
              "      <td>L399V</td>\n",
              "      <td>4</td>\n",
              "    </tr>\n",
              "  </tbody>\n",
              "</table>\n",
              "</div>"
            ],
            "text/plain": [
              "   ID    Gene             Variation  Class\n",
              "0   0  FAM58A  Truncating Mutations      1\n",
              "1   1     CBL                 W802*      2\n",
              "2   2     CBL                 Q249E      2\n",
              "3   3     CBL                 N454D      3\n",
              "4   4     CBL                 L399V      4"
            ]
          },
          "metadata": {
            "tags": []
          },
          "execution_count": 5
        }
      ]
    },
    {
      "cell_type": "code",
      "metadata": {
        "colab": {
          "base_uri": "https://localhost:8080/",
          "height": 206
        },
        "id": "BN0eVok5Ar5W",
        "outputId": "59185e9c-1ea3-4af0-806e-25049879bffe"
      },
      "source": [
        "texts_data = pd.read_csv('/content/training_text', \n",
        "                         sep=\"\\|\\|\", \n",
        "                         engine=\"python\", \n",
        "                         names=[\"ID\",\"TEXT\"], \n",
        "                         skiprows=1)\n",
        "\n",
        "texts_data.head()"
      ],
      "execution_count": null,
      "outputs": [
        {
          "output_type": "execute_result",
          "data": {
            "text/html": [
              "<div>\n",
              "<style scoped>\n",
              "    .dataframe tbody tr th:only-of-type {\n",
              "        vertical-align: middle;\n",
              "    }\n",
              "\n",
              "    .dataframe tbody tr th {\n",
              "        vertical-align: top;\n",
              "    }\n",
              "\n",
              "    .dataframe thead th {\n",
              "        text-align: right;\n",
              "    }\n",
              "</style>\n",
              "<table border=\"1\" class=\"dataframe\">\n",
              "  <thead>\n",
              "    <tr style=\"text-align: right;\">\n",
              "      <th></th>\n",
              "      <th>ID</th>\n",
              "      <th>TEXT</th>\n",
              "    </tr>\n",
              "  </thead>\n",
              "  <tbody>\n",
              "    <tr>\n",
              "      <th>0</th>\n",
              "      <td>0</td>\n",
              "      <td>Cyclin-dependent kinases (CDKs) regulate a var...</td>\n",
              "    </tr>\n",
              "    <tr>\n",
              "      <th>1</th>\n",
              "      <td>1</td>\n",
              "      <td>Abstract Background  Non-small cell lung canc...</td>\n",
              "    </tr>\n",
              "    <tr>\n",
              "      <th>2</th>\n",
              "      <td>2</td>\n",
              "      <td>Abstract Background  Non-small cell lung canc...</td>\n",
              "    </tr>\n",
              "    <tr>\n",
              "      <th>3</th>\n",
              "      <td>3</td>\n",
              "      <td>Recent evidence has demonstrated that acquired...</td>\n",
              "    </tr>\n",
              "    <tr>\n",
              "      <th>4</th>\n",
              "      <td>4</td>\n",
              "      <td>Oncogenic mutations in the monomeric Casitas B...</td>\n",
              "    </tr>\n",
              "  </tbody>\n",
              "</table>\n",
              "</div>"
            ],
            "text/plain": [
              "   ID                                               TEXT\n",
              "0   0  Cyclin-dependent kinases (CDKs) regulate a var...\n",
              "1   1   Abstract Background  Non-small cell lung canc...\n",
              "2   2   Abstract Background  Non-small cell lung canc...\n",
              "3   3  Recent evidence has demonstrated that acquired...\n",
              "4   4  Oncogenic mutations in the monomeric Casitas B..."
            ]
          },
          "metadata": {
            "tags": []
          },
          "execution_count": 6
        }
      ]
    },
    {
      "cell_type": "markdown",
      "metadata": {
        "id": "ydM2grwpBHCv"
      },
      "source": [
        "## Merging variants and texts dataframes"
      ]
    },
    {
      "cell_type": "code",
      "metadata": {
        "colab": {
          "base_uri": "https://localhost:8080/"
        },
        "id": "65BIIpmKA_BI",
        "outputId": "c9db134e-436e-4761-df47-105d1e0280ed"
      },
      "source": [
        "data = pd.merge(texts_data, variants_data, on='ID', how='left')\n",
        "\n",
        "data.head()"
      ],
      "execution_count": null,
      "outputs": [
        {
          "output_type": "execute_result",
          "data": {
            "text/html": [
              "<div>\n",
              "<style scoped>\n",
              "    .dataframe tbody tr th:only-of-type {\n",
              "        vertical-align: middle;\n",
              "    }\n",
              "\n",
              "    .dataframe tbody tr th {\n",
              "        vertical-align: top;\n",
              "    }\n",
              "\n",
              "    .dataframe thead th {\n",
              "        text-align: right;\n",
              "    }\n",
              "</style>\n",
              "<table border=\"1\" class=\"dataframe\">\n",
              "  <thead>\n",
              "    <tr style=\"text-align: right;\">\n",
              "      <th></th>\n",
              "      <th>ID</th>\n",
              "      <th>TEXT</th>\n",
              "      <th>Gene</th>\n",
              "      <th>Variation</th>\n",
              "      <th>Class</th>\n",
              "    </tr>\n",
              "  </thead>\n",
              "  <tbody>\n",
              "    <tr>\n",
              "      <th>0</th>\n",
              "      <td>0</td>\n",
              "      <td>Cyclin-dependent kinases (CDKs) regulate a var...</td>\n",
              "      <td>FAM58A</td>\n",
              "      <td>Truncating Mutations</td>\n",
              "      <td>1</td>\n",
              "    </tr>\n",
              "    <tr>\n",
              "      <th>1</th>\n",
              "      <td>1</td>\n",
              "      <td>Abstract Background  Non-small cell lung canc...</td>\n",
              "      <td>CBL</td>\n",
              "      <td>W802*</td>\n",
              "      <td>2</td>\n",
              "    </tr>\n",
              "    <tr>\n",
              "      <th>2</th>\n",
              "      <td>2</td>\n",
              "      <td>Abstract Background  Non-small cell lung canc...</td>\n",
              "      <td>CBL</td>\n",
              "      <td>Q249E</td>\n",
              "      <td>2</td>\n",
              "    </tr>\n",
              "    <tr>\n",
              "      <th>3</th>\n",
              "      <td>3</td>\n",
              "      <td>Recent evidence has demonstrated that acquired...</td>\n",
              "      <td>CBL</td>\n",
              "      <td>N454D</td>\n",
              "      <td>3</td>\n",
              "    </tr>\n",
              "    <tr>\n",
              "      <th>4</th>\n",
              "      <td>4</td>\n",
              "      <td>Oncogenic mutations in the monomeric Casitas B...</td>\n",
              "      <td>CBL</td>\n",
              "      <td>L399V</td>\n",
              "      <td>4</td>\n",
              "    </tr>\n",
              "  </tbody>\n",
              "</table>\n",
              "</div>"
            ],
            "text/plain": [
              "   ID  ... Class\n",
              "0   0  ...     1\n",
              "1   1  ...     2\n",
              "2   2  ...     2\n",
              "3   3  ...     3\n",
              "4   4  ...     4\n",
              "\n",
              "[5 rows x 5 columns]"
            ]
          },
          "metadata": {
            "tags": []
          },
          "execution_count": 7
        }
      ]
    },
    {
      "cell_type": "markdown",
      "metadata": {
        "id": "aqv3ivpiBBw2"
      },
      "source": [
        "## Highlevel overview"
      ]
    },
    {
      "cell_type": "code",
      "metadata": {
        "colab": {
          "base_uri": "https://localhost:8080/"
        },
        "id": "kyOmk1BJA--N",
        "outputId": "73bbbc07-32ca-4169-9f47-f171e8ed5102"
      },
      "source": [
        "data.info()"
      ],
      "execution_count": null,
      "outputs": [
        {
          "output_type": "stream",
          "text": [
            "<class 'pandas.core.frame.DataFrame'>\n",
            "Int64Index: 3321 entries, 0 to 3320\n",
            "Data columns (total 5 columns):\n",
            " #   Column     Non-Null Count  Dtype \n",
            "---  ------     --------------  ----- \n",
            " 0   ID         3321 non-null   int64 \n",
            " 1   TEXT       3316 non-null   object\n",
            " 2   Gene       3321 non-null   object\n",
            " 3   Variation  3321 non-null   object\n",
            " 4   Class      3321 non-null   int64 \n",
            "dtypes: int64(2), object(3)\n",
            "memory usage: 155.7+ KB\n"
          ],
          "name": "stdout"
        }
      ]
    },
    {
      "cell_type": "markdown",
      "metadata": {
        "id": "kgBDpnCuBaJ3"
      },
      "source": [
        "1. There are 3321 entries in the dataframe.\n",
        "2. Leaving ``Class`` column which is numerical representation of genetic mutation classes, rest are object datatype i.e. categorical and text.\n",
        "3. The ``TEXT`` column have 05 entries lesser than the total 3321, we'd look at them later."
      ]
    },
    {
      "cell_type": "code",
      "metadata": {
        "colab": {
          "base_uri": "https://localhost:8080/"
        },
        "id": "mgFJytm6A_EN",
        "outputId": "65fff27e-985f-48ae-cf02-86f9911e0600"
      },
      "source": [
        "data['Class'].describe()"
      ],
      "execution_count": null,
      "outputs": [
        {
          "output_type": "execute_result",
          "data": {
            "text/plain": [
              "count    3321.000000\n",
              "mean        4.365854\n",
              "std         2.309781\n",
              "min         1.000000\n",
              "25%         2.000000\n",
              "50%         4.000000\n",
              "75%         7.000000\n",
              "max         9.000000\n",
              "Name: Class, dtype: float64"
            ]
          },
          "metadata": {
            "tags": []
          },
          "execution_count": 9
        }
      ]
    },
    {
      "cell_type": "markdown",
      "metadata": {
        "id": "2MYd74DIDWGc"
      },
      "source": [
        "## Preprocessing"
      ]
    },
    {
      "cell_type": "markdown",
      "metadata": {
        "id": "u0QN8Qz6DjME"
      },
      "source": [
        "### NaN values"
      ]
    },
    {
      "cell_type": "code",
      "metadata": {
        "colab": {
          "base_uri": "https://localhost:8080/"
        },
        "id": "m_isjD0JDazv",
        "outputId": "910752b0-c78d-49c0-83d2-677ec3987171"
      },
      "source": [
        "data[data.isnull().any(axis=1)]"
      ],
      "execution_count": null,
      "outputs": [
        {
          "output_type": "execute_result",
          "data": {
            "text/html": [
              "<div>\n",
              "<style scoped>\n",
              "    .dataframe tbody tr th:only-of-type {\n",
              "        vertical-align: middle;\n",
              "    }\n",
              "\n",
              "    .dataframe tbody tr th {\n",
              "        vertical-align: top;\n",
              "    }\n",
              "\n",
              "    .dataframe thead th {\n",
              "        text-align: right;\n",
              "    }\n",
              "</style>\n",
              "<table border=\"1\" class=\"dataframe\">\n",
              "  <thead>\n",
              "    <tr style=\"text-align: right;\">\n",
              "      <th></th>\n",
              "      <th>ID</th>\n",
              "      <th>TEXT</th>\n",
              "      <th>Gene</th>\n",
              "      <th>Variation</th>\n",
              "      <th>Class</th>\n",
              "    </tr>\n",
              "  </thead>\n",
              "  <tbody>\n",
              "    <tr>\n",
              "      <th>1109</th>\n",
              "      <td>1109</td>\n",
              "      <td>NaN</td>\n",
              "      <td>FANCA</td>\n",
              "      <td>S1088F</td>\n",
              "      <td>1</td>\n",
              "    </tr>\n",
              "    <tr>\n",
              "      <th>1277</th>\n",
              "      <td>1277</td>\n",
              "      <td>NaN</td>\n",
              "      <td>ARID5B</td>\n",
              "      <td>Truncating Mutations</td>\n",
              "      <td>1</td>\n",
              "    </tr>\n",
              "    <tr>\n",
              "      <th>1407</th>\n",
              "      <td>1407</td>\n",
              "      <td>NaN</td>\n",
              "      <td>FGFR3</td>\n",
              "      <td>K508M</td>\n",
              "      <td>6</td>\n",
              "    </tr>\n",
              "    <tr>\n",
              "      <th>1639</th>\n",
              "      <td>1639</td>\n",
              "      <td>NaN</td>\n",
              "      <td>FLT1</td>\n",
              "      <td>Amplification</td>\n",
              "      <td>6</td>\n",
              "    </tr>\n",
              "    <tr>\n",
              "      <th>2755</th>\n",
              "      <td>2755</td>\n",
              "      <td>NaN</td>\n",
              "      <td>BRAF</td>\n",
              "      <td>G596C</td>\n",
              "      <td>7</td>\n",
              "    </tr>\n",
              "  </tbody>\n",
              "</table>\n",
              "</div>"
            ],
            "text/plain": [
              "        ID TEXT    Gene             Variation  Class\n",
              "1109  1109  NaN   FANCA                S1088F      1\n",
              "1277  1277  NaN  ARID5B  Truncating Mutations      1\n",
              "1407  1407  NaN   FGFR3                 K508M      6\n",
              "1639  1639  NaN    FLT1         Amplification      6\n",
              "2755  2755  NaN    BRAF                 G596C      7"
            ]
          },
          "metadata": {
            "tags": []
          },
          "execution_count": 10
        }
      ]
    },
    {
      "cell_type": "markdown",
      "metadata": {
        "id": "AJcCVNjODvvd"
      },
      "source": [
        "- There are 05 rows in the data in the ``'TEXT'`` column which are NaN\n",
        "- We'd  remove them, as these are text base and we cannot replace them with other values."
      ]
    },
    {
      "cell_type": "code",
      "metadata": {
        "id": "RdcdQP0MDte1"
      },
      "source": [
        "data.dropna(subset = [\"TEXT\"], inplace=True)"
      ],
      "execution_count": null,
      "outputs": []
    },
    {
      "cell_type": "markdown",
      "metadata": {
        "id": "ip49_cOAD-gW"
      },
      "source": [
        "### Standard NLP preprocessing\n",
        "- Removing stop words\n",
        "- Removing puntuations"
      ]
    },
    {
      "cell_type": "code",
      "metadata": {
        "id": "86lVcdRhEMsc"
      },
      "source": [
        "stop_words = set(stopwords.words('english'))\n",
        "\n",
        "def text_processing(text):\n",
        "  \"\"\"Processing the sentence (single entry).\"\"\"\n",
        "\n",
        "  text = re.sub('\\s+',' ', text)\n",
        "  text = re.sub('[^a-zA-Z0-9\\n]', ' ', text)\n",
        "  text = text.lower()\n",
        "\n",
        "  tokens = [token for token in word_tokenize(text) if token not in punctuation and token not in stop_words]\n",
        "\n",
        "  return ' '.join(tokens)"
      ],
      "execution_count": null,
      "outputs": []
    },
    {
      "cell_type": "code",
      "metadata": {
        "colab": {
          "base_uri": "https://localhost:8080/"
        },
        "id": "yy63nX5KFB8f",
        "outputId": "a71f5ca9-eba4-43c8-d7d1-0377bfb54247"
      },
      "source": [
        "for index, text in tqdm(data.TEXT.iteritems()):\n",
        "  data[\"TEXT\"][index] = text_processing(text)"
      ],
      "execution_count": null,
      "outputs": [
        {
          "output_type": "stream",
          "text": [
            "3316it [02:29, 22.24it/s]\n"
          ],
          "name": "stderr"
        }
      ]
    },
    {
      "cell_type": "code",
      "metadata": {
        "id": "ahOIACHQqRT3"
      },
      "source": [
        "data.Gene = data.Gene.str.replace('\\s+', '_')\n",
        "data.Variation = data.Variation.str.replace('\\s+', '_')"
      ],
      "execution_count": null,
      "outputs": []
    },
    {
      "cell_type": "code",
      "metadata": {
        "colab": {
          "base_uri": "https://localhost:8080/"
        },
        "id": "dF_Vhlp4GAVs",
        "outputId": "6870603d-200f-4c2f-a798-8c89c3229489"
      },
      "source": [
        "data.head(2)"
      ],
      "execution_count": null,
      "outputs": [
        {
          "output_type": "execute_result",
          "data": {
            "text/html": [
              "<div>\n",
              "<style scoped>\n",
              "    .dataframe tbody tr th:only-of-type {\n",
              "        vertical-align: middle;\n",
              "    }\n",
              "\n",
              "    .dataframe tbody tr th {\n",
              "        vertical-align: top;\n",
              "    }\n",
              "\n",
              "    .dataframe thead th {\n",
              "        text-align: right;\n",
              "    }\n",
              "</style>\n",
              "<table border=\"1\" class=\"dataframe\">\n",
              "  <thead>\n",
              "    <tr style=\"text-align: right;\">\n",
              "      <th></th>\n",
              "      <th>ID</th>\n",
              "      <th>TEXT</th>\n",
              "      <th>Gene</th>\n",
              "      <th>Variation</th>\n",
              "      <th>Class</th>\n",
              "    </tr>\n",
              "  </thead>\n",
              "  <tbody>\n",
              "    <tr>\n",
              "      <th>0</th>\n",
              "      <td>0</td>\n",
              "      <td>cyclin dependent kinases cdks regulate variety...</td>\n",
              "      <td>FAM58A</td>\n",
              "      <td>Truncating_Mutations</td>\n",
              "      <td>1</td>\n",
              "    </tr>\n",
              "    <tr>\n",
              "      <th>1</th>\n",
              "      <td>1</td>\n",
              "      <td>abstract background non small cell lung cancer...</td>\n",
              "      <td>CBL</td>\n",
              "      <td>W802*</td>\n",
              "      <td>2</td>\n",
              "    </tr>\n",
              "  </tbody>\n",
              "</table>\n",
              "</div>"
            ],
            "text/plain": [
              "   ID  ... Class\n",
              "0   0  ...     1\n",
              "1   1  ...     2\n",
              "\n",
              "[2 rows x 5 columns]"
            ]
          },
          "metadata": {
            "tags": []
          },
          "execution_count": 15
        }
      ]
    },
    {
      "cell_type": "code",
      "metadata": {
        "id": "cNdy4oaDpAom"
      },
      "source": [
        "# Copying newly created dataframe into csv\n",
        "# data.to_csv('CGM-processed.csv', index=False)"
      ],
      "execution_count": null,
      "outputs": []
    },
    {
      "cell_type": "code",
      "metadata": {
        "id": "b3lqKmLyqiSm"
      },
      "source": [
        "# Copying to google drive\n",
        "# !cp -r /content/CGM-processed.csv /content/drive/MyDrive/Data/CGV-Data"
      ],
      "execution_count": null,
      "outputs": []
    },
    {
      "cell_type": "markdown",
      "metadata": {
        "id": "MT5YXL3I72yM"
      },
      "source": [
        "<a name=\"cell-id4\"></a>\n",
        "# Primary data analysis"
      ]
    },
    {
      "cell_type": "markdown",
      "metadata": {
        "id": "nCEjGd7lbID6"
      },
      "source": [
        "## Distribution of ``Class``"
      ]
    },
    {
      "cell_type": "code",
      "metadata": {
        "colab": {
          "base_uri": "https://localhost:8080/"
        },
        "id": "YcViikCDg6Ko",
        "outputId": "1310e6e7-25c9-4836-c482-ab09e546f317"
      },
      "source": [
        "plt.figure(figsize=(6,4), dpi=108)\n",
        "sns.barplot(x=\"Class\", y=\"Class\", data=data, palette=palette,\n",
        "            estimator=lambda x: len(x) / len(data) * 100)\n",
        "plt.ylabel('% Percent', fontsize=10)\n",
        "plt.xlabel('Class', fontsize=10)\n",
        "plt.xticks(rotation='vertical')\n",
        "plt.title(\"Distribution of Classes (Genetic Mutations)\", fontsize=12)\n",
        "plt.tight_layout()\n",
        "plt.show()"
      ],
      "execution_count": null,
      "outputs": [
        {
          "output_type": "display_data",
          "data": {
            "image/png": "[encoded data removed]",
            "text/plain": [
              "<Figure size 648x432 with 1 Axes>"
            ]
          },
          "metadata": {
            "tags": []
          }
        }
      ]
    },
    {
      "cell_type": "markdown",
      "metadata": {
        "id": "KOMFQG8-jVUj"
      },
      "source": [
        "**Obsevation**\n",
        "1. The class distribution is highly imbalanced. \n",
        "2. Most frequent genetic mutation classes are 7 (appx. 29%), followed by class 4 (appx. 21%).\n",
        "3. Lowest occurancing classes are 8 and 9.\n",
        "4. Due to presense of imbalance among classes, this can affect the predicition of the model, as it often noted that classes with major occurances tends to foreshadow those with less occurances."
      ]
    },
    {
      "cell_type": "markdown",
      "metadata": {
        "id": "CPHUige47lmo"
      },
      "source": [
        "<a name=\"cell-id5\"></a>\n",
        "# Data featurization"
      ]
    },
    {
      "cell_type": "code",
      "metadata": {
        "id": "xtgfxEW6kflm"
      },
      "source": [
        "y = np.array(data['Class'].values)"
      ],
      "execution_count": null,
      "outputs": []
    },
    {
      "cell_type": "code",
      "metadata": {
        "id": "MNaAKZY4JO3y"
      },
      "source": [
        "X = data[data.columns[1:4]]"
      ],
      "execution_count": null,
      "outputs": []
    },
    {
      "cell_type": "code",
      "metadata": {
        "id": "SsiCRJAVoEHY"
      },
      "source": [
        "# Splitting the data into train and test\n",
        "x_train, x_test, y_train, y_test = train_test_split(X, y, \n",
        "                                                    test_size=0.3, \n",
        "                                                    stratify=y)"
      ],
      "execution_count": null,
      "outputs": []
    },
    {
      "cell_type": "code",
      "metadata": {
        "colab": {
          "base_uri": "https://localhost:8080/"
        },
        "id": "tqHQex8FJd8S",
        "outputId": "a7fd56c6-f609-4505-caa6-a50ebbb4bcdb"
      },
      "source": [
        "x_train.shape"
      ],
      "execution_count": null,
      "outputs": [
        {
          "output_type": "execute_result",
          "data": {
            "text/plain": [
              "(2321, 3)"
            ]
          },
          "metadata": {
            "tags": []
          },
          "execution_count": 22
        }
      ]
    },
    {
      "cell_type": "code",
      "metadata": {
        "colab": {
          "base_uri": "https://localhost:8080/"
        },
        "id": "ldQzK73nJfiY",
        "outputId": "3fcc745e-e0a4-4623-f7c0-78b9638a7e8e"
      },
      "source": [
        "x_test.shape"
      ],
      "execution_count": null,
      "outputs": [
        {
          "output_type": "execute_result",
          "data": {
            "text/plain": [
              "(995, 3)"
            ]
          },
          "metadata": {
            "tags": []
          },
          "execution_count": 23
        }
      ]
    },
    {
      "cell_type": "code",
      "metadata": {
        "colab": {
          "base_uri": "https://localhost:8080/"
        },
        "id": "ViKH2TJtJhyP",
        "outputId": "25947b01-9c0a-41b3-850d-66cdb310770b"
      },
      "source": [
        "x_test.head()"
      ],
      "execution_count": null,
      "outputs": [
        {
          "output_type": "execute_result",
          "data": {
            "text/html": [
              "<div>\n",
              "<style scoped>\n",
              "    .dataframe tbody tr th:only-of-type {\n",
              "        vertical-align: middle;\n",
              "    }\n",
              "\n",
              "    .dataframe tbody tr th {\n",
              "        vertical-align: top;\n",
              "    }\n",
              "\n",
              "    .dataframe thead th {\n",
              "        text-align: right;\n",
              "    }\n",
              "</style>\n",
              "<table border=\"1\" class=\"dataframe\">\n",
              "  <thead>\n",
              "    <tr style=\"text-align: right;\">\n",
              "      <th></th>\n",
              "      <th>TEXT</th>\n",
              "      <th>Gene</th>\n",
              "      <th>Variation</th>\n",
              "    </tr>\n",
              "  </thead>\n",
              "  <tbody>\n",
              "    <tr>\n",
              "      <th>2975</th>\n",
              "      <td>background metastasized gists resistance imati...</td>\n",
              "      <td>KIT</td>\n",
              "      <td>C809G</td>\n",
              "    </tr>\n",
              "    <tr>\n",
              "      <th>2893</th>\n",
              "      <td>mutation screening breast ovarian cancer predi...</td>\n",
              "      <td>BRCA2</td>\n",
              "      <td>R3052Q</td>\n",
              "    </tr>\n",
              "    <tr>\n",
              "      <th>2816</th>\n",
              "      <td>purpose rare missense substitutions frame dele...</td>\n",
              "      <td>BRCA2</td>\n",
              "      <td>S1670A</td>\n",
              "    </tr>\n",
              "    <tr>\n",
              "      <th>734</th>\n",
              "      <td>purpose mutations associated resistance kinase...</td>\n",
              "      <td>ERBB2</td>\n",
              "      <td>E717K</td>\n",
              "    </tr>\n",
              "    <tr>\n",
              "      <th>2614</th>\n",
              "      <td>large number missense mutations identified wit...</td>\n",
              "      <td>BRCA1</td>\n",
              "      <td>M1R</td>\n",
              "    </tr>\n",
              "  </tbody>\n",
              "</table>\n",
              "</div>"
            ],
            "text/plain": [
              "                                                   TEXT   Gene Variation\n",
              "2975  background metastasized gists resistance imati...    KIT     C809G\n",
              "2893  mutation screening breast ovarian cancer predi...  BRCA2    R3052Q\n",
              "2816  purpose rare missense substitutions frame dele...  BRCA2    S1670A\n",
              "734   purpose mutations associated resistance kinase...  ERBB2     E717K\n",
              "2614  large number missense mutations identified wit...  BRCA1       M1R"
            ]
          },
          "metadata": {
            "tags": []
          },
          "execution_count": 24
        }
      ]
    },
    {
      "cell_type": "markdown",
      "metadata": {
        "id": "WVUJLMKsJ_X5"
      },
      "source": [
        "## Categorical"
      ]
    },
    {
      "cell_type": "code",
      "metadata": {
        "id": "QD_Ha1fln3vI"
      },
      "source": [
        "# Create LabelBinzarizer object\n",
        "one_hot = CountVectorizer()\n",
        "\n",
        "# One-hot encode data\n",
        "one_hot.fit(x_train['Gene'])\n",
        "\n",
        "ohe_tr_gene = one_hot.transform(x_train['Gene'])\n",
        "ohe_ts_gene = one_hot.transform(x_test['Gene'])"
      ],
      "execution_count": null,
      "outputs": []
    },
    {
      "cell_type": "code",
      "metadata": {
        "colab": {
          "base_uri": "https://localhost:8080/"
        },
        "id": "-DgmBrvKOs9O",
        "outputId": "54521c87-47b2-4b53-fe30-e0ea2868e9ce"
      },
      "source": [
        "print(f\"OneHotEncoded Gene: {ohe_tr_gene.shape}\")\n",
        "print(f\"OneHotEncoded Gene: {ohe_ts_gene.shape}\")"
      ],
      "execution_count": null,
      "outputs": [
        {
          "output_type": "stream",
          "text": [
            "OneHotEncoded Gene: (2321, 234)\n",
            "OneHotEncoded Gene: (995, 234)\n"
          ],
          "name": "stdout"
        }
      ]
    },
    {
      "cell_type": "code",
      "metadata": {
        "id": "zgoFZR1vOlbx"
      },
      "source": [
        "# Create LabelBinzarizer object\n",
        "one_hot = CountVectorizer()\n",
        "\n",
        "# One-hot encode data\n",
        "one_hot.fit(x_train['Variation'])\n",
        "\n",
        "ohe_tr_var = one_hot.transform(x_train['Variation'])\n",
        "ohe_ts_var = one_hot.transform(x_test['Variation'])"
      ],
      "execution_count": null,
      "outputs": []
    },
    {
      "cell_type": "code",
      "metadata": {
        "colab": {
          "base_uri": "https://localhost:8080/"
        },
        "id": "hL5xnTbbOuu2",
        "outputId": "a58f2119-f3a7-4b8e-f762-a41b70b34c35"
      },
      "source": [
        "print(f\"OneHotEncoded Variation (Train): {ohe_tr_var.shape}\")\n",
        "print(f\"OneHotEncoded Variation (Test): {ohe_ts_var.shape}\")"
      ],
      "execution_count": null,
      "outputs": [
        {
          "output_type": "stream",
          "text": [
            "OneHotEncoded Variation (Train): (2321, 2145)\n",
            "OneHotEncoded Variation (Test): (995, 2145)\n"
          ],
          "name": "stdout"
        }
      ]
    },
    {
      "cell_type": "code",
      "metadata": {
        "id": "ighCisMVJdwv"
      },
      "source": [
        "def svd_dimension(original_dimension):\n",
        "  \"\"\"Returns value for n_components for SVD\"\"\"\n",
        "  return int(round(np.sqrt(original_dimension))) "
      ],
      "execution_count": null,
      "outputs": []
    },
    {
      "cell_type": "code",
      "metadata": {
        "colab": {
          "base_uri": "https://localhost:8080/"
        },
        "id": "gprYTwimNP1n",
        "outputId": "ba87da5b-f38f-433f-ba05-67da2fbf0e17"
      },
      "source": [
        "ohe_tr_gen_reduced = TruncatedSVD(n_components=svd_dimension(ohe_tr_gene.shape[1])).\\\n",
        "                      fit_transform(ohe_tr_gene)\n",
        "\n",
        "ohe_ts_gen_reduced = TruncatedSVD(n_components=svd_dimension(ohe_ts_gene.shape[1])).\\\n",
        "                      fit_transform(ohe_ts_gene)\n",
        "\n",
        "print(f\"Reduced-Dimension Variation (Train): {ohe_tr_gen_reduced.shape}\")\n",
        "print(f\"Reduced-Dimension Variation (Test): {ohe_ts_gen_reduced.shape}\")                      "
      ],
      "execution_count": null,
      "outputs": [
        {
          "output_type": "stream",
          "text": [
            "Reduced-Dimension Variation (Train): (2321, 15)\n",
            "Reduced-Dimension Variation (Test): (995, 15)\n"
          ],
          "name": "stdout"
        }
      ]
    },
    {
      "cell_type": "code",
      "metadata": {
        "colab": {
          "base_uri": "https://localhost:8080/"
        },
        "id": "DQFoNgmYKvYG",
        "outputId": "1f9d1c6e-ae11-4595-ca7a-29db757ca85b"
      },
      "source": [
        "ohe_tr_var_reduced = TruncatedSVD(n_components=svd_dimension(ohe_tr_var.shape[1])).\\\n",
        "                      fit_transform(ohe_tr_var)\n",
        "\n",
        "ohe_ts_var_reduced = TruncatedSVD(n_components=svd_dimension(ohe_ts_var.shape[1])).\\\n",
        "                      fit_transform(ohe_ts_var)\n",
        "\n",
        "print(f\"Reduced-Dimension Variation (Train): {ohe_tr_var_reduced.shape}\")\n",
        "print(f\"Reduced-Dimension Variation (Test): {ohe_ts_var_reduced.shape}\")                      "
      ],
      "execution_count": null,
      "outputs": [
        {
          "output_type": "stream",
          "text": [
            "Reduced-Dimension Variation (Train): (2321, 46)\n",
            "Reduced-Dimension Variation (Test): (995, 46)\n"
          ],
          "name": "stdout"
        }
      ]
    },
    {
      "cell_type": "markdown",
      "metadata": {
        "id": "WzVBIEQIJ9Bq"
      },
      "source": [
        "## Text"
      ]
    },
    {
      "cell_type": "markdown",
      "metadata": {
        "id": "41pxRC-PO3s-"
      },
      "source": [
        "### TF-IDF "
      ]
    },
    {
      "cell_type": "code",
      "metadata": {
        "colab": {
          "background_save": true,
          "base_uri": "https://localhost:8080/"
        },
        "id": "kk_LEhd27lr3",
        "outputId": "9fff0d7b-3ef3-46e4-e916-b3953580619e"
      },
      "source": [
        "vec_start = datetime.now()\n",
        "\n",
        "tfidf = TfidfVectorizer(ngram_range=(2, 4), \n",
        "                        max_features=3000).fit(x_train['TEXT'])\n",
        "\n",
        "tfidf_tr_text = tfidf.transform(x_train['TEXT'])\n",
        "tfidf_ts_text = tfidf.transform(x_test['TEXT'])\n",
        "\n",
        "vec_end = datetime.now()\n",
        "print(f\"Took: {vec_end-vec_start}\")"
      ],
      "execution_count": null,
      "outputs": [
        {
          "output_type": "stream",
          "text": [
            "Took: 0:04:12.736936\n"
          ],
          "name": "stdout"
        }
      ]
    },
    {
      "cell_type": "code",
      "metadata": {
        "colab": {
          "background_save": true,
          "base_uri": "https://localhost:8080/"
        },
        "id": "wvUSu9NSP_Dd",
        "outputId": "c764bf7d-22da-40f4-9f93-3093c030dbb0"
      },
      "source": [
        "tfidf_ts_text.shape"
      ],
      "execution_count": null,
      "outputs": [
        {
          "output_type": "execute_result",
          "data": {
            "text/plain": [
              "(995, 3000)"
            ]
          },
          "metadata": {
            "tags": []
          },
          "execution_count": 0
        }
      ]
    },
    {
      "cell_type": "code",
      "metadata": {
        "colab": {
          "background_save": true,
          "base_uri": "https://localhost:8080/"
        },
        "id": "dvcyCC2xhzep",
        "outputId": "3f0002df-8ce8-48da-8ca0-7fe6fb61c456"
      },
      "source": [
        "tfidf_tr_text.shape"
      ],
      "execution_count": null,
      "outputs": [
        {
          "output_type": "execute_result",
          "data": {
            "text/plain": [
              "(2321, 3000)"
            ]
          },
          "metadata": {
            "tags": []
          },
          "execution_count": 0
        }
      ]
    },
    {
      "cell_type": "code",
      "metadata": {
        "colab": {
          "background_save": true,
          "base_uri": "https://localhost:8080/"
        },
        "id": "1NDyNiPcNyeA",
        "outputId": "35ccf626-f0b8-4a86-87bf-a741ca16b23e"
      },
      "source": [
        "round(np.sqrt(3000))"
      ],
      "execution_count": null,
      "outputs": [
        {
          "output_type": "execute_result",
          "data": {
            "text/plain": [
              "55"
            ]
          },
          "metadata": {
            "tags": []
          },
          "execution_count": 0
        }
      ]
    },
    {
      "cell_type": "code",
      "metadata": {
        "colab": {
          "background_save": true,
          "base_uri": "https://localhost:8080/"
        },
        "id": "5BxHtC5YNhYN",
        "outputId": "7969ebaf-4b05-42f7-ff33-cbdf6f2226c1"
      },
      "source": [
        "tfidf_tr_text_reduced = TruncatedSVD(n_components=svd_dimension(tfidf_tr_text.shape[1])).\\\n",
        "                      fit_transform(tfidf_tr_text)\n",
        "\n",
        "tfidf_ts_text_reduced = TruncatedSVD(n_components=svd_dimension(tfidf_ts_text.shape[1])).\\\n",
        "                      fit_transform(tfidf_ts_text)\n",
        "\n",
        "print(f\"Reduced-Dimension Variation (Train): {tfidf_tr_text_reduced.shape}\")\n",
        "print(f\"Reduced-Dimension Variation (Test): {tfidf_ts_text_reduced.shape}\")                      "
      ],
      "execution_count": null,
      "outputs": [
        {
          "output_type": "stream",
          "text": [
            "Reduced-Dimension Variation (Train): (2321, 55)\n",
            "Reduced-Dimension Variation (Test): (995, 55)\n"
          ],
          "name": "stdout"
        }
      ]
    },
    {
      "cell_type": "code",
      "metadata": {
        "colab": {
          "background_save": true
        },
        "id": "XmiHGgGSRKCU"
      },
      "source": [
        "%xdel tfidf"
      ],
      "execution_count": null,
      "outputs": []
    },
    {
      "cell_type": "markdown",
      "metadata": {
        "id": "ZDfQ1sPrcrGA"
      },
      "source": [
        "## Concatenation"
      ]
    },
    {
      "cell_type": "code",
      "metadata": {
        "colab": {
          "background_save": true
        },
        "id": "M7w7xL9dOCgE"
      },
      "source": [
        "train = np.hstack((tfidf_tr_text.toarray(), \n",
        "                   ohe_tr_var.toarray(), \n",
        "                   ohe_tr_gene.toarray()))\n",
        "\n",
        "test = np.hstack((tfidf_ts_text.toarray(), \n",
        "                  ohe_ts_var.toarray(), \n",
        "                  ohe_ts_gene.toarray()))"
      ],
      "execution_count": null,
      "outputs": []
    },
    {
      "cell_type": "code",
      "metadata": {
        "colab": {
          "background_save": true,
          "base_uri": "https://localhost:8080/"
        },
        "id": "rxNRk4FLk7Ew",
        "outputId": "f2e5fdcf-d812-404c-ab35-d5dc7bb49d20"
      },
      "source": [
        "print(f\"Train X: {train.shape}\\ty: {y_train.shape}\")\n",
        "print(f\"Test X: {test.shape}\\ty: {y_test.shape}\")"
      ],
      "execution_count": null,
      "outputs": [
        {
          "output_type": "stream",
          "text": [
            "Train X: (2321, 5379)\ty: (2321,)\n",
            "Test X: (995, 5379)\ty: (995,)\n"
          ],
          "name": "stdout"
        }
      ]
    },
    {
      "cell_type": "code",
      "metadata": {
        "colab": {
          "background_save": true
        },
        "id": "JUN1D66DOHnH"
      },
      "source": [
        "train_reduced = np.hstack((tfidf_tr_text_reduced, ohe_tr_var_reduced, \n",
        "                           ohe_tr_gen_reduced))\n",
        "\n",
        "test_reduced = np.hstack((tfidf_ts_text_reduced, ohe_ts_var_reduced, \n",
        "                          ohe_ts_gen_reduced))"
      ],
      "execution_count": null,
      "outputs": []
    },
    {
      "cell_type": "code",
      "metadata": {
        "colab": {
          "background_save": true,
          "base_uri": "https://localhost:8080/"
        },
        "id": "fzGVOnNQOHq5",
        "outputId": "0bad3ce5-6e23-432c-99d1-2a92eb116b6a"
      },
      "source": [
        "print(f\"Train X: {train_reduced.shape}\\ty: {y_train.shape}\")\n",
        "print(f\"Test X: {test_reduced.shape}\\ty: {y_test.shape}\")"
      ],
      "execution_count": null,
      "outputs": [
        {
          "output_type": "stream",
          "text": [
            "Train X: (2321, 116)\ty: (2321,)\n",
            "Test X: (995, 116)\ty: (995,)\n"
          ],
          "name": "stdout"
        }
      ]
    },
    {
      "cell_type": "markdown",
      "metadata": {
        "id": "Cq6c0FZo7lxD"
      },
      "source": [
        "<a name=\"cell-id6\"></a>\n",
        "# Secondary data analysis"
      ]
    },
    {
      "cell_type": "code",
      "metadata": {
        "colab": {
          "background_save": true
        },
        "id": "n2lS3wg9nffj"
      },
      "source": [
        "# Reducing dimension and projecting it onto 2D with t-SNE\n",
        "train_tsne = TSNE(n_components=2, perplexity=100).fit_transform(train) \n",
        "\n",
        "# Reducing dimension and projecting it onto 2D with t-SNE\n",
        "test_tsne = TSNE(n_components=2, perplexity=100).fit_transform(test) "
      ],
      "execution_count": null,
      "outputs": []
    },
    {
      "cell_type": "code",
      "metadata": {
        "colab": {
          "background_save": true
        },
        "id": "ygrZmc9HqDys",
        "outputId": "21707630-182c-49c4-d5c9-a88652fa78f4"
      },
      "source": [
        "fig, axes = plt.subplots(1, 2, figsize=(12, 5), dpi=108, sharey=True)\n",
        "fig.suptitle('Features (tf-IDF+OneHotEncode)', fontsize=18)\n",
        "\n",
        "sns.scatterplot(ax=axes[0], x=train_tsne[:,0], y=train_tsne[:,1], alpha=0.75,\n",
        "                hue=y_train, legend='full', palette=palette)\n",
        "axes[0].set_title(\"Train\")\n",
        "axes[0].set_yticklabels([])\n",
        "axes[0].set_xticklabels([])\n",
        "axes[0].grid(False)\n",
        "\n",
        "sns.scatterplot(ax=axes[1], x=test_tsne[:,0], y=test_tsne[:,1], alpha=0.75,\n",
        "                hue=y_test, legend='full', palette=palette)\n",
        "axes[1].set_title(\"Test\")\n",
        "axes[1].set_yticklabels([])\n",
        "axes[1].set_xticklabels([])\n",
        "axes[1].grid(False)\n",
        "\n",
        "fig.savefig('QWERTT.png', dpi=300)"
      ],
      "execution_count": null,
      "outputs": [
        {
          "output_type": "display_data",
          "data": {
            "image/png": "[encoded data removed]",
            "text/plain": [
              "<Figure size 1296x540 with 2 Axes>"
            ]
          },
          "metadata": {
            "tags": []
          }
        }
      ]
    },
    {
      "cell_type": "markdown",
      "metadata": {
        "id": "2-Xp8fCo7l64"
      },
      "source": [
        "# Machine learning model"
      ]
    },
    {
      "cell_type": "markdown",
      "metadata": {
        "id": "RZ_B5CEFkyHp"
      },
      "source": [
        "## Linear Models\n",
        "- SVM with RBF & Polynomial kernel.\n",
        "- Logistic Regression with Stochastic Gradient Descent"
      ]
    },
    {
      "cell_type": "markdown",
      "metadata": {
        "id": "nMAG7hJflbG6"
      },
      "source": [
        "### SVM"
      ]
    },
    {
      "cell_type": "markdown",
      "metadata": {
        "id": "uRaewom9ljOB"
      },
      "source": [
        "Before building model we need to find the best parameters for the SVM. This can easily can be done with - Hyperparameters Tunning method. For this we'd use - Grid Search base approach."
      ]
    },
    {
      "cell_type": "code",
      "metadata": {
        "colab": {
          "background_save": true
        },
        "id": "iD3D48dwbVfO"
      },
      "source": [
        "'''\n",
        "params = {'C': [0.1, 1, 10, 100], \n",
        "          'gamma': [1, 0.1, 0.01, 0.001],\n",
        "          'kernel': ['linear', 'poly', 'rbf']}\n",
        "'''\n",
        "\n",
        "params = {'C': [1, 10, 100], \n",
        "          'gamma': [0.1, 0.01, 0.001],\n",
        "          'kernel': ['linear', 'rbf']}          "
      ],
      "execution_count": null,
      "outputs": []
    },
    {
      "cell_type": "markdown",
      "metadata": {
        "id": "BeGGz_F82plz"
      },
      "source": [
        "#### All"
      ]
    },
    {
      "cell_type": "code",
      "metadata": {
        "id": "toGojVe0liPS"
      },
      "source": [
        "svc = SVC()\n",
        "\n",
        "svc_cv_start = datetime.now()\n",
        "svc_cv = GridSearchCV(svc, param_grid=params, cv=5, n_jobs=-1, \n",
        "                      verbose=2).fit(train, y_train) \n",
        "svc_cv_end= datetime.now()\n",
        "\n",
        "best_svc_cv=svc_cv.best_params_\n",
        "\n",
        "print(f\"\\n\\nTook {svc_cv_end-svc_cv_start} time to find best parameters:\\n\\t{best_svc_cv}\\n\\n\")\n",
        "\n",
        "svc = SVC(C=best_svc_cv['C'], \n",
        "          gamma=best_svc_cv['gamma'],\n",
        "          kernel=best_svc_cv['kernel'], verbose=True)\n",
        "\n",
        "svc.fit(train, y_train) \n",
        "\n",
        "# Prediction\n",
        "y_predtest = svc.predict(test)\n",
        "y_predtrain = svc.predict(train)\n",
        "\n",
        "# Accuracy\n",
        "print(\"-\"*100)\n",
        "print(f\"Train Accuracy:\\t{balanced_accuracy_score(y_train, y_predtrain)}\")\n",
        "print(f\"Test Accuracy:\\t{balanced_accuracy_score(y_test, y_predtest)}\\n\")\n",
        "# F1 Score\n",
        "print(\"-\"*100)\n",
        "print(f\"\\nTrain F1 Score (Micro):\\t{f1_score(y_train, y_predtrain, average='micro')}\")\n",
        "print(f\"Test F1 Score (Micro):\\t{f1_score(y_test, y_predtest , average='micro')}\\n\")\n",
        "\n",
        "print(\"-\"*100)\n",
        "\n",
        "fig, axes = plt.subplots(1, 2, figsize=(10, 5), dpi=108, sharey=True)\n",
        "fig.suptitle('Confusion Matrix - SVM (High-Dimension)', fontsize=18)\n",
        "\n",
        "cm1 = confusion_matrix(y_predtrain, y_train)\n",
        "sns.heatmap(cm1, annot=True,fmt=\"d\",cmap='Reds', ax=axes[0])\n",
        "axes[0].set_title('Train')\n",
        "\n",
        "cm2 = confusion_matrix(y_predtest, y_test)\n",
        "sns.heatmap(cm2, annot=True,fmt=\"d\",cmap='Greys', ax=axes[1])\n",
        "axes[1].set_title('Test')"
      ],
      "execution_count": null,
      "outputs": []
    },
    {
      "cell_type": "markdown",
      "metadata": {
        "id": "54UZo4qK2l5M"
      },
      "source": [
        "#### Reduced"
      ]
    },
    {
      "cell_type": "code",
      "metadata": {
        "id": "4Uv-l_zm2kx-"
      },
      "source": [
        "svc = SVC()\n",
        "\n",
        "svc_cv_start = datetime.now()\n",
        "svc_cv = GridSearchCV(svc, param_grid=params, cv=5, n_jobs=-1, \n",
        "                      verbose=2).fit(train_reduced, y_train) \n",
        "svc_cv_end= datetime.now()\n",
        "\n",
        "best_svc_cv=svc_cv.best_params_\n",
        "\n",
        "print(f\"\\n\\nTook {svc_cv_end-svc_cv_start} time to find best parameters:\\n\\t{best_svc_cv}\\n\\n\")\n",
        "\n",
        "svc = SVC(C=best_svc_cv['C'], \n",
        "          gamma=best_svc_cv['gamma'],\n",
        "          kernel=best_svc_cv['kernel'], verbose=True)\n",
        "\n",
        "svc.fit(train_reduced, y_train) \n",
        "\n",
        "# Prediction\n",
        "y_predtest = svc.predict(test_reduced)\n",
        "y_predtrain = svc.predict(train_reduced)\n",
        "\n",
        "# Accuracy\n",
        "print(\"-\"*100)\n",
        "print(f\"Train Accuracy:\\t{balanced_accuracy_score(y_train, y_predtrain)}\")\n",
        "print(f\"Test Accuracy:\\t{balanced_accuracy_score(y_test, y_predtest)}\\n\")\n",
        "# F1 Score\n",
        "print(\"-\"*100)\n",
        "print(f\"\\nTrain F1 Score (Micro):\\t{f1_score(y_train, y_predtrain, average='micro')}\")\n",
        "print(f\"Test F1 Score (Micro):\\t{f1_score(y_test, y_predtest , average='micro')}\\n\")\n",
        "\n",
        "print(\"-\"*100)\n",
        "\n",
        "fig, axes = plt.subplots(1, 2, figsize=(10, 5), dpi=108, sharey=True)\n",
        "fig.suptitle('Confusion Matrix - SVM (Reduced-Dimension)', fontsize=18)\n",
        "\n",
        "cm1 = confusion_matrix(y_predtrain, y_train)\n",
        "sns.heatmap(cm1, annot=True,fmt=\"d\",cmap='Blues', ax=axes[0])\n",
        "axes[0].set_title('Train')\n",
        "\n",
        "cm2 = confusion_matrix(y_predtest, y_test)\n",
        "sns.heatmap(cm2, annot=True,fmt=\"d\",cmap='Greys', ax=axes[1])\n",
        "axes[1].set_title('Test')"
      ],
      "execution_count": null,
      "outputs": []
    },
    {
      "cell_type": "markdown",
      "metadata": {
        "id": "Jy6W2vygldpz"
      },
      "source": [
        "### Logistic Regression"
      ]
    },
    {
      "cell_type": "code",
      "metadata": {
        "id": "Q0-jEwQqlgE3"
      },
      "source": [
        ""
      ],
      "execution_count": null,
      "outputs": []
    },
    {
      "cell_type": "markdown",
      "metadata": {
        "id": "LfvW_0c6lA1J"
      },
      "source": [
        "## Tree-Based\n",
        "- Decision Tree\n",
        "- Random Forest\n",
        "- XGBoost"
      ]
    },
    {
      "cell_type": "code",
      "metadata": {
        "id": "OpouQP97lJRW"
      },
      "source": [
        ""
      ],
      "execution_count": null,
      "outputs": []
    },
    {
      "cell_type": "markdown",
      "metadata": {
        "id": "C-QcKCP_lK--"
      },
      "source": [
        "## Neighbourhood-Based\n",
        "- k-Nearest Neighbours"
      ]
    },
    {
      "cell_type": "code",
      "metadata": {
        "id": "6SL534MLN63y"
      },
      "source": [
        "params = {\n",
        "    'n_neighbors':[21, 25, 31],\n",
        "    'algorithm':['ball_tree', 'kd_tree'],\n",
        "    'weights':['distance']\n",
        "    }"
      ],
      "execution_count": null,
      "outputs": []
    },
    {
      "cell_type": "markdown",
      "metadata": {
        "id": "-tMDJpIRnYjB"
      },
      "source": [
        "#### All Features"
      ]
    },
    {
      "cell_type": "code",
      "metadata": {
        "id": "xfHWqTI1UNEM"
      },
      "source": [
        "# https://stats.stackexchange.com/questions/384542/how-to-prevent-overfitting-with-knn\n",
        "np.floor(np.log2(len(x_train))) "
      ],
      "execution_count": null,
      "outputs": []
    },
    {
      "cell_type": "code",
      "metadata": {
        "id": "1gph51bxlS9S"
      },
      "source": [
        "knn = KNeighborsClassifier(n_jobs=-1)\n",
        "\n",
        "knn_cv_start = datetime.now()\n",
        "knn_cv = GridSearchCV(knn, param_grid=params, cv=10, \n",
        "                      verbose=2, n_jobs=-1).fit(train, y_train) \n",
        "knn_cv_end= datetime.now()\n",
        "\n",
        "best_knn=knn_cv.best_params_\n",
        "\n",
        "print(f\"\\n\\nTook {knn_cv_end-knn_cv_start} time to find best parameters:\\n\\t{best_knn}\\n\\n\")\n",
        "\n",
        "knn = KNeighborsClassifier(n_neighbors=best_knn['n_neighbors'],\n",
        "                           weights=best_knn['weights'],\n",
        "                           algorithm=best_knn['algorithm'],\n",
        "                           n_jobs=-1)\n",
        "\n",
        "knn.fit(train, y_train) \n",
        "\n",
        "# Prediction\n",
        "y_predtest = knn.predict(test)\n",
        "y_predtrain = knn.predict(train)\n",
        "\n",
        "# Accuracy\n",
        "print(\"-\"*100)\n",
        "print(f\"Train Accuracy:\\t{balanced_accuracy_score(y_train, y_predtrain)}\")\n",
        "print(f\"Test Accuracy:\\t{balanced_accuracy_score(y_test, y_predtest)}\\n\")\n",
        "# F1 Score\n",
        "print(\"-\"*100)\n",
        "print(f\"\\nTrain F1 Score (Micro):\\t{f1_score(y_train, y_predtrain, average='micro')}\")\n",
        "print(f\"Test F1 Score (Micro):\\t{f1_score(y_test, y_predtest , average='micro')}\\n\")\n",
        "\n",
        "print(\"-\"*100)\n",
        "\n",
        "fig, axes = plt.subplots(1, 2, figsize=(10, 5), dpi=108, sharey=True)\n",
        "fig.suptitle('Confusion Matrix - kNN (High-Dimension)', fontsize=18)\n",
        "\n",
        "cm1 = confusion_matrix(y_predtrain, y_train)\n",
        "sns.heatmap(cm1, annot=True,fmt=\"d\",cmap='Reds', ax=axes[0])\n",
        "axes[0].set_title('Train')\n",
        "\n",
        "cm2 = confusion_matrix(y_predtest, y_test)\n",
        "sns.heatmap(cm2, annot=True,fmt=\"d\",cmap='Greys', ax=axes[1])\n",
        "axes[1].set_title('Test')"
      ],
      "execution_count": null,
      "outputs": []
    },
    {
      "cell_type": "markdown",
      "metadata": {
        "id": "IXp98xQEngKb"
      },
      "source": [
        "#### Reduced Features dimensions"
      ]
    },
    {
      "cell_type": "code",
      "metadata": {
        "id": "PD_v6snZnlhm"
      },
      "source": [
        "knn = KNeighborsClassifier(n_jobs=-1)\n",
        "\n",
        "knn_cv_start = datetime.now()\n",
        "knn_cv = GridSearchCV(knn, param_grid=params, cv=5, verbose=2, n_jobs=-1).\\\n",
        "                      fit(train_reduced, y_train) \n",
        "\n",
        "knn_cv_end= datetime.now()\n",
        "\n",
        "best_knn=knn_cv.best_params_\n",
        "\n",
        "print(f\"\\n\\nTook {knn_cv_end-knn_cv_start} time to find best parameters:\\n\\t{best_knn}\\n\\n\")\n",
        "\n",
        "knn = KNeighborsClassifier(n_neighbors=best_knn['n_neighbors'],\n",
        "                           weights=best_knn['weights'],\n",
        "                           n_jobs=-1)\n",
        "\n",
        "knn.fit(train_reduced, y_train) \n",
        "\n",
        "# Prediction\n",
        "y_predtest = knn.predict(test_reduced)\n",
        "y_predtrain = knn.predict(train_reduced)\n",
        "\n",
        "# Accuracy\n",
        "print(\"-\"*100)\n",
        "print(f\"Train Accuracy:\\t{balanced_accuracy_score(y_train, y_predtrain)}\")\n",
        "print(f\"Test Accuracy:\\t{balanced_accuracy_score(y_test, y_predtest)}\\n\")\n",
        "# F1 Score\n",
        "print(\"-\"*100)\n",
        "print(f\"\\nTrain F1 Score (Micro):\\t{f1_score(y_train, y_predtrain, average='micro')}\")\n",
        "print(f\"Test F1 Score (Micro):\\t{f1_score(y_test, y_predtest , average='micro')}\\n\")\n",
        "\n",
        "print(\"-\"*100)\n",
        "\n",
        "fig, axes = plt.subplots(1, 2, figsize=(10, 5), dpi=108, sharey=True)\n",
        "fig.suptitle('Confusion Matrix - kNN (Reduced-Dimensions)', fontsize=18)\n",
        "\n",
        "cm1 = confusion_matrix(y_predtrain, y_train)\n",
        "sns.heatmap(cm1, annot=True,fmt=\"d\",cmap='Blues', ax=axes[0])\n",
        "axes[0].set_title('Train')\n",
        "\n",
        "cm2 = confusion_matrix(y_predtest, y_test)\n",
        "sns.heatmap(cm2, annot=True,fmt=\"d\",cmap='Greys', ax=axes[1])\n",
        "axes[1].set_title('Test')"
      ],
      "execution_count": null,
      "outputs": []
    },
    {
      "cell_type": "markdown",
      "metadata": {
        "id": "5aiMZBGm7mEv"
      },
      "source": [
        "<a name=\"cell-id8\"></a>\n",
        "# Conclusion"
      ]
    },
    {
      "cell_type": "code",
      "metadata": {
        "id": "cSGMSYN97mN4"
      },
      "source": [
        "end=datetime.now()\n",
        "\n",
        "print(f\"Time took for whole Notebook - {end-start}\")"
      ],
      "execution_count": null,
      "outputs": []
    },
    {
      "cell_type": "code",
      "metadata": {
        "id": "NGVomXGwfHo9"
      },
      "source": [
        "! rm /content/training_variants"
      ],
      "execution_count": null,
      "outputs": []
    },
    {
      "cell_type": "code",
      "metadata": {
        "id": "tA1rCFxCfLWy"
      },
      "source": [
        "! rm /content/training_text"
      ],
      "execution_count": null,
      "outputs": []
    },
    {
      "cell_type": "code",
      "metadata": {
        "id": "ThSHpObZfWDP"
      },
      "source": [
        "! rm -I *.zip"
      ],
      "execution_count": null,
      "outputs": []
    }
  ]
}