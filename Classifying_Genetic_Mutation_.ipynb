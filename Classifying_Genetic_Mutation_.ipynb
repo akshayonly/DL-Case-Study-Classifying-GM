{
  "nbformat": 4,
  "nbformat_minor": 0,
  "metadata": {
    "colab": {
      "name": "Classifying Genetic Mutation .ipynb",
      "provenance": [],
      "collapsed_sections": [
        "x5yE3E367k6x",
        "mBe56vIs7lPY",
        "nWvm9iCU7lcA",
        "MT5YXL3I72yM",
        "CPHUige47lmo",
        "Cq6c0FZo7lxD",
        "2-Xp8fCo7l64",
        "5aiMZBGm7mEv"
      ],
      "machine_shape": "hm"
    },
    "kernelspec": {
      "display_name": "Python 3",
      "name": "python3"
    }
  },
  "cells": [
    {
      "cell_type": "markdown",
      "metadata": {
        "id": "jouhKmTG7ZBK"
      },
      "source": [
        "# Classifying Genetic Mutation \n",
        "\n",
        "\n",
        "\n",
        "1. [Packages](#cell-id1)\n",
        "\n",
        "   1. Downloading Sent2Vec and Installing\n",
        "\n",
        "2. [Data gathering](#cell-id2)\n",
        "\n",
        "   1. Downloading from Kaggle\n",
        "\n",
        "3. [Data Preprocessing](#cell-id3)\n",
        "\n",
        "4. [Primary data analysis](#cell-id4)\n",
        "\n",
        "5. [Data featurization](#cell-id5)\n",
        "\n",
        "   1. Text Feature\n",
        "\n",
        "      - Traditional NLP: tf-IDF vectors\n",
        "\n",
        "      - Using pre-trained Sentence2Vector Deep learning model\n",
        "        - Downloading BioSent2Vec\n",
        "        - Loading BioSent2Vec\n",
        "        - Applying BioSent2Vec on TEXT\n",
        "   2. Categorical Features\n",
        "      1. Response encoding\n",
        "         1. Gene\n",
        "         2. Variation\n",
        "      2. One-hot encoding \n",
        "         1. Gene\n",
        "         2. Variation\n",
        "\n",
        "6. [Secondary data analyis](#cell-id6)\n",
        "\n",
        "   1. Visualising high dimensional text features by t-SNE\n",
        "   2. Visualising Gene & Variation features by SVD\n",
        "\n",
        "7. [ML model building](#cell-id7)\n",
        "\n",
        "   1. Dummy model (Baseline)\n",
        "   2. Linear models\n",
        "      1. SVM \n",
        "         1. RBF Kernel\n",
        "         2. Linear kernel\n",
        "      2. Logistic Regression (SGD)\n",
        "   3. Tree base models\n",
        "      1. Decision tree\n",
        "      2. Random forest\n",
        "      3. XGBoost\n",
        "\n",
        "8. [Conclusion](#cell-id8)\n",
        "\n",
        "   "
      ]
    },
    {
      "cell_type": "markdown",
      "metadata": {
        "id": "x5yE3E367k6x"
      },
      "source": [
        "<a name=\"cell-id1\"></a>\n",
        "# Packages"
      ]
    },
    {
      "cell_type": "code",
      "metadata": {
        "id": "NtHnUbla7lGA"
      },
      "source": [
        ""
      ],
      "execution_count": null,
      "outputs": []
    },
    {
      "cell_type": "markdown",
      "metadata": {
        "id": "mBe56vIs7lPY"
      },
      "source": [
        "<a name=\"cell-id2\"></a>\n",
        "# Data gathering"
      ]
    },
    {
      "cell_type": "code",
      "metadata": {
        "id": "GwN3ojXU7lWQ"
      },
      "source": [
        ""
      ],
      "execution_count": null,
      "outputs": []
    },
    {
      "cell_type": "markdown",
      "metadata": {
        "id": "nWvm9iCU7lcA"
      },
      "source": [
        "<a name=\"cell-id3\"></a>\n",
        "# Data Preprocessing"
      ]
    },
    {
      "cell_type": "code",
      "metadata": {
        "id": "1669sder7lhg"
      },
      "source": [
        ""
      ],
      "execution_count": null,
      "outputs": []
    },
    {
      "cell_type": "markdown",
      "metadata": {
        "id": "MT5YXL3I72yM"
      },
      "source": [
        "<a name=\"cell-id4\"></a>\n",
        "# Primary data analysis"
      ]
    },
    {
      "cell_type": "code",
      "metadata": {
        "id": "spDsXUXn73Ba"
      },
      "source": [
        ""
      ],
      "execution_count": null,
      "outputs": []
    },
    {
      "cell_type": "markdown",
      "metadata": {
        "id": "CPHUige47lmo"
      },
      "source": [
        "<a name=\"cell-id5\"></a>\n",
        "# Data featurization"
      ]
    },
    {
      "cell_type": "code",
      "metadata": {
        "id": "kk_LEhd27lr3"
      },
      "source": [
        ""
      ],
      "execution_count": null,
      "outputs": []
    },
    {
      "cell_type": "markdown",
      "metadata": {
        "id": "Cq6c0FZo7lxD"
      },
      "source": [
        "<a name=\"cell-id6\"></a>\n",
        "# Secondary data analysis"
      ]
    },
    {
      "cell_type": "code",
      "metadata": {
        "id": "-R1sja0w7l1p"
      },
      "source": [
        ""
      ],
      "execution_count": null,
      "outputs": []
    },
    {
      "cell_type": "markdown",
      "metadata": {
        "id": "2-Xp8fCo7l64"
      },
      "source": [
        "<a name=\"cell-id7\"></a>\n",
        "# ML model building"
      ]
    },
    {
      "cell_type": "code",
      "metadata": {
        "id": "ItvotM8T7l_q"
      },
      "source": [
        ""
      ],
      "execution_count": null,
      "outputs": []
    },
    {
      "cell_type": "markdown",
      "metadata": {
        "id": "5aiMZBGm7mEv"
      },
      "source": [
        "<a name=\"cell-id8\"></a>\n",
        "# Conclusion"
      ]
    },
    {
      "cell_type": "code",
      "metadata": {
        "id": "cSGMSYN97mN4"
      },
      "source": [
        ""
      ],
      "execution_count": null,
      "outputs": []
    }
  ]
}